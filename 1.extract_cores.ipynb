{
 "cells": [
  {
   "cell_type": "code",
   "execution_count": 5,
   "metadata": {},
   "outputs": [],
   "source": [
    "import json\n",
    "# from coreference_resolution import resolve_coreference\n",
    "from utils.parse_expr import get_template_and_replacements, get_simple_question_type\n",
    "\n",
    "exp_name = 'memory_core_1'\n",
    "\n",
    "wikidata_mid_to_fn = json.load(open('data/wikidata_mid_to_fn.json', 'r'))\n",
    "test_data = json.load(open('data/processed_spice_data/dev_each_type_50.json', 'r'))\n",
    "# test_data = json.load(open('output/dev_each_type_50/data.json', 'r'))\n",
    "\n",
    "def sub_mid_to_fn(expression):\n",
    "    seg_list = expression.split()\n",
    "    for i in range(len(seg_list)):\n",
    "        token = seg_list[i].strip(')(')\n",
    "        if token.startswith('P') or token.startswith('Q'):\n",
    "            fn = wikidata_mid_to_fn.get(token, \"unknown_entity\")\n",
    "            seg_list[i] = seg_list[i].replace(token, fn)\n",
    "    new_expression = ' '.join(seg_list)\n",
    "    return new_expression"
   ]
  },
  {
   "cell_type": "code",
   "execution_count": 6,
   "metadata": {},
   "outputs": [],
   "source": [
    "for qa in test_data:\n",
    "    # qa['coreference_resolved_question'] = resolve_coreference(qa['question'])\n",
    "    qa['s_expression_fn'] = sub_mid_to_fn(qa['s_expression'])\n",
    "    qa['s_expression_cores_fn'] = [sub_mid_to_fn(core) for core in qa['s_expression_cores']]\n",
    "    template, replacements = get_template_and_replacements(qa['s_expression'], qa['s_expression_cores'])\n",
    "    qa['template'] = template\n",
    "    qa['replacements'] = {\"variables\": {var: qa['s_expression_cores_fn'][replacements['variables'][var]] for var in replacements['variables']}, \"constants\": replacements['constants'], \"functions\": replacements['functions']}\n",
    "    qa['simple_question_type'] = get_simple_question_type(template)"
   ]
  },
  {
   "cell_type": "code",
   "execution_count": 7,
   "metadata": {},
   "outputs": [
    {
     "data": {
      "text/plain": [
       "[{'role': 'user',\n",
       "  'content': 'Which male person was the parent of Ludovico II, Marquess of Saluzzo ?'},\n",
       " {'role': 'assistant',\n",
       "  'content': '(AND (JOIN (R father) Ludovico_II,_Marquess_of_Saluzzo) (JOIN instance_of common_name))'},\n",
       " {'role': 'user', 'content': 'Who starred in Pardonnez-moi ?'},\n",
       " {'role': 'assistant',\n",
       "  'content': '(AND (JOIN (R cast_member) Pardonnez-moi) (JOIN instance_of common_name))'},\n",
       " {'role': 'user',\n",
       "  'content': 'What are the job of Christian Ernst von Windheim ?'},\n",
       " {'role': 'assistant',\n",
       "  'content': '(AND (JOIN (R occupation) Christian_Ernst_von_Windheim) (JOIN instance_of occupation))'},\n",
       " {'role': 'user', 'content': 'What is the sex of Kenneth Halverson ?'},\n",
       " {'role': 'assistant',\n",
       "  'content': '(AND (JOIN (R sex_or_gender) Kenneth_Halverson) (JOIN instance_of sex))'},\n",
       " {'role': 'user',\n",
       "  'content': 'Which nucleic acid sequence encodes acylglycerol lipase YKL094W ?'},\n",
       " {'role': 'assistant',\n",
       "  'content': '(AND (JOIN (R encoded_by) acylglycerol_lipase_YKL094W) (JOIN instance_of nucleic_acid_sequence))'},\n",
       " {'role': 'user',\n",
       "  'content': 'Which occupation is the profession of Maximiliano Calzada ?'},\n",
       " {'role': 'assistant',\n",
       "  'content': '(AND (JOIN (R occupation) Maximiliano_Calzada) (JOIN instance_of occupation))'},\n",
       " {'role': 'user', 'content': 'Which sex does Chris Broderick have ?'},\n",
       " {'role': 'assistant',\n",
       "  'content': '(AND (JOIN (R sex_or_gender) Chris_Broderick) (JOIN instance_of sex))'},\n",
       " {'role': 'user',\n",
       "  'content': 'Which administrative territory is the country of citizenship of Michael Brun ?'},\n",
       " {'role': 'assistant',\n",
       "  'content': '(AND (JOIN (R country_of_citizenship) Michael_Brun) (JOIN instance_of designation_for_an_administrative_territorial_entity))'},\n",
       " {'role': 'user',\n",
       "  'content': 'Which sports team is Elisa Aguilar a member of ?'},\n",
       " {'role': 'assistant',\n",
       "  'content': '(AND (JOIN (R member_of_sports_team) Elisa_Aguilar) (JOIN instance_of sports_team))'},\n",
       " {'role': 'user', 'content': 'What is encoded by OR1N2 ?'},\n",
       " {'role': 'assistant',\n",
       "  'content': '(AND (JOIN encoded_by OR1N2) (JOIN instance_of nutrient))'},\n",
       " {'role': 'user',\n",
       "  'content': 'Which works of art have actor as their main topic ?'},\n",
       " {'role': 'assistant',\n",
       "  'content': '(AND (JOIN main_subject actor) (JOIN instance_of work_of_art))'},\n",
       " {'role': 'user', 'content': 'Where is Châtelperronian located on ?'},\n",
       " {'role': 'assistant',\n",
       "  'content': '(AND (JOIN (R located_in/on_physical_feature) Châtelperronian) (JOIN instance_of landform))'},\n",
       " {'role': 'user',\n",
       "  'content': 'Which organizations were United Kingdom a member of ?'},\n",
       " {'role': 'assistant',\n",
       "  'content': '(AND (JOIN (R member_of) United_Kingdom) (JOIN instance_of international_organization))'},\n",
       " {'role': 'user', 'content': 'Which sex does Nancy Kemp-Arendt possess ?'},\n",
       " {'role': 'assistant',\n",
       "  'content': '(AND (JOIN (R sex_or_gender) Nancy_Kemp-Arendt) (JOIN instance_of sex))'},\n",
       " {'role': 'user',\n",
       "  'content': 'What is the parent organization of Columbus Nova?'},\n",
       " {'role': 'assistant',\n",
       "  'content': '(AND (JOIN (R parent_organization) Columbus_Nova) (JOIN instance_of business_enterprise))'},\n",
       " {'role': 'user',\n",
       "  'content': 'Output: Which cycling race has its origin at Rio de Janeiro?'},\n",
       " {'role': 'assistant',\n",
       "  'content': '(AND (JOIN start_point Rio_de_Janeiro) (JOIN instance_of cycling_race))'},\n",
       " {'role': 'user',\n",
       "  'content': 'What can be considered as category for the work of art Case Unknown?'},\n",
       " {'role': 'assistant',\n",
       "  'content': '(AND (JOIN (R genre) Case_Unknown) (JOIN instance_of genre))'},\n",
       " {'role': 'user',\n",
       "  'content': 'Are Sateliti a component of Anglic languages or Anglo-Frisian languages?'},\n",
       " {'role': 'assistant',\n",
       "  'content': '(IS_TRUE Sateliti part_of Anglic_languages)\\x1f(IS_TRUE Sateliti part_of Anglo-Frisian_languages)'},\n",
       " {'role': 'user',\n",
       "  'content': 'How many people have Gian Gabriele I of Saluzzo as their sibling ?'},\n",
       " {'role': 'assistant',\n",
       "  'content': '(AND (JOIN (R brother) Gian_Gabriele_I_of_Saluzzo) (JOIN instance_of common_name))'},\n",
       " {'role': 'user',\n",
       "  'content': 'How many administrative territories do Guillaume belong to ?'},\n",
       " {'role': 'assistant',\n",
       "  'content': '(AND (JOIN (R country_of_citizenship) Guillaume) (JOIN instance_of designation_for_an_administrative_territorial_entity))'},\n",
       " {'role': 'user',\n",
       "  'content': 'How many people are 7968 Elst-Pizarro named after?'},\n",
       " {'role': 'assistant',\n",
       "  'content': '(AND (JOIN (R named_after) 7968_Elst-Pizarro) (JOIN instance_of common_name))'},\n",
       " {'role': 'user',\n",
       "  'content': 'How many french administrative divisions share the border with Marsolan?'},\n",
       " {'role': 'assistant',\n",
       "  'content': '(AND (JOIN (R shares_border_with) Marsolan) (JOIN instance_of type_of_french_administrative_division))'},\n",
       " {'role': 'user',\n",
       "  'content': 'How many administrative territories are twin town of Madrid and Emirate of Dubai ?'},\n",
       " {'role': 'assistant',\n",
       "  'content': '(AND (JOIN twinned_administrative_body Madrid) (JOIN twinned_administrative_body Emirate_of_Dubai) (JOIN instance_of administrative_territorial_entity))'},\n",
       " {'role': 'user', 'content': 'Which book was published in Los Angeles?'},\n",
       " {'role': 'assistant',\n",
       "  'content': '(AND (JOIN place_of_publication Los_Angeles) (JOIN instance_of book))'},\n",
       " {'role': 'user', 'content': 'Output: Which concepts are located in France?'},\n",
       " {'role': 'assistant',\n",
       "  'content': '(AND (JOIN located_in/on_physical_feature France) (JOIN instance_of concept))'},\n",
       " {'role': 'user',\n",
       "  'content': 'Which classification schemes is English a part of?'},\n",
       " {'role': 'assistant',\n",
       "  'content': '(AND (JOIN (R part_of) English) (JOIN instance_of classification_scheme))'},\n",
       " {'role': 'user',\n",
       "  'content': 'Output: What is the country of origin of association football?'},\n",
       " {'role': 'assistant',\n",
       "  'content': '(AND (JOIN (R country_of_origin) association_football) (JOIN instance_of territorial_entity))'},\n",
       " {'role': 'user',\n",
       "  'content': 'Output: Which organizations have headquarters located at Germany?'},\n",
       " {'role': 'assistant',\n",
       "  'content': '(AND (JOIN headquarters_location Germany) (JOIN instance_of organization))'},\n",
       " {'role': 'user',\n",
       "  'content': 'Which US administrative territory applies to jurisdiction of member of the Texas House of Representatives?'},\n",
       " {'role': 'assistant',\n",
       "  'content': '(AND (JOIN (R applies_to_jurisdiction) member_of_the_Texas_House_of_Representatives) (JOIN instance_of administrative_territorial_entity_of_the_United_States))'},\n",
       " {'role': 'user',\n",
       "  'content': 'Which types of distinction were received by Thomas James Simpson?'},\n",
       " {'role': 'assistant',\n",
       "  'content': '(AND (JOIN (R award_received) Thomas_James_Simpson) (JOIN instance_of type_of_distinction))'},\n",
       " {'role': 'user',\n",
       "  'content': 'Which type of sport was athletics at the 2016 Summer Olympics a part of?'},\n",
       " {'role': 'assistant',\n",
       "  'content': '(AND (JOIN (R sport) athletics_at_the_2016_Summer_Olympics) (JOIN instance_of type_of_sport))'},\n",
       " {'role': 'user', 'content': 'Which sport was Florida Panthers a part of?'},\n",
       " {'role': 'assistant',\n",
       "  'content': '(AND (JOIN (R sport) Florida_Panthers) (JOIN instance_of sport))'},\n",
       " {'role': 'user',\n",
       "  'content': 'What did the Brunei national football team participate in?'},\n",
       " {'role': 'assistant',\n",
       "  'content': '(AND (JOIN (R sport) Brunei_national_football_team) (JOIN instance_of sport))'},\n",
       " {'role': 'user',\n",
       "  'content': 'Output: Which administrative territory does Myron Pryor belong to?'},\n",
       " {'role': 'assistant',\n",
       "  'content': '(AND (JOIN (R country_of_citizenship) Myron_Pryor) (JOIN instance_of designation_for_an_administrative_territorial_entity))'},\n",
       " {'role': 'user',\n",
       "  'content': 'Which chemical bonds represent molecular function of exonuclease V subunit beta O3K_05410?'},\n",
       " {'role': 'assistant',\n",
       "  'content': '(AND (JOIN (R molecular_function) exonuclease_V_subunit_beta____O3K_05410) (JOIN instance_of chemical_bond))'},\n",
       " {'role': 'user',\n",
       "  'content': 'Which works were described in min number of applications ?'},\n",
       " {'role': 'assistant',\n",
       "  'content': '(AND (JOIN fictional_universe_described_in (JOIN instance_of application)) (JOIN instance_of work))'},\n",
       " {'role': 'user', 'content': 'Which sex does Charles Divine have?'},\n",
       " {'role': 'assistant',\n",
       "  'content': '(AND (JOIN (R sex_or_gender) Charles_Divine) (JOIN instance_of sex))'},\n",
       " {'role': 'user',\n",
       "  'content': 'Which sports team is Dick Knostman a member of?'},\n",
       " {'role': 'assistant',\n",
       "  'content': '(AND (JOIN (R member_of_sports_team) Dick_Knostman) (JOIN instance_of sports_team))'},\n",
       " {'role': 'user', 'content': 'What is associated with Ethiopia?'},\n",
       " {'role': 'assistant',\n",
       "  'content': '(AND (JOIN (R flag) Ethiopia) (JOIN instance_of flag))'},\n",
       " {'role': 'user',\n",
       "  'content': 'How many musical ensembles did atmost 1 musical ensembles or people influence ?'},\n",
       " {'role': 'assistant',\n",
       "  'content': '(AND (JOIN influenced_by (JOIN instance_of musical_ensemble)) (JOIN instance_of musical_ensemble))\\x1f(AND (JOIN influenced_by (JOIN instance_of common_name)) (JOIN instance_of musical_ensemble))'},\n",
       " {'role': 'user',\n",
       "  'content': 'Which works of art have a setting location of Los Angeles and were originally created in English language ?'},\n",
       " {'role': 'assistant',\n",
       "  'content': '(AND (JOIN narrative_location Los_Angeles) (JOIN instance_of work_of_art) (JOIN original_language_of_film_or_TV_show English))'},\n",
       " {'role': 'user',\n",
       "  'content': \"Which languages are the original languages of creation of Pretty Persuasion, 3 Strikes, Psycho Cop 2, Black November, Memento, Last Vegas, Jack's Back, Trackdown, The Terminator, and The Italian Job?\"},\n",
       " {'role': 'assistant',\n",
       "  'content': \"(AND (JOIN (R original_language_of_film_or_TV_show) (VALUES Pretty_Persuasion 3_Strikes Psycho_Cop_2 Black_November Memento Last_Vegas Jack's_Back Trackdown The_Terminator The_Italian_Job)) (JOIN instance_of language))\"},\n",
       " {'role': 'user',\n",
       "  'content': 'Which cellular components are parts of plasma membrane and intracellular?'},\n",
       " {'role': 'assistant',\n",
       "  'content': '(AND (JOIN part_of (VALUES plasma_membrane intracellular)) (JOIN instance_of cellular_component))'},\n",
       " {'role': 'user',\n",
       "  'content': 'Output: Which administrative territories are the origins of lesser number of releases than United States of America?'},\n",
       " {'role': 'assistant',\n",
       "  'content': '(AND (JOIN (R country_of_origin) (JOIN instance_of release)) (JOIN instance_of designation_for_an_administrative_territorial_entity))\\x1f(AND (JOIN country_of_origin United_States_of_America) (JOIN instance_of release))'},\n",
       " {'role': 'user',\n",
       "  'content': 'Which political territories are the countries of origin of min number of works of art and collectables ?'},\n",
       " {'role': 'assistant',\n",
       "  'content': '(AND (JOIN (R country_of_origin) (JOIN instance_of work_of_art)) (JOIN instance_of political_territorial_entity))\\x1f(AND (JOIN (R country_of_origin) (JOIN instance_of collectable)) (JOIN instance_of political_territorial_entity))'},\n",
       " {'role': 'user',\n",
       "  'content': 'How many streets and roads are Père Lachaise Cemetery located on ?'},\n",
       " {'role': 'assistant',\n",
       "  'content': '(AND (JOIN (R located_on_street) Père_Lachaise_Cemetery) (JOIN instance_of street))\\x1f(AND (JOIN (R located_on_street) Père_Lachaise_Cemetery) (JOIN instance_of road))'},\n",
       " {'role': 'user',\n",
       "  'content': 'Does Finland have tactful political relations with Boa Nova and Canada ?'},\n",
       " {'role': 'assistant',\n",
       "  'content': '(IS_TRUE Boa_Nova diplomatic_relation Finland)\\x1f(IS_TRUE Canada diplomatic_relation Finland)'},\n",
       " {'role': 'user',\n",
       "  'content': 'How many currencies are accepted as the currency of lesser number of states or banks than pound sterling?'},\n",
       " {'role': 'assistant',\n",
       "  'content': '(AND (JOIN (R currency) (JOIN instance_of state)) (JOIN instance_of currency))\\x1f(AND (JOIN (R currency) (JOIN instance_of bank)) (JOIN instance_of currency))\\x1f(AND (JOIN currency pound_sterling) (JOIN instance_of state))\\x1f(AND (JOIN currency pound_sterling) (JOIN instance_of bank))'},\n",
       " {'role': 'user',\n",
       "  'content': 'How many people are the patron saint of atleast 2 occupations ?'},\n",
       " {'role': 'assistant',\n",
       "  'content': '(AND (JOIN (R patron_saint) (JOIN instance_of occupation)) (JOIN instance_of common_name))'},\n",
       " {'role': 'user',\n",
       "  'content': 'Which concepts have less number of educations and human actions as their field of occupation than antisemit?'},\n",
       " {'role': 'assistant',\n",
       "  'content': '(AND (JOIN field_of_this_occupation (JOIN instance_of education)) (JOIN instance_of concept))\\x1f(AND (JOIN field_of_this_occupation (JOIN instance_of human_action)) (JOIN instance_of concept))\\x1f(AND (JOIN (R field_of_this_occupation) antisemit) (JOIN instance_of education))\\x1f(AND (JOIN (R field_of_this_occupation) antisemit) (JOIN instance_of human_action))'},\n",
       " {'role': 'user',\n",
       "  'content': 'Which administrative territories are the countries of origin of around the same number of literary works or television programs as Kingdom of the Netherlands?'},\n",
       " {'role': 'assistant',\n",
       "  'content': '(AND (JOIN (R country_of_origin) (JOIN instance_of literary_work)) (JOIN instance_of designation_for_an_administrative_territorial_entity))\\x1f(AND (JOIN (R country_of_origin) (JOIN instance_of television_program)) (JOIN instance_of designation_for_an_administrative_territorial_entity))'},\n",
       " {'role': 'user',\n",
       "  'content': 'Which concepts do Michael Brun or Ivan Vaughan do for a living ?'},\n",
       " {'role': 'assistant',\n",
       "  'content': '(AND (JOIN (R occupation) Michael_Brun) (JOIN instance_of concept))\\x1f(AND (JOIN (R occupation) Ivan_Vaughan) (JOIN instance_of concept))'},\n",
       " {'role': 'user',\n",
       "  'content': 'Which works of art were notable works done by Klaus Härö or Robert Zemeckis?'},\n",
       " {'role': 'assistant',\n",
       "  'content': '(AND (JOIN (R notable_work) Klaus_Härö) (JOIN instance_of work_of_art))\\x1f(AND (JOIN (R notable_work) Robert_Zemeckis) (JOIN instance_of work_of_art))'},\n",
       " {'role': 'user',\n",
       "  'content': 'How many classification schemes are parts of approximately the same number of behaviors and activities as Media psychology?'},\n",
       " {'role': 'assistant',\n",
       "  'content': '(AND (JOIN part_of (JOIN instance_of behavior)) (JOIN instance_of classification_scheme))\\x1f(AND (JOIN part_of (JOIN instance_of activity)) (JOIN instance_of classification_scheme))'},\n",
       " {'role': 'user',\n",
       "  'content': 'How many classification schemes can be considered as genre of approximately the same number of works of art and applications as bottle episode?'},\n",
       " {'role': 'assistant',\n",
       "  'content': '(AND (JOIN (R genre) (JOIN instance_of work_of_art)) (JOIN instance_of classification_scheme))\\x1f(AND (JOIN (R genre) (JOIN instance_of application)) (JOIN instance_of classification_scheme))'},\n",
       " {'role': 'user',\n",
       "  'content': 'Which classification schemes are Anglo-Frisian languages a component of or are the vessel classes of German submarine U-251 ?'},\n",
       " {'role': 'assistant',\n",
       "  'content': '(AND (JOIN (R part_of) Anglo-Frisian_languages) (JOIN instance_of classification_scheme))\\x1f(AND (JOIN (R vessel_class) German_submarine_U-251) (JOIN instance_of classification_scheme))'},\n",
       " {'role': 'user',\n",
       "  'content': 'Which professions are greater number of professions the subordinate of than Zynga?'},\n",
       " {'role': 'assistant',\n",
       "  'content': '(AND (JOIN has_subsidiary (JOIN instance_of profession)) (JOIN instance_of profession))\\x1f(AND (JOIN (R has_subsidiary) Zynga) (JOIN instance_of profession))'},\n",
       " {'role': 'user',\n",
       "  'content': 'Which ship types are the registry port of approximately the same number of administrative territories as MV Arctic Sunrise ?'},\n",
       " {'role': 'assistant',\n",
       "  'content': '(AND (JOIN port_of_registry (JOIN instance_of administrative_territorial_entity)) (JOIN instance_of ship_type))'},\n",
       " {'role': 'user',\n",
       "  'content': 'Which administrative territories have diplomatic relations with around 23 administrative territories ?'},\n",
       " {'role': 'assistant',\n",
       "  'content': '(AND (JOIN diplomatic_relation (JOIN instance_of designation_for_an_administrative_territorial_entity)) (JOIN instance_of designation_for_an_administrative_territorial_entity))'},\n",
       " {'role': 'user',\n",
       "  'content': 'How many works of art is Fruit Chan a director of?'},\n",
       " {'role': 'assistant',\n",
       "  'content': '(AND (JOIN director Fruit_Chan) (JOIN instance_of work_of_art))'},\n",
       " {'role': 'user', 'content': 'Does Chst9 encode Olfactory receptor 1N2?'},\n",
       " {'role': 'assistant',\n",
       "  'content': '(IS_TRUE Olfactory_receptor_1N2 encoded_by Chst9)'},\n",
       " {'role': 'user',\n",
       "  'content': 'Is Germany the origin of 4.9.0 Friedhof Chiller ?'},\n",
       " {'role': 'assistant',\n",
       "  'content': '(IS_TRUE 4.9.0_Friedhof_Chiller country_of_origin Germany)'},\n",
       " {'role': 'user',\n",
       "  'content': 'Which administrative territories marks the end of journey for lesser number of types of sport than Kuala Kangsar?'},\n",
       " {'role': 'assistant',\n",
       "  'content': '(AND (JOIN (R destination_point) (JOIN instance_of type_of_sport)) (JOIN instance_of administrative_territorial_entity))\\x1f(AND (JOIN destination_point Kuala_Kangsar) (JOIN instance_of type_of_sport))'},\n",
       " {'role': 'user',\n",
       "  'content': 'Which parliament was United Kingdom a member of?'},\n",
       " {'role': 'assistant',\n",
       "  'content': '(AND (JOIN (R member_of) United_Kingdom) (JOIN instance_of parliament))'},\n",
       " {'role': 'user',\n",
       "  'content': 'How many world championships and administrative territories are located at Italy?'},\n",
       " {'role': 'assistant',\n",
       "  'content': '(AND (JOIN location Italy) (JOIN instance_of world_championship))\\x1f(AND (JOIN location Italy) (JOIN instance_of administrative_territorial_entity))'},\n",
       " {'role': 'user',\n",
       "  'content': 'What do Dolly Parton, Oscar Robertson and Carl Smith do for a living ?'},\n",
       " {'role': 'assistant',\n",
       "  'content': '(AND (JOIN (R occupation) (VALUES Dolly_Parton Oscar_Robertson Carl_Smith)) (JOIN instance_of occupation))'},\n",
       " {'role': 'user',\n",
       "  'content': 'Which visual artss have the character Applejack and Pumpkin Cake ?'},\n",
       " {'role': 'assistant',\n",
       "  'content': '(AND (JOIN characters Applejack) (JOIN instance_of visual_arts) (JOIN characters Pumpkin_Cake))'},\n",
       " {'role': 'user',\n",
       "  'content': 'Is Fort Worth a sister city of Adamsville, New Brunswick and Yuen Long Kau Hui?'},\n",
       " {'role': 'assistant',\n",
       "  'content': '(IS_TRUE Adamsville,_New_Brunswick twinned_administrative_body Fort_Worth)\\x1f(IS_TRUE Yuen_Long_Kau_Hui twinned_administrative_body Fort_Worth)'},\n",
       " {'role': 'user',\n",
       "  'content': 'Does Francesco Starace have career as a politician?'},\n",
       " {'role': 'assistant',\n",
       "  'content': '(IS_TRUE politician occupation Francesco_Starace)'},\n",
       " {'role': 'user',\n",
       "  'content': 'Which sports are considered to be the main utilization of atleast 1 structures or ship types ?'},\n",
       " {'role': 'assistant',\n",
       "  'content': '(AND (JOIN (R has_use) (JOIN instance_of structure)) (JOIN instance_of sport))\\x1f(AND (JOIN (R has_use) (JOIN instance_of ship_type)) (JOIN instance_of sport))'},\n",
       " {'role': 'user',\n",
       "  'content': 'Which languages have a connection with lesser number of documents and terms than Latin?'},\n",
       " {'role': 'assistant',\n",
       "  'content': '(AND (JOIN (R language) (JOIN instance_of document)) (JOIN instance_of language))\\x1f(AND (JOIN (R language) (JOIN instance_of term)) (JOIN instance_of language))\\x1f(AND (JOIN language Latin) (JOIN instance_of document))\\x1f(AND (JOIN language Latin) (JOIN instance_of term))'},\n",
       " {'role': 'user',\n",
       "  'content': 'How many people are the names of the patron saint of greater number of occupations than Anterus ?'},\n",
       " {'role': 'assistant',\n",
       "  'content': '(AND (JOIN (R patron_saint) (JOIN instance_of occupation)) (JOIN instance_of common_name))\\x1f(AND (JOIN (R patron_saint) Anterus) (JOIN instance_of common_name))'},\n",
       " {'role': 'user',\n",
       "  'content': 'How many political territories have tactful political relations with less number of administrative territories than Australia ?'},\n",
       " {'role': 'assistant',\n",
       "  'content': '(AND (JOIN diplomatic_relation (JOIN instance_of designation_for_an_administrative_territorial_entity)) (JOIN instance_of political_territorial_entity))\\x1f(AND (JOIN (R diplomatic_relation) Australia) (JOIN instance_of designation_for_an_administrative_territorial_entity))'},\n",
       " {'role': 'user',\n",
       "  'content': 'How many political territories have tactful political relations with less number of administrative territories than Canada?'},\n",
       " {'role': 'assistant',\n",
       "  'content': '(AND (JOIN diplomatic_relation (JOIN instance_of designation_for_an_administrative_territorial_entity)) (JOIN instance_of political_territorial_entity))\\x1f(AND (JOIN (R diplomatic_relation) Canada) (JOIN instance_of designation_for_an_administrative_territorial_entity))'},\n",
       " {'role': 'user', 'content': 'Which sex does Mayumi Tsuchiya possess?'},\n",
       " {'role': 'assistant',\n",
       "  'content': '(AND (JOIN (R sex_or_gender) Nancy_Kemp-Arendt) (JOIN instance_of sex) (JOIN (R sex_or_gender) Mayumi_Tsuchiya))'},\n",
       " {'role': 'user',\n",
       "  'content': 'Which ideologies are the political ideologies of the Labour Party?'},\n",
       " {'role': 'assistant',\n",
       "  'content': '(AND (JOIN (R political_ideology) Labour_Party) (JOIN instance_of ideology))\\x1f(AND (JOIN (R political_ideology) Palestine_Liberation_Front) (JOIN instance_of ideology))'},\n",
       " {'role': 'user',\n",
       "  'content': 'Which works of art originated in Brazil but not United Kingdom ?'},\n",
       " {'role': 'assistant',\n",
       "  'content': '(AND (JOIN country_of_origin Brazil) (JOIN instance_of work_of_art))\\x1f(JOIN country_of_origin United_Kingdom)'},\n",
       " {'role': 'user',\n",
       "  'content': 'Which administrative territories holds diplomatic relationship with Germany and are not the countries of citizenship of Kerem Görsev ?'},\n",
       " {'role': 'assistant',\n",
       "  'content': '(AND (JOIN (R diplomatic_relation) Germany) (JOIN instance_of designation_for_an_administrative_territorial_entity))\\x1f(JOIN (R country_of_citizenship) Kerem_Görsev)'},\n",
       " {'role': 'user',\n",
       "  'content': \"Output: How many universities have fewer alumni than King's College London?\"},\n",
       " {'role': 'assistant',\n",
       "  'content': \"(AND (JOIN (R educated_at) (JOIN instance_of common_name)) (JOIN instance_of university))\\x1f(AND (JOIN educated_at King's_College_London) (JOIN instance_of common_name))\"}]"
      ]
     },
     "execution_count": 7,
     "metadata": {},
     "output_type": "execute_result"
    }
   ],
   "source": [
    "s_expression_cores_examples = json.load(open('data/example/s_expression_cores.json', 'r'))\n",
    "\n",
    "examples = []\n",
    "for qa in s_expression_cores_examples:\n",
    "    examples.append({'role': 'user', 'content': qa['coreference_resolved_question']})\n",
    "    examples.append({'role': 'assistant', 'content': '\\u001F'.join(qa['s_expression_cores_fn'])})\n",
    "examples"
   ]
  },
  {
   "cell_type": "code",
   "execution_count": 8,
   "metadata": {},
   "outputs": [
    {
     "name": "stdout",
     "output_type": "stream",
     "text": [
      "[('sk-54964e5c3b8c4998a74f7d3e35b618ac', 'https://api.deepseek.com', 'deepseek-chat'), ('sk-785362add9834d1da5907f4621dc90a8', 'https://api.deepseek.com', 'deepseek-chat')]\n",
      "batch: 1/190\n"
     ]
    },
    {
     "name": "stderr",
     "output_type": "stream",
     "text": [
      "100%|██████████| 20/20 [03:31<00:00, 10.56s/it]\n"
     ]
    },
    {
     "name": "stdout",
     "output_type": "stream",
     "text": [
      "batch: 2/190\n"
     ]
    },
    {
     "name": "stderr",
     "output_type": "stream",
     "text": [
      "100%|██████████| 20/20 [01:11<00:00,  3.58s/it]\n"
     ]
    },
    {
     "name": "stdout",
     "output_type": "stream",
     "text": [
      "batch: 3/190\n"
     ]
    },
    {
     "name": "stderr",
     "output_type": "stream",
     "text": [
      "100%|██████████| 20/20 [00:18<00:00,  1.07it/s]\n"
     ]
    },
    {
     "name": "stdout",
     "output_type": "stream",
     "text": [
      "batch: 4/190\n"
     ]
    },
    {
     "name": "stderr",
     "output_type": "stream",
     "text": [
      "100%|██████████| 20/20 [00:18<00:00,  1.06it/s]\n"
     ]
    },
    {
     "name": "stdout",
     "output_type": "stream",
     "text": [
      "batch: 5/190\n"
     ]
    },
    {
     "name": "stderr",
     "output_type": "stream",
     "text": [
      "100%|██████████| 20/20 [00:13<00:00,  1.44it/s]\n"
     ]
    },
    {
     "name": "stdout",
     "output_type": "stream",
     "text": [
      "batch: 6/190\n"
     ]
    },
    {
     "name": "stderr",
     "output_type": "stream",
     "text": [
      "100%|██████████| 20/20 [00:13<00:00,  1.46it/s]\n"
     ]
    },
    {
     "name": "stdout",
     "output_type": "stream",
     "text": [
      "batch: 7/190\n"
     ]
    },
    {
     "name": "stderr",
     "output_type": "stream",
     "text": [
      "100%|██████████| 20/20 [00:14<00:00,  1.38it/s]\n"
     ]
    },
    {
     "name": "stdout",
     "output_type": "stream",
     "text": [
      "batch: 8/190\n"
     ]
    },
    {
     "name": "stderr",
     "output_type": "stream",
     "text": [
      "100%|██████████| 20/20 [00:15<00:00,  1.32it/s]\n"
     ]
    },
    {
     "name": "stdout",
     "output_type": "stream",
     "text": [
      "batch: 9/190\n"
     ]
    },
    {
     "name": "stderr",
     "output_type": "stream",
     "text": [
      "100%|██████████| 20/20 [00:16<00:00,  1.21it/s]\n"
     ]
    },
    {
     "name": "stdout",
     "output_type": "stream",
     "text": [
      "batch: 10/190\n"
     ]
    },
    {
     "name": "stderr",
     "output_type": "stream",
     "text": [
      "100%|██████████| 20/20 [00:16<00:00,  1.25it/s]\n"
     ]
    },
    {
     "name": "stdout",
     "output_type": "stream",
     "text": [
      "batch: 11/190\n"
     ]
    },
    {
     "name": "stderr",
     "output_type": "stream",
     "text": [
      "100%|██████████| 20/20 [00:23<00:00,  1.16s/it]\n"
     ]
    },
    {
     "name": "stdout",
     "output_type": "stream",
     "text": [
      "batch: 12/190\n"
     ]
    },
    {
     "name": "stderr",
     "output_type": "stream",
     "text": [
      "100%|██████████| 20/20 [00:15<00:00,  1.27it/s]\n"
     ]
    },
    {
     "name": "stdout",
     "output_type": "stream",
     "text": [
      "batch: 13/190\n"
     ]
    },
    {
     "name": "stderr",
     "output_type": "stream",
     "text": [
      "100%|██████████| 20/20 [00:14<00:00,  1.37it/s]\n"
     ]
    },
    {
     "name": "stdout",
     "output_type": "stream",
     "text": [
      "batch: 14/190\n"
     ]
    },
    {
     "name": "stderr",
     "output_type": "stream",
     "text": [
      "100%|██████████| 20/20 [00:13<00:00,  1.44it/s]\n"
     ]
    },
    {
     "name": "stdout",
     "output_type": "stream",
     "text": [
      "batch: 15/190\n"
     ]
    },
    {
     "name": "stderr",
     "output_type": "stream",
     "text": [
      "100%|██████████| 20/20 [00:16<00:00,  1.21it/s]\n"
     ]
    },
    {
     "name": "stdout",
     "output_type": "stream",
     "text": [
      "batch: 16/190\n"
     ]
    },
    {
     "name": "stderr",
     "output_type": "stream",
     "text": [
      "100%|██████████| 20/20 [00:15<00:00,  1.31it/s]\n"
     ]
    },
    {
     "name": "stdout",
     "output_type": "stream",
     "text": [
      "batch: 17/190\n"
     ]
    },
    {
     "name": "stderr",
     "output_type": "stream",
     "text": [
      "100%|██████████| 20/20 [00:13<00:00,  1.49it/s]\n"
     ]
    },
    {
     "name": "stdout",
     "output_type": "stream",
     "text": [
      "batch: 18/190\n"
     ]
    },
    {
     "name": "stderr",
     "output_type": "stream",
     "text": [
      "100%|██████████| 20/20 [00:13<00:00,  1.44it/s]\n"
     ]
    },
    {
     "name": "stdout",
     "output_type": "stream",
     "text": [
      "batch: 19/190\n"
     ]
    },
    {
     "name": "stderr",
     "output_type": "stream",
     "text": [
      "100%|██████████| 20/20 [00:15<00:00,  1.28it/s]\n"
     ]
    },
    {
     "name": "stdout",
     "output_type": "stream",
     "text": [
      "batch: 20/190\n"
     ]
    },
    {
     "name": "stderr",
     "output_type": "stream",
     "text": [
      "100%|██████████| 20/20 [00:15<00:00,  1.31it/s]\n"
     ]
    },
    {
     "name": "stdout",
     "output_type": "stream",
     "text": [
      "batch: 21/190\n"
     ]
    },
    {
     "name": "stderr",
     "output_type": "stream",
     "text": [
      "100%|██████████| 20/20 [00:15<00:00,  1.30it/s]\n"
     ]
    },
    {
     "name": "stdout",
     "output_type": "stream",
     "text": [
      "batch: 22/190\n"
     ]
    },
    {
     "name": "stderr",
     "output_type": "stream",
     "text": [
      "100%|██████████| 20/20 [00:15<00:00,  1.33it/s]\n"
     ]
    },
    {
     "name": "stdout",
     "output_type": "stream",
     "text": [
      "batch: 23/190\n"
     ]
    },
    {
     "name": "stderr",
     "output_type": "stream",
     "text": [
      "100%|██████████| 20/20 [00:12<00:00,  1.57it/s]\n"
     ]
    },
    {
     "name": "stdout",
     "output_type": "stream",
     "text": [
      "batch: 24/190\n"
     ]
    },
    {
     "name": "stderr",
     "output_type": "stream",
     "text": [
      "100%|██████████| 20/20 [00:13<00:00,  1.43it/s]\n"
     ]
    },
    {
     "name": "stdout",
     "output_type": "stream",
     "text": [
      "batch: 25/190\n"
     ]
    },
    {
     "name": "stderr",
     "output_type": "stream",
     "text": [
      "100%|██████████| 20/20 [00:20<00:00,  1.01s/it]\n"
     ]
    },
    {
     "name": "stdout",
     "output_type": "stream",
     "text": [
      "batch: 26/190\n"
     ]
    },
    {
     "name": "stderr",
     "output_type": "stream",
     "text": [
      "100%|██████████| 20/20 [00:18<00:00,  1.09it/s]\n"
     ]
    },
    {
     "name": "stdout",
     "output_type": "stream",
     "text": [
      "batch: 27/190\n"
     ]
    },
    {
     "name": "stderr",
     "output_type": "stream",
     "text": [
      "100%|██████████| 20/20 [00:15<00:00,  1.33it/s]\n"
     ]
    },
    {
     "name": "stdout",
     "output_type": "stream",
     "text": [
      "batch: 28/190\n"
     ]
    },
    {
     "name": "stderr",
     "output_type": "stream",
     "text": [
      "100%|██████████| 20/20 [00:14<00:00,  1.39it/s]\n"
     ]
    },
    {
     "name": "stdout",
     "output_type": "stream",
     "text": [
      "batch: 29/190\n"
     ]
    },
    {
     "name": "stderr",
     "output_type": "stream",
     "text": [
      "100%|██████████| 20/20 [00:16<00:00,  1.24it/s]\n"
     ]
    },
    {
     "name": "stdout",
     "output_type": "stream",
     "text": [
      "batch: 30/190\n"
     ]
    },
    {
     "name": "stderr",
     "output_type": "stream",
     "text": [
      "100%|██████████| 20/20 [00:16<00:00,  1.22it/s]\n"
     ]
    },
    {
     "name": "stdout",
     "output_type": "stream",
     "text": [
      "batch: 31/190\n"
     ]
    },
    {
     "name": "stderr",
     "output_type": "stream",
     "text": [
      "100%|██████████| 20/20 [00:12<00:00,  1.61it/s]\n"
     ]
    },
    {
     "name": "stdout",
     "output_type": "stream",
     "text": [
      "batch: 32/190\n"
     ]
    },
    {
     "name": "stderr",
     "output_type": "stream",
     "text": [
      "100%|██████████| 20/20 [00:12<00:00,  1.62it/s]\n"
     ]
    },
    {
     "name": "stdout",
     "output_type": "stream",
     "text": [
      "batch: 33/190\n"
     ]
    },
    {
     "name": "stderr",
     "output_type": "stream",
     "text": [
      "100%|██████████| 20/20 [00:17<00:00,  1.14it/s]\n"
     ]
    },
    {
     "name": "stdout",
     "output_type": "stream",
     "text": [
      "batch: 34/190\n"
     ]
    },
    {
     "name": "stderr",
     "output_type": "stream",
     "text": [
      "100%|██████████| 20/20 [00:15<00:00,  1.26it/s]\n"
     ]
    },
    {
     "name": "stdout",
     "output_type": "stream",
     "text": [
      "batch: 35/190\n"
     ]
    },
    {
     "name": "stderr",
     "output_type": "stream",
     "text": [
      "100%|██████████| 20/20 [00:15<00:00,  1.25it/s]\n"
     ]
    },
    {
     "name": "stdout",
     "output_type": "stream",
     "text": [
      "batch: 36/190\n"
     ]
    },
    {
     "name": "stderr",
     "output_type": "stream",
     "text": [
      "100%|██████████| 20/20 [00:14<00:00,  1.35it/s]\n"
     ]
    },
    {
     "name": "stdout",
     "output_type": "stream",
     "text": [
      "batch: 37/190\n"
     ]
    },
    {
     "name": "stderr",
     "output_type": "stream",
     "text": [
      "100%|██████████| 20/20 [00:14<00:00,  1.38it/s]\n"
     ]
    },
    {
     "name": "stdout",
     "output_type": "stream",
     "text": [
      "batch: 38/190\n"
     ]
    },
    {
     "name": "stderr",
     "output_type": "stream",
     "text": [
      "100%|██████████| 20/20 [00:14<00:00,  1.41it/s]\n"
     ]
    },
    {
     "name": "stdout",
     "output_type": "stream",
     "text": [
      "batch: 39/190\n"
     ]
    },
    {
     "name": "stderr",
     "output_type": "stream",
     "text": [
      "100%|██████████| 20/20 [00:15<00:00,  1.30it/s]\n"
     ]
    },
    {
     "name": "stdout",
     "output_type": "stream",
     "text": [
      "batch: 40/190\n"
     ]
    },
    {
     "name": "stderr",
     "output_type": "stream",
     "text": [
      "100%|██████████| 20/20 [00:12<00:00,  1.55it/s]\n"
     ]
    },
    {
     "name": "stdout",
     "output_type": "stream",
     "text": [
      "batch: 41/190\n"
     ]
    },
    {
     "name": "stderr",
     "output_type": "stream",
     "text": [
      "100%|██████████| 20/20 [00:15<00:00,  1.32it/s]\n"
     ]
    },
    {
     "name": "stdout",
     "output_type": "stream",
     "text": [
      "batch: 42/190\n"
     ]
    },
    {
     "name": "stderr",
     "output_type": "stream",
     "text": [
      "100%|██████████| 20/20 [00:16<00:00,  1.18it/s]\n"
     ]
    },
    {
     "name": "stdout",
     "output_type": "stream",
     "text": [
      "batch: 43/190\n"
     ]
    },
    {
     "name": "stderr",
     "output_type": "stream",
     "text": [
      "100%|██████████| 20/20 [00:13<00:00,  1.51it/s]\n"
     ]
    },
    {
     "name": "stdout",
     "output_type": "stream",
     "text": [
      "batch: 44/190\n"
     ]
    },
    {
     "name": "stderr",
     "output_type": "stream",
     "text": [
      "100%|██████████| 20/20 [00:14<00:00,  1.37it/s]\n"
     ]
    },
    {
     "name": "stdout",
     "output_type": "stream",
     "text": [
      "batch: 45/190\n"
     ]
    },
    {
     "name": "stderr",
     "output_type": "stream",
     "text": [
      "100%|██████████| 20/20 [00:13<00:00,  1.47it/s]\n"
     ]
    },
    {
     "name": "stdout",
     "output_type": "stream",
     "text": [
      "batch: 46/190\n"
     ]
    },
    {
     "name": "stderr",
     "output_type": "stream",
     "text": [
      "100%|██████████| 20/20 [00:12<00:00,  1.58it/s]\n"
     ]
    },
    {
     "name": "stdout",
     "output_type": "stream",
     "text": [
      "batch: 47/190\n"
     ]
    },
    {
     "name": "stderr",
     "output_type": "stream",
     "text": [
      "100%|██████████| 20/20 [00:11<00:00,  1.72it/s]\n"
     ]
    },
    {
     "name": "stdout",
     "output_type": "stream",
     "text": [
      "batch: 48/190\n"
     ]
    },
    {
     "name": "stderr",
     "output_type": "stream",
     "text": [
      "100%|██████████| 20/20 [00:14<00:00,  1.33it/s]\n"
     ]
    },
    {
     "name": "stdout",
     "output_type": "stream",
     "text": [
      "batch: 49/190\n"
     ]
    },
    {
     "name": "stderr",
     "output_type": "stream",
     "text": [
      "100%|██████████| 20/20 [00:16<00:00,  1.24it/s]\n"
     ]
    },
    {
     "name": "stdout",
     "output_type": "stream",
     "text": [
      "batch: 50/190\n"
     ]
    },
    {
     "name": "stderr",
     "output_type": "stream",
     "text": [
      "100%|██████████| 20/20 [00:15<00:00,  1.32it/s]\n"
     ]
    },
    {
     "name": "stdout",
     "output_type": "stream",
     "text": [
      "batch: 51/190\n"
     ]
    },
    {
     "name": "stderr",
     "output_type": "stream",
     "text": [
      "100%|██████████| 20/20 [00:13<00:00,  1.51it/s]\n"
     ]
    },
    {
     "name": "stdout",
     "output_type": "stream",
     "text": [
      "batch: 52/190\n"
     ]
    },
    {
     "name": "stderr",
     "output_type": "stream",
     "text": [
      "100%|██████████| 20/20 [00:14<00:00,  1.42it/s]\n"
     ]
    },
    {
     "name": "stdout",
     "output_type": "stream",
     "text": [
      "batch: 53/190\n"
     ]
    },
    {
     "name": "stderr",
     "output_type": "stream",
     "text": [
      "100%|██████████| 20/20 [00:15<00:00,  1.27it/s]\n"
     ]
    },
    {
     "name": "stdout",
     "output_type": "stream",
     "text": [
      "batch: 54/190\n"
     ]
    },
    {
     "name": "stderr",
     "output_type": "stream",
     "text": [
      "100%|██████████| 20/20 [00:15<00:00,  1.25it/s]\n"
     ]
    },
    {
     "name": "stdout",
     "output_type": "stream",
     "text": [
      "batch: 55/190\n"
     ]
    },
    {
     "name": "stderr",
     "output_type": "stream",
     "text": [
      "100%|██████████| 20/20 [00:17<00:00,  1.17it/s]\n"
     ]
    },
    {
     "name": "stdout",
     "output_type": "stream",
     "text": [
      "batch: 56/190\n"
     ]
    },
    {
     "name": "stderr",
     "output_type": "stream",
     "text": [
      "100%|██████████| 20/20 [00:13<00:00,  1.48it/s]\n"
     ]
    },
    {
     "name": "stdout",
     "output_type": "stream",
     "text": [
      "batch: 57/190\n"
     ]
    },
    {
     "name": "stderr",
     "output_type": "stream",
     "text": [
      "100%|██████████| 20/20 [00:13<00:00,  1.46it/s]\n"
     ]
    },
    {
     "name": "stdout",
     "output_type": "stream",
     "text": [
      "batch: 58/190\n"
     ]
    },
    {
     "name": "stderr",
     "output_type": "stream",
     "text": [
      "100%|██████████| 20/20 [00:12<00:00,  1.55it/s]\n"
     ]
    },
    {
     "name": "stdout",
     "output_type": "stream",
     "text": [
      "batch: 59/190\n"
     ]
    },
    {
     "name": "stderr",
     "output_type": "stream",
     "text": [
      "100%|██████████| 20/20 [00:15<00:00,  1.27it/s]\n"
     ]
    },
    {
     "name": "stdout",
     "output_type": "stream",
     "text": [
      "batch: 60/190\n"
     ]
    },
    {
     "name": "stderr",
     "output_type": "stream",
     "text": [
      "100%|██████████| 20/20 [00:14<00:00,  1.39it/s]\n"
     ]
    },
    {
     "name": "stdout",
     "output_type": "stream",
     "text": [
      "batch: 61/190\n"
     ]
    },
    {
     "name": "stderr",
     "output_type": "stream",
     "text": [
      "100%|██████████| 20/20 [00:14<00:00,  1.39it/s]\n"
     ]
    },
    {
     "name": "stdout",
     "output_type": "stream",
     "text": [
      "batch: 62/190\n"
     ]
    },
    {
     "name": "stderr",
     "output_type": "stream",
     "text": [
      "100%|██████████| 20/20 [00:13<00:00,  1.52it/s]\n"
     ]
    },
    {
     "name": "stdout",
     "output_type": "stream",
     "text": [
      "batch: 63/190\n"
     ]
    },
    {
     "name": "stderr",
     "output_type": "stream",
     "text": [
      "100%|██████████| 20/20 [00:16<00:00,  1.20it/s]\n"
     ]
    },
    {
     "name": "stdout",
     "output_type": "stream",
     "text": [
      "batch: 64/190\n"
     ]
    },
    {
     "name": "stderr",
     "output_type": "stream",
     "text": [
      "100%|██████████| 20/20 [00:17<00:00,  1.17it/s]\n"
     ]
    },
    {
     "name": "stdout",
     "output_type": "stream",
     "text": [
      "batch: 65/190\n"
     ]
    },
    {
     "name": "stderr",
     "output_type": "stream",
     "text": [
      "100%|██████████| 20/20 [00:14<00:00,  1.37it/s]\n"
     ]
    },
    {
     "name": "stdout",
     "output_type": "stream",
     "text": [
      "batch: 66/190\n"
     ]
    },
    {
     "name": "stderr",
     "output_type": "stream",
     "text": [
      "100%|██████████| 20/20 [00:13<00:00,  1.48it/s]\n"
     ]
    },
    {
     "name": "stdout",
     "output_type": "stream",
     "text": [
      "batch: 67/190\n"
     ]
    },
    {
     "name": "stderr",
     "output_type": "stream",
     "text": [
      "100%|██████████| 20/20 [00:14<00:00,  1.42it/s]\n"
     ]
    },
    {
     "name": "stdout",
     "output_type": "stream",
     "text": [
      "batch: 68/190\n"
     ]
    },
    {
     "name": "stderr",
     "output_type": "stream",
     "text": [
      "100%|██████████| 20/20 [00:15<00:00,  1.27it/s]\n"
     ]
    },
    {
     "name": "stdout",
     "output_type": "stream",
     "text": [
      "batch: 69/190\n"
     ]
    },
    {
     "name": "stderr",
     "output_type": "stream",
     "text": [
      "100%|██████████| 20/20 [00:14<00:00,  1.35it/s]\n"
     ]
    },
    {
     "name": "stdout",
     "output_type": "stream",
     "text": [
      "batch: 70/190\n"
     ]
    },
    {
     "name": "stderr",
     "output_type": "stream",
     "text": [
      "100%|██████████| 20/20 [00:13<00:00,  1.43it/s]\n"
     ]
    },
    {
     "name": "stdout",
     "output_type": "stream",
     "text": [
      "batch: 71/190\n"
     ]
    },
    {
     "name": "stderr",
     "output_type": "stream",
     "text": [
      "100%|██████████| 20/20 [00:16<00:00,  1.24it/s]\n"
     ]
    },
    {
     "name": "stdout",
     "output_type": "stream",
     "text": [
      "batch: 72/190\n"
     ]
    },
    {
     "name": "stderr",
     "output_type": "stream",
     "text": [
      "100%|██████████| 20/20 [00:18<00:00,  1.07it/s]\n"
     ]
    },
    {
     "name": "stdout",
     "output_type": "stream",
     "text": [
      "batch: 73/190\n"
     ]
    },
    {
     "name": "stderr",
     "output_type": "stream",
     "text": [
      "100%|██████████| 20/20 [00:16<00:00,  1.19it/s]\n"
     ]
    },
    {
     "name": "stdout",
     "output_type": "stream",
     "text": [
      "batch: 74/190\n"
     ]
    },
    {
     "name": "stderr",
     "output_type": "stream",
     "text": [
      "100%|██████████| 20/20 [00:18<00:00,  1.05it/s]\n"
     ]
    },
    {
     "name": "stdout",
     "output_type": "stream",
     "text": [
      "batch: 75/190\n"
     ]
    },
    {
     "name": "stderr",
     "output_type": "stream",
     "text": [
      "100%|██████████| 20/20 [00:17<00:00,  1.17it/s]\n"
     ]
    },
    {
     "name": "stdout",
     "output_type": "stream",
     "text": [
      "batch: 76/190\n"
     ]
    },
    {
     "name": "stderr",
     "output_type": "stream",
     "text": [
      "100%|██████████| 20/20 [00:16<00:00,  1.20it/s]\n"
     ]
    },
    {
     "name": "stdout",
     "output_type": "stream",
     "text": [
      "batch: 77/190\n"
     ]
    },
    {
     "name": "stderr",
     "output_type": "stream",
     "text": [
      "100%|██████████| 20/20 [00:12<00:00,  1.58it/s]\n"
     ]
    },
    {
     "name": "stdout",
     "output_type": "stream",
     "text": [
      "batch: 78/190\n"
     ]
    },
    {
     "name": "stderr",
     "output_type": "stream",
     "text": [
      "100%|██████████| 20/20 [00:15<00:00,  1.30it/s]\n"
     ]
    },
    {
     "name": "stdout",
     "output_type": "stream",
     "text": [
      "batch: 79/190\n"
     ]
    },
    {
     "name": "stderr",
     "output_type": "stream",
     "text": [
      "100%|██████████| 20/20 [00:16<00:00,  1.23it/s]\n"
     ]
    },
    {
     "name": "stdout",
     "output_type": "stream",
     "text": [
      "batch: 80/190\n"
     ]
    },
    {
     "name": "stderr",
     "output_type": "stream",
     "text": [
      "100%|██████████| 20/20 [00:15<00:00,  1.31it/s]\n"
     ]
    },
    {
     "name": "stdout",
     "output_type": "stream",
     "text": [
      "batch: 81/190\n"
     ]
    },
    {
     "name": "stderr",
     "output_type": "stream",
     "text": [
      "100%|██████████| 20/20 [00:14<00:00,  1.39it/s]\n"
     ]
    },
    {
     "name": "stdout",
     "output_type": "stream",
     "text": [
      "batch: 82/190\n"
     ]
    },
    {
     "name": "stderr",
     "output_type": "stream",
     "text": [
      "100%|██████████| 20/20 [00:15<00:00,  1.28it/s]\n"
     ]
    },
    {
     "name": "stdout",
     "output_type": "stream",
     "text": [
      "batch: 83/190\n"
     ]
    },
    {
     "name": "stderr",
     "output_type": "stream",
     "text": [
      "100%|██████████| 20/20 [00:14<00:00,  1.42it/s]\n"
     ]
    },
    {
     "name": "stdout",
     "output_type": "stream",
     "text": [
      "batch: 84/190\n"
     ]
    },
    {
     "name": "stderr",
     "output_type": "stream",
     "text": [
      "100%|██████████| 20/20 [00:14<00:00,  1.40it/s]\n"
     ]
    },
    {
     "name": "stdout",
     "output_type": "stream",
     "text": [
      "batch: 85/190\n"
     ]
    },
    {
     "name": "stderr",
     "output_type": "stream",
     "text": [
      "100%|██████████| 20/20 [00:14<00:00,  1.42it/s]\n"
     ]
    },
    {
     "name": "stdout",
     "output_type": "stream",
     "text": [
      "batch: 86/190\n"
     ]
    },
    {
     "name": "stderr",
     "output_type": "stream",
     "text": [
      "100%|██████████| 20/20 [00:14<00:00,  1.40it/s]\n"
     ]
    },
    {
     "name": "stdout",
     "output_type": "stream",
     "text": [
      "batch: 87/190\n"
     ]
    },
    {
     "name": "stderr",
     "output_type": "stream",
     "text": [
      "100%|██████████| 20/20 [00:18<00:00,  1.11it/s]\n"
     ]
    },
    {
     "name": "stdout",
     "output_type": "stream",
     "text": [
      "batch: 88/190\n"
     ]
    },
    {
     "name": "stderr",
     "output_type": "stream",
     "text": [
      "100%|██████████| 20/20 [00:17<00:00,  1.12it/s]\n"
     ]
    },
    {
     "name": "stdout",
     "output_type": "stream",
     "text": [
      "batch: 89/190\n"
     ]
    },
    {
     "name": "stderr",
     "output_type": "stream",
     "text": [
      "100%|██████████| 20/20 [00:16<00:00,  1.25it/s]\n"
     ]
    },
    {
     "name": "stdout",
     "output_type": "stream",
     "text": [
      "batch: 90/190\n"
     ]
    },
    {
     "name": "stderr",
     "output_type": "stream",
     "text": [
      "100%|██████████| 20/20 [00:13<00:00,  1.45it/s]\n"
     ]
    },
    {
     "name": "stdout",
     "output_type": "stream",
     "text": [
      "batch: 91/190\n"
     ]
    },
    {
     "name": "stderr",
     "output_type": "stream",
     "text": [
      "100%|██████████| 20/20 [00:14<00:00,  1.38it/s]\n"
     ]
    },
    {
     "name": "stdout",
     "output_type": "stream",
     "text": [
      "batch: 92/190\n"
     ]
    },
    {
     "name": "stderr",
     "output_type": "stream",
     "text": [
      "100%|██████████| 20/20 [00:18<00:00,  1.07it/s]\n"
     ]
    },
    {
     "name": "stdout",
     "output_type": "stream",
     "text": [
      "batch: 93/190\n"
     ]
    },
    {
     "name": "stderr",
     "output_type": "stream",
     "text": [
      "100%|██████████| 20/20 [00:35<00:00,  1.79s/it]\n"
     ]
    },
    {
     "name": "stdout",
     "output_type": "stream",
     "text": [
      "batch: 94/190\n"
     ]
    },
    {
     "name": "stderr",
     "output_type": "stream",
     "text": [
      "100%|██████████| 20/20 [00:21<00:00,  1.05s/it]\n"
     ]
    },
    {
     "name": "stdout",
     "output_type": "stream",
     "text": [
      "batch: 95/190\n"
     ]
    },
    {
     "name": "stderr",
     "output_type": "stream",
     "text": [
      "100%|██████████| 20/20 [00:13<00:00,  1.45it/s]\n"
     ]
    },
    {
     "name": "stdout",
     "output_type": "stream",
     "text": [
      "batch: 96/190\n"
     ]
    },
    {
     "name": "stderr",
     "output_type": "stream",
     "text": [
      "100%|██████████| 20/20 [00:22<00:00,  1.10s/it]\n"
     ]
    },
    {
     "name": "stdout",
     "output_type": "stream",
     "text": [
      "batch: 97/190\n"
     ]
    },
    {
     "name": "stderr",
     "output_type": "stream",
     "text": [
      "100%|██████████| 20/20 [00:23<00:00,  1.16s/it]\n"
     ]
    },
    {
     "name": "stdout",
     "output_type": "stream",
     "text": [
      "batch: 98/190\n"
     ]
    },
    {
     "name": "stderr",
     "output_type": "stream",
     "text": [
      "100%|██████████| 20/20 [00:23<00:00,  1.18s/it]\n"
     ]
    },
    {
     "name": "stdout",
     "output_type": "stream",
     "text": [
      "batch: 99/190\n"
     ]
    },
    {
     "name": "stderr",
     "output_type": "stream",
     "text": [
      "100%|██████████| 20/20 [00:21<00:00,  1.06s/it]\n"
     ]
    },
    {
     "name": "stdout",
     "output_type": "stream",
     "text": [
      "batch: 100/190\n"
     ]
    },
    {
     "name": "stderr",
     "output_type": "stream",
     "text": [
      "100%|██████████| 20/20 [00:13<00:00,  1.53it/s]\n"
     ]
    },
    {
     "name": "stdout",
     "output_type": "stream",
     "text": [
      "batch: 101/190\n"
     ]
    },
    {
     "name": "stderr",
     "output_type": "stream",
     "text": [
      "100%|██████████| 20/20 [00:13<00:00,  1.47it/s]\n"
     ]
    },
    {
     "name": "stdout",
     "output_type": "stream",
     "text": [
      "batch: 102/190\n"
     ]
    },
    {
     "name": "stderr",
     "output_type": "stream",
     "text": [
      "100%|██████████| 20/20 [00:14<00:00,  1.41it/s]\n"
     ]
    },
    {
     "name": "stdout",
     "output_type": "stream",
     "text": [
      "batch: 103/190\n"
     ]
    },
    {
     "name": "stderr",
     "output_type": "stream",
     "text": [
      "100%|██████████| 20/20 [00:13<00:00,  1.45it/s]\n"
     ]
    },
    {
     "name": "stdout",
     "output_type": "stream",
     "text": [
      "batch: 104/190\n"
     ]
    },
    {
     "name": "stderr",
     "output_type": "stream",
     "text": [
      "100%|██████████| 20/20 [00:15<00:00,  1.32it/s]\n"
     ]
    },
    {
     "name": "stdout",
     "output_type": "stream",
     "text": [
      "batch: 105/190\n"
     ]
    },
    {
     "name": "stderr",
     "output_type": "stream",
     "text": [
      "100%|██████████| 20/20 [00:17<00:00,  1.17it/s]\n"
     ]
    },
    {
     "name": "stdout",
     "output_type": "stream",
     "text": [
      "batch: 106/190\n"
     ]
    },
    {
     "name": "stderr",
     "output_type": "stream",
     "text": [
      "100%|██████████| 20/20 [00:16<00:00,  1.20it/s]\n"
     ]
    },
    {
     "name": "stdout",
     "output_type": "stream",
     "text": [
      "batch: 107/190\n"
     ]
    },
    {
     "name": "stderr",
     "output_type": "stream",
     "text": [
      "100%|██████████| 20/20 [00:14<00:00,  1.40it/s]\n"
     ]
    },
    {
     "name": "stdout",
     "output_type": "stream",
     "text": [
      "batch: 108/190\n"
     ]
    },
    {
     "name": "stderr",
     "output_type": "stream",
     "text": [
      "100%|██████████| 20/20 [00:17<00:00,  1.11it/s]\n"
     ]
    },
    {
     "name": "stdout",
     "output_type": "stream",
     "text": [
      "batch: 109/190\n"
     ]
    },
    {
     "name": "stderr",
     "output_type": "stream",
     "text": [
      "100%|██████████| 20/20 [00:13<00:00,  1.46it/s]\n"
     ]
    },
    {
     "name": "stdout",
     "output_type": "stream",
     "text": [
      "batch: 110/190\n"
     ]
    },
    {
     "name": "stderr",
     "output_type": "stream",
     "text": [
      "100%|██████████| 20/20 [00:13<00:00,  1.49it/s]\n"
     ]
    },
    {
     "name": "stdout",
     "output_type": "stream",
     "text": [
      "batch: 111/190\n"
     ]
    },
    {
     "name": "stderr",
     "output_type": "stream",
     "text": [
      "100%|██████████| 20/20 [00:15<00:00,  1.28it/s]\n"
     ]
    },
    {
     "name": "stdout",
     "output_type": "stream",
     "text": [
      "batch: 112/190\n"
     ]
    },
    {
     "name": "stderr",
     "output_type": "stream",
     "text": [
      "100%|██████████| 20/20 [00:14<00:00,  1.42it/s]\n"
     ]
    },
    {
     "name": "stdout",
     "output_type": "stream",
     "text": [
      "batch: 113/190\n"
     ]
    },
    {
     "name": "stderr",
     "output_type": "stream",
     "text": [
      "100%|██████████| 20/20 [00:16<00:00,  1.19it/s]\n"
     ]
    },
    {
     "name": "stdout",
     "output_type": "stream",
     "text": [
      "batch: 114/190\n"
     ]
    },
    {
     "name": "stderr",
     "output_type": "stream",
     "text": [
      "100%|██████████| 20/20 [00:16<00:00,  1.24it/s]\n"
     ]
    },
    {
     "name": "stdout",
     "output_type": "stream",
     "text": [
      "batch: 115/190\n"
     ]
    },
    {
     "name": "stderr",
     "output_type": "stream",
     "text": [
      "100%|██████████| 20/20 [00:13<00:00,  1.50it/s]\n"
     ]
    },
    {
     "name": "stdout",
     "output_type": "stream",
     "text": [
      "batch: 116/190\n"
     ]
    },
    {
     "name": "stderr",
     "output_type": "stream",
     "text": [
      "100%|██████████| 20/20 [00:15<00:00,  1.30it/s]\n"
     ]
    },
    {
     "name": "stdout",
     "output_type": "stream",
     "text": [
      "batch: 117/190\n"
     ]
    },
    {
     "name": "stderr",
     "output_type": "stream",
     "text": [
      "100%|██████████| 20/20 [00:17<00:00,  1.14it/s]\n"
     ]
    },
    {
     "name": "stdout",
     "output_type": "stream",
     "text": [
      "batch: 118/190\n"
     ]
    },
    {
     "name": "stderr",
     "output_type": "stream",
     "text": [
      "100%|██████████| 20/20 [00:16<00:00,  1.21it/s]\n"
     ]
    },
    {
     "name": "stdout",
     "output_type": "stream",
     "text": [
      "batch: 119/190\n"
     ]
    },
    {
     "name": "stderr",
     "output_type": "stream",
     "text": [
      "100%|██████████| 20/20 [00:15<00:00,  1.25it/s]\n"
     ]
    },
    {
     "name": "stdout",
     "output_type": "stream",
     "text": [
      "batch: 120/190\n"
     ]
    },
    {
     "name": "stderr",
     "output_type": "stream",
     "text": [
      "100%|██████████| 20/20 [00:14<00:00,  1.36it/s]\n"
     ]
    },
    {
     "name": "stdout",
     "output_type": "stream",
     "text": [
      "batch: 121/190\n"
     ]
    },
    {
     "name": "stderr",
     "output_type": "stream",
     "text": [
      "100%|██████████| 20/20 [00:15<00:00,  1.31it/s]\n"
     ]
    },
    {
     "name": "stdout",
     "output_type": "stream",
     "text": [
      "batch: 122/190\n"
     ]
    },
    {
     "name": "stderr",
     "output_type": "stream",
     "text": [
      "100%|██████████| 20/20 [00:17<00:00,  1.13it/s]\n"
     ]
    },
    {
     "name": "stdout",
     "output_type": "stream",
     "text": [
      "batch: 123/190\n"
     ]
    },
    {
     "name": "stderr",
     "output_type": "stream",
     "text": [
      "100%|██████████| 20/20 [00:20<00:00,  1.02s/it]\n"
     ]
    },
    {
     "name": "stdout",
     "output_type": "stream",
     "text": [
      "batch: 124/190\n"
     ]
    },
    {
     "name": "stderr",
     "output_type": "stream",
     "text": [
      "100%|██████████| 20/20 [00:16<00:00,  1.20it/s]\n"
     ]
    },
    {
     "name": "stdout",
     "output_type": "stream",
     "text": [
      "batch: 125/190\n"
     ]
    },
    {
     "name": "stderr",
     "output_type": "stream",
     "text": [
      "100%|██████████| 20/20 [00:15<00:00,  1.28it/s]\n"
     ]
    },
    {
     "name": "stdout",
     "output_type": "stream",
     "text": [
      "batch: 126/190\n"
     ]
    },
    {
     "name": "stderr",
     "output_type": "stream",
     "text": [
      "100%|██████████| 20/20 [00:16<00:00,  1.22it/s]\n"
     ]
    },
    {
     "name": "stdout",
     "output_type": "stream",
     "text": [
      "batch: 127/190\n"
     ]
    },
    {
     "name": "stderr",
     "output_type": "stream",
     "text": [
      "100%|██████████| 20/20 [00:16<00:00,  1.18it/s]\n"
     ]
    },
    {
     "name": "stdout",
     "output_type": "stream",
     "text": [
      "batch: 128/190\n"
     ]
    },
    {
     "name": "stderr",
     "output_type": "stream",
     "text": [
      "100%|██████████| 20/20 [00:18<00:00,  1.10it/s]\n"
     ]
    },
    {
     "name": "stdout",
     "output_type": "stream",
     "text": [
      "batch: 129/190\n"
     ]
    },
    {
     "name": "stderr",
     "output_type": "stream",
     "text": [
      "100%|██████████| 20/20 [00:27<00:00,  1.36s/it]\n"
     ]
    },
    {
     "name": "stdout",
     "output_type": "stream",
     "text": [
      "batch: 130/190\n"
     ]
    },
    {
     "name": "stderr",
     "output_type": "stream",
     "text": [
      "100%|██████████| 20/20 [00:16<00:00,  1.18it/s]\n"
     ]
    },
    {
     "name": "stdout",
     "output_type": "stream",
     "text": [
      "batch: 131/190\n"
     ]
    },
    {
     "name": "stderr",
     "output_type": "stream",
     "text": [
      "100%|██████████| 20/20 [00:13<00:00,  1.46it/s]\n"
     ]
    },
    {
     "name": "stdout",
     "output_type": "stream",
     "text": [
      "batch: 132/190\n"
     ]
    },
    {
     "name": "stderr",
     "output_type": "stream",
     "text": [
      "100%|██████████| 20/20 [00:14<00:00,  1.42it/s]\n"
     ]
    },
    {
     "name": "stdout",
     "output_type": "stream",
     "text": [
      "batch: 133/190\n"
     ]
    },
    {
     "name": "stderr",
     "output_type": "stream",
     "text": [
      "100%|██████████| 20/20 [00:16<00:00,  1.20it/s]\n"
     ]
    },
    {
     "name": "stdout",
     "output_type": "stream",
     "text": [
      "batch: 134/190\n"
     ]
    },
    {
     "name": "stderr",
     "output_type": "stream",
     "text": [
      "100%|██████████| 20/20 [00:12<00:00,  1.61it/s]\n"
     ]
    },
    {
     "name": "stdout",
     "output_type": "stream",
     "text": [
      "batch: 135/190\n"
     ]
    },
    {
     "name": "stderr",
     "output_type": "stream",
     "text": [
      "100%|██████████| 20/20 [00:16<00:00,  1.18it/s]\n"
     ]
    },
    {
     "name": "stdout",
     "output_type": "stream",
     "text": [
      "batch: 136/190\n"
     ]
    },
    {
     "name": "stderr",
     "output_type": "stream",
     "text": [
      "100%|██████████| 20/20 [00:14<00:00,  1.34it/s]\n"
     ]
    },
    {
     "name": "stdout",
     "output_type": "stream",
     "text": [
      "batch: 137/190\n"
     ]
    },
    {
     "name": "stderr",
     "output_type": "stream",
     "text": [
      "100%|██████████| 20/20 [00:18<00:00,  1.10it/s]\n"
     ]
    },
    {
     "name": "stdout",
     "output_type": "stream",
     "text": [
      "batch: 138/190\n"
     ]
    },
    {
     "name": "stderr",
     "output_type": "stream",
     "text": [
      "100%|██████████| 20/20 [00:16<00:00,  1.25it/s]\n"
     ]
    },
    {
     "name": "stdout",
     "output_type": "stream",
     "text": [
      "batch: 139/190\n"
     ]
    },
    {
     "name": "stderr",
     "output_type": "stream",
     "text": [
      "100%|██████████| 20/20 [00:13<00:00,  1.52it/s]\n"
     ]
    },
    {
     "name": "stdout",
     "output_type": "stream",
     "text": [
      "batch: 140/190\n"
     ]
    },
    {
     "name": "stderr",
     "output_type": "stream",
     "text": [
      "100%|██████████| 20/20 [00:12<00:00,  1.54it/s]\n"
     ]
    },
    {
     "name": "stdout",
     "output_type": "stream",
     "text": [
      "batch: 141/190\n"
     ]
    },
    {
     "name": "stderr",
     "output_type": "stream",
     "text": [
      "100%|██████████| 20/20 [00:16<00:00,  1.23it/s]\n"
     ]
    },
    {
     "name": "stdout",
     "output_type": "stream",
     "text": [
      "batch: 142/190\n"
     ]
    },
    {
     "name": "stderr",
     "output_type": "stream",
     "text": [
      "100%|██████████| 20/20 [00:16<00:00,  1.23it/s]\n"
     ]
    },
    {
     "name": "stdout",
     "output_type": "stream",
     "text": [
      "batch: 143/190\n"
     ]
    },
    {
     "name": "stderr",
     "output_type": "stream",
     "text": [
      "100%|██████████| 20/20 [00:16<00:00,  1.21it/s]\n"
     ]
    },
    {
     "name": "stdout",
     "output_type": "stream",
     "text": [
      "batch: 144/190\n"
     ]
    },
    {
     "name": "stderr",
     "output_type": "stream",
     "text": [
      "100%|██████████| 20/20 [00:14<00:00,  1.37it/s]\n"
     ]
    },
    {
     "name": "stdout",
     "output_type": "stream",
     "text": [
      "batch: 145/190\n"
     ]
    },
    {
     "name": "stderr",
     "output_type": "stream",
     "text": [
      "100%|██████████| 20/20 [00:13<00:00,  1.47it/s]\n"
     ]
    },
    {
     "name": "stdout",
     "output_type": "stream",
     "text": [
      "batch: 146/190\n"
     ]
    },
    {
     "name": "stderr",
     "output_type": "stream",
     "text": [
      "100%|██████████| 20/20 [00:13<00:00,  1.48it/s]\n"
     ]
    },
    {
     "name": "stdout",
     "output_type": "stream",
     "text": [
      "batch: 147/190\n"
     ]
    },
    {
     "name": "stderr",
     "output_type": "stream",
     "text": [
      "100%|██████████| 20/20 [00:15<00:00,  1.30it/s]\n"
     ]
    },
    {
     "name": "stdout",
     "output_type": "stream",
     "text": [
      "batch: 148/190\n"
     ]
    },
    {
     "name": "stderr",
     "output_type": "stream",
     "text": [
      "100%|██████████| 20/20 [00:16<00:00,  1.21it/s]\n"
     ]
    },
    {
     "name": "stdout",
     "output_type": "stream",
     "text": [
      "batch: 149/190\n"
     ]
    },
    {
     "name": "stderr",
     "output_type": "stream",
     "text": [
      "100%|██████████| 20/20 [00:14<00:00,  1.39it/s]\n"
     ]
    },
    {
     "name": "stdout",
     "output_type": "stream",
     "text": [
      "batch: 150/190\n"
     ]
    },
    {
     "name": "stderr",
     "output_type": "stream",
     "text": [
      "100%|██████████| 20/20 [00:14<00:00,  1.39it/s]\n"
     ]
    },
    {
     "name": "stdout",
     "output_type": "stream",
     "text": [
      "batch: 151/190\n"
     ]
    },
    {
     "name": "stderr",
     "output_type": "stream",
     "text": [
      "100%|██████████| 20/20 [00:15<00:00,  1.26it/s]\n"
     ]
    },
    {
     "name": "stdout",
     "output_type": "stream",
     "text": [
      "batch: 152/190\n"
     ]
    },
    {
     "name": "stderr",
     "output_type": "stream",
     "text": [
      "100%|██████████| 20/20 [00:14<00:00,  1.42it/s]\n"
     ]
    },
    {
     "name": "stdout",
     "output_type": "stream",
     "text": [
      "batch: 153/190\n"
     ]
    },
    {
     "name": "stderr",
     "output_type": "stream",
     "text": [
      "100%|██████████| 20/20 [00:12<00:00,  1.54it/s]\n"
     ]
    },
    {
     "name": "stdout",
     "output_type": "stream",
     "text": [
      "batch: 154/190\n"
     ]
    },
    {
     "name": "stderr",
     "output_type": "stream",
     "text": [
      "100%|██████████| 20/20 [00:12<00:00,  1.58it/s]\n"
     ]
    },
    {
     "name": "stdout",
     "output_type": "stream",
     "text": [
      "batch: 155/190\n"
     ]
    },
    {
     "name": "stderr",
     "output_type": "stream",
     "text": [
      "100%|██████████| 20/20 [00:15<00:00,  1.29it/s]\n"
     ]
    },
    {
     "name": "stdout",
     "output_type": "stream",
     "text": [
      "batch: 156/190\n"
     ]
    },
    {
     "name": "stderr",
     "output_type": "stream",
     "text": [
      "100%|██████████| 20/20 [00:15<00:00,  1.28it/s]\n"
     ]
    },
    {
     "name": "stdout",
     "output_type": "stream",
     "text": [
      "batch: 157/190\n"
     ]
    },
    {
     "name": "stderr",
     "output_type": "stream",
     "text": [
      "100%|██████████| 20/20 [00:13<00:00,  1.47it/s]\n"
     ]
    },
    {
     "name": "stdout",
     "output_type": "stream",
     "text": [
      "batch: 158/190\n"
     ]
    },
    {
     "name": "stderr",
     "output_type": "stream",
     "text": [
      "100%|██████████| 20/20 [00:11<00:00,  1.70it/s]\n"
     ]
    },
    {
     "name": "stdout",
     "output_type": "stream",
     "text": [
      "batch: 159/190\n"
     ]
    },
    {
     "name": "stderr",
     "output_type": "stream",
     "text": [
      "100%|██████████| 20/20 [00:14<00:00,  1.39it/s]\n"
     ]
    },
    {
     "name": "stdout",
     "output_type": "stream",
     "text": [
      "batch: 160/190\n"
     ]
    },
    {
     "name": "stderr",
     "output_type": "stream",
     "text": [
      "100%|██████████| 20/20 [00:14<00:00,  1.40it/s]\n"
     ]
    },
    {
     "name": "stdout",
     "output_type": "stream",
     "text": [
      "batch: 161/190\n"
     ]
    },
    {
     "name": "stderr",
     "output_type": "stream",
     "text": [
      "100%|██████████| 20/20 [00:16<00:00,  1.25it/s]\n"
     ]
    },
    {
     "name": "stdout",
     "output_type": "stream",
     "text": [
      "batch: 162/190\n"
     ]
    },
    {
     "name": "stderr",
     "output_type": "stream",
     "text": [
      "100%|██████████| 20/20 [00:12<00:00,  1.66it/s]\n"
     ]
    },
    {
     "name": "stdout",
     "output_type": "stream",
     "text": [
      "batch: 163/190\n"
     ]
    },
    {
     "name": "stderr",
     "output_type": "stream",
     "text": [
      "100%|██████████| 20/20 [00:19<00:00,  1.05it/s]\n"
     ]
    },
    {
     "name": "stdout",
     "output_type": "stream",
     "text": [
      "batch: 164/190\n"
     ]
    },
    {
     "name": "stderr",
     "output_type": "stream",
     "text": [
      "100%|██████████| 20/20 [00:16<00:00,  1.24it/s]\n"
     ]
    },
    {
     "name": "stdout",
     "output_type": "stream",
     "text": [
      "batch: 165/190\n"
     ]
    },
    {
     "name": "stderr",
     "output_type": "stream",
     "text": [
      "100%|██████████| 20/20 [00:15<00:00,  1.27it/s]\n"
     ]
    },
    {
     "name": "stdout",
     "output_type": "stream",
     "text": [
      "batch: 166/190\n"
     ]
    },
    {
     "name": "stderr",
     "output_type": "stream",
     "text": [
      "100%|██████████| 20/20 [00:13<00:00,  1.47it/s]\n"
     ]
    },
    {
     "name": "stdout",
     "output_type": "stream",
     "text": [
      "batch: 167/190\n"
     ]
    },
    {
     "name": "stderr",
     "output_type": "stream",
     "text": [
      "100%|██████████| 20/20 [00:14<00:00,  1.40it/s]\n"
     ]
    },
    {
     "name": "stdout",
     "output_type": "stream",
     "text": [
      "batch: 168/190\n"
     ]
    },
    {
     "name": "stderr",
     "output_type": "stream",
     "text": [
      "100%|██████████| 20/20 [00:13<00:00,  1.48it/s]\n"
     ]
    },
    {
     "name": "stdout",
     "output_type": "stream",
     "text": [
      "batch: 169/190\n"
     ]
    },
    {
     "name": "stderr",
     "output_type": "stream",
     "text": [
      "100%|██████████| 20/20 [00:15<00:00,  1.26it/s]\n"
     ]
    },
    {
     "name": "stdout",
     "output_type": "stream",
     "text": [
      "batch: 170/190\n"
     ]
    },
    {
     "name": "stderr",
     "output_type": "stream",
     "text": [
      "100%|██████████| 20/20 [00:13<00:00,  1.48it/s]\n"
     ]
    },
    {
     "name": "stdout",
     "output_type": "stream",
     "text": [
      "batch: 171/190\n"
     ]
    },
    {
     "name": "stderr",
     "output_type": "stream",
     "text": [
      "100%|██████████| 20/20 [00:13<00:00,  1.44it/s]\n"
     ]
    },
    {
     "name": "stdout",
     "output_type": "stream",
     "text": [
      "batch: 172/190\n"
     ]
    },
    {
     "name": "stderr",
     "output_type": "stream",
     "text": [
      "100%|██████████| 20/20 [00:15<00:00,  1.26it/s]\n"
     ]
    },
    {
     "name": "stdout",
     "output_type": "stream",
     "text": [
      "batch: 173/190\n"
     ]
    },
    {
     "name": "stderr",
     "output_type": "stream",
     "text": [
      "100%|██████████| 20/20 [00:16<00:00,  1.22it/s]\n"
     ]
    },
    {
     "name": "stdout",
     "output_type": "stream",
     "text": [
      "batch: 174/190\n"
     ]
    },
    {
     "name": "stderr",
     "output_type": "stream",
     "text": [
      "100%|██████████| 20/20 [00:16<00:00,  1.21it/s]\n"
     ]
    },
    {
     "name": "stdout",
     "output_type": "stream",
     "text": [
      "batch: 175/190\n"
     ]
    },
    {
     "name": "stderr",
     "output_type": "stream",
     "text": [
      "100%|██████████| 20/20 [00:14<00:00,  1.39it/s]\n"
     ]
    },
    {
     "name": "stdout",
     "output_type": "stream",
     "text": [
      "batch: 176/190\n"
     ]
    },
    {
     "name": "stderr",
     "output_type": "stream",
     "text": [
      "100%|██████████| 20/20 [00:14<00:00,  1.34it/s]\n"
     ]
    },
    {
     "name": "stdout",
     "output_type": "stream",
     "text": [
      "batch: 177/190\n"
     ]
    },
    {
     "name": "stderr",
     "output_type": "stream",
     "text": [
      "100%|██████████| 20/20 [00:13<00:00,  1.47it/s]\n"
     ]
    },
    {
     "name": "stdout",
     "output_type": "stream",
     "text": [
      "batch: 178/190\n"
     ]
    },
    {
     "name": "stderr",
     "output_type": "stream",
     "text": [
      "100%|██████████| 20/20 [00:14<00:00,  1.34it/s]\n"
     ]
    },
    {
     "name": "stdout",
     "output_type": "stream",
     "text": [
      "batch: 179/190\n"
     ]
    },
    {
     "name": "stderr",
     "output_type": "stream",
     "text": [
      "100%|██████████| 20/20 [00:14<00:00,  1.42it/s]\n"
     ]
    },
    {
     "name": "stdout",
     "output_type": "stream",
     "text": [
      "batch: 180/190\n"
     ]
    },
    {
     "name": "stderr",
     "output_type": "stream",
     "text": [
      "100%|██████████| 20/20 [00:14<00:00,  1.42it/s]\n"
     ]
    },
    {
     "name": "stdout",
     "output_type": "stream",
     "text": [
      "batch: 181/190\n"
     ]
    },
    {
     "name": "stderr",
     "output_type": "stream",
     "text": [
      "100%|██████████| 20/20 [00:14<00:00,  1.36it/s]\n"
     ]
    },
    {
     "name": "stdout",
     "output_type": "stream",
     "text": [
      "batch: 182/190\n"
     ]
    },
    {
     "name": "stderr",
     "output_type": "stream",
     "text": [
      "100%|██████████| 20/20 [00:14<00:00,  1.39it/s]\n"
     ]
    },
    {
     "name": "stdout",
     "output_type": "stream",
     "text": [
      "batch: 183/190\n"
     ]
    },
    {
     "name": "stderr",
     "output_type": "stream",
     "text": [
      "100%|██████████| 20/20 [00:19<00:00,  1.02it/s]\n"
     ]
    },
    {
     "name": "stdout",
     "output_type": "stream",
     "text": [
      "batch: 184/190\n"
     ]
    },
    {
     "name": "stderr",
     "output_type": "stream",
     "text": [
      "100%|██████████| 20/20 [00:15<00:00,  1.32it/s]\n"
     ]
    },
    {
     "name": "stdout",
     "output_type": "stream",
     "text": [
      "batch: 185/190\n"
     ]
    },
    {
     "name": "stderr",
     "output_type": "stream",
     "text": [
      "100%|██████████| 20/20 [00:13<00:00,  1.45it/s]\n"
     ]
    },
    {
     "name": "stdout",
     "output_type": "stream",
     "text": [
      "batch: 186/190\n"
     ]
    },
    {
     "name": "stderr",
     "output_type": "stream",
     "text": [
      "100%|██████████| 20/20 [00:14<00:00,  1.34it/s]\n"
     ]
    },
    {
     "name": "stdout",
     "output_type": "stream",
     "text": [
      "batch: 187/190\n"
     ]
    },
    {
     "name": "stderr",
     "output_type": "stream",
     "text": [
      "100%|██████████| 20/20 [00:14<00:00,  1.34it/s]\n"
     ]
    },
    {
     "name": "stdout",
     "output_type": "stream",
     "text": [
      "batch: 188/190\n"
     ]
    },
    {
     "name": "stderr",
     "output_type": "stream",
     "text": [
      "100%|██████████| 20/20 [00:16<00:00,  1.23it/s]\n"
     ]
    },
    {
     "name": "stdout",
     "output_type": "stream",
     "text": [
      "batch: 189/190\n"
     ]
    },
    {
     "name": "stderr",
     "output_type": "stream",
     "text": [
      "100%|██████████| 20/20 [00:15<00:00,  1.30it/s]\n"
     ]
    },
    {
     "name": "stdout",
     "output_type": "stream",
     "text": [
      "batch: 190/190\n"
     ]
    },
    {
     "name": "stderr",
     "output_type": "stream",
     "text": [
      "100%|██████████| 11/11 [00:15<00:00,  1.43s/it]\n"
     ]
    }
   ],
   "source": [
    "from utils.llm_call import LLM_Call\n",
    "\n",
    "API_KEYS = ['sk-54964e5c3b8c4998a74f7d3e35b618ac', 'sk-785362add9834d1da5907f4621dc90a8']\n",
    "API_URL = 'https://api.deepseek.com'\n",
    "API_MODEL = 'deepseek-chat'\n",
    "\n",
    "api_pool = [(k, API_URL, API_MODEL) for k in API_KEYS]\n",
    "\n",
    "LLM = LLM_Call(api_pool=api_pool, openai_params = {'temperature': 0, 'max_tokens': 512})\n",
    "\n",
    "batch_size = 20\n",
    "batches = [test_data[i:i + batch_size] for i in range(0, len(test_data), batch_size)]\n",
    "\n",
    "prompt = \"\"\"Please strictly follow these rules to convert natural language questions into Lisp-style knowledge graph query expressions without adding explanations:\n",
    "\n",
    "1. Context handling:\n",
    "- Entity format: convert spaces to underscores\n",
    "\n",
    "2. Atomic query construction:\n",
    "- Forward relation: (JOIN predicate object)\n",
    "\"Who invented the piano?\" → (JOIN discoverer_or_inventor Piano)\n",
    "- Reverse relation: (JOIN (R predicate) subject)\n",
    "\"What is Y's occupation?\" → (JOIN (R occupation) Y)\n",
    "- Existence check: (IS_TRUE subject predicate object)\n",
    "\"Does X depict Y?\" → (IS_TRUE X depicts Y)\n",
    "\n",
    "3. Logical combinations:\n",
    "- Multi-condition intersection: (AND q1 q2 ...)\n",
    "\"Men who play piano\" → (AND (JOIN instrument Piano) (JOIN sex Male))\n",
    "- Multi-value enumeration: (VALUES v1 v2 ...)\n",
    "\"City A or B\" → (VALUES City_A City_B)\n",
    "\n",
    "4. Special rules:\n",
    "- Comparisons/counting only extract compared/counted objects:\n",
    "\"Species depicted in most artworks\" → (JOIN expressed_in Artwork_series)\n",
    "- Add type constraints:\n",
    "\"Which occupation is X\" → (AND X (JOIN instance_of occupation))\n",
    "- Output expressions joined with \\u001F\n",
    "\"\"\"\n",
    "for i, batch in enumerate(batches):\n",
    "    print(f\"batch: {i + 1}/{len(batches)}\")\n",
    "    messages_list = []\n",
    "    for qa in batch:\n",
    "        messages_list.append([{'role': 'system', 'content': prompt}] + examples + [{'role': 'user', 'content': qa['coreference_resolved_question']}])\n",
    "\n",
    "    resp_list = await LLM._batch_generate_async(messages_list)\n",
    "\n",
    "    for j, qa in enumerate(batch):\n",
    "        resp = resp_list[j]\n",
    "        qa['predicted_cores'] = [core for core in resp.choices[0].message.content.split('\\u001F')]"
   ]
  },
  {
   "cell_type": "code",
   "execution_count": 11,
   "metadata": {},
   "outputs": [],
   "source": [
    "import os\n",
    "os.makedirs(f'output/{exp_name}', exist_ok=True)\n",
    "json.dump(test_data, open(f'output/{exp_name}/cores.json', 'w'), indent=2)"
   ]
  },
  {
   "cell_type": "code",
   "execution_count": null,
   "metadata": {},
   "outputs": [],
   "source": []
  }
 ],
 "metadata": {
  "kernelspec": {
   "display_name": "kb-binder",
   "language": "python",
   "name": "python3"
  },
  "language_info": {
   "codemirror_mode": {
    "name": "ipython",
    "version": 3
   },
   "file_extension": ".py",
   "mimetype": "text/x-python",
   "name": "python",
   "nbconvert_exporter": "python",
   "pygments_lexer": "ipython3",
   "version": "3.12.9"
  }
 },
 "nbformat": 4,
 "nbformat_minor": 2
}

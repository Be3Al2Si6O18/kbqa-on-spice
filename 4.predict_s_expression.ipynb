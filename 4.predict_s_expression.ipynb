{
 "cells": [
  {
   "cell_type": "code",
   "execution_count": 1,
   "id": "37357391",
   "metadata": {},
   "outputs": [],
   "source": [
    "import json\n",
    "\n",
    "exp_name = 'memory_core_1'\n",
    "test_data = json.load(open(f'output/{exp_name}/predicted_type.json', 'r'))\n",
    "template_and_replacements_examples = json.load(open('data/example/template_and_replacements.json', 'r'))"
   ]
  },
  {
   "cell_type": "code",
   "execution_count": 2,
   "id": "f1897d5f",
   "metadata": {},
   "outputs": [],
   "source": [
    "simple_question_type_to_templates = {\n",
    "    \"compare\": [\"(compare (GROUP_COUNT x1) number)\", \"(compare (GROUP_COUNT x1) x2)\", \"(compare (GROUP_SUM (GROUP_COUNT x1) (GROUP_COUNT x2)) (OR x3 x4))\", \"(compare (GROUP_SUM (GROUP_COUNT x1) (GROUP_COUNT x2)) number)\"],\n",
    "    \"compare_and_count\": [\"(COUNT (compare (GROUP_COUNT x1) number))\", \"(COUNT (compare (GROUP_COUNT x1) x2))\", \"(COUNT (compare (GROUP_SUM (GROUP_COUNT x1) (GROUP_COUNT x2)) (OR x3 x4)))\", \"(COUNT (compare (GROUP_SUM (GROUP_COUNT x1) (GROUP_COUNT x2)) number))\"],\n",
    "    \"count\": [\"(COUNT (DISTINCT (OR x1 x2)))\", \"(COUNT (DISTINCT x1))\", \"(COUNT (GROUP_COUNT x1))\", \"(COUNT (GROUP_SUM (GROUP_COUNT x1) (GROUP_COUNT x2)))\", \"(COUNT x1)\"],\n",
    "    \"optimize\": [\"(optimize (GROUP_COUNT x1))\", \"(optimize (GROUP_SUM (GROUP_COUNT x1) (GROUP_COUNT x2)))\"],\n",
    "    \"simple\": [\"(DIFF x1 x2)\", \"(DISTINCT x1)\", \"(GROUP_COUNT x1)\", \"(GROUP_SUM (GROUP_COUNT x1) (GROUP_COUNT x2))\", \"(OR x1 x2)\", \"x1\"],\n",
    "    \"verify\": [\"(ALL x1 x2 x3 x4 x5 x6 x7 x8 x9 x10)\", \"(ALL x1 x2 x3 x4 x5 x6 x7 x8 x9)\", \"(ALL x1 x2 x3 x4 x5 x6 x7 x8)\", \"(ALL x1 x2 x3 x4 x5 x6 x7)\", \"(ALL x1 x2 x3 x4 x5 x6)\", \"(ALL x1 x2 x3 x4 x5)\", \"(ALL x1 x2 x3 x4)\", \"(ALL x1 x2 x3)\", \"(ALL x1 x2)\", \"(ALL x1)\"]\n",
    "}"
   ]
  },
  {
   "cell_type": "code",
   "execution_count": 3,
   "id": "6056e449",
   "metadata": {},
   "outputs": [
    {
     "data": {
      "text/plain": [
       "{'verify': [{'role': 'user',\n",
       "   'content': 'question: Output: Do Didrik Ficks gränd have Västerlånggatan and Stora Nygatan as terminus?\\ncandidate_templates: (ALL x1 x2 x3 x4 x5 x6 x7 x8 x9 x10),(ALL x1 x2 x3 x4 x5 x6 x7 x8 x9),(ALL x1 x2 x3 x4 x5 x6 x7 x8),(ALL x1 x2 x3 x4 x5 x6 x7),(ALL x1 x2 x3 x4 x5 x6),(ALL x1 x2 x3 x4 x5),(ALL x1 x2 x3 x4),(ALL x1 x2 x3),(ALL x1 x2),(ALL x1)\\ncandidate_s_expression_cores: (IS_TRUE Didrik_Ficks_gränd terminus Västerlånggatan)\\x1f(IS_TRUE Didrik_Ficks_gränd terminus Stora_Nygatan)'},\n",
       "  {'role': 'assistant',\n",
       "   'content': '{\"template\": \"(ALL x1 x2)\", \"replacements\": {\"variables\": {\"x2\": \"(IS_TRUE Didrik_Ficks_gr\\\\u00e4nd terminus Stora_Nygatan)\", \"x1\": \"(IS_TRUE Didrik_Ficks_gr\\\\u00e4nd terminus V\\\\u00e4sterl\\\\u00e5nggatan)\"}, \"constants\": {}, \"functions\": {}}}'},\n",
       "  {'role': 'user',\n",
       "   'content': 'question: Are Canada next to the border of Prince Edward Island and Greenland?\\ncandidate_templates: (ALL x1 x2 x3 x4 x5 x6 x7 x8 x9 x10),(ALL x1 x2 x3 x4 x5 x6 x7 x8 x9),(ALL x1 x2 x3 x4 x5 x6 x7 x8),(ALL x1 x2 x3 x4 x5 x6 x7),(ALL x1 x2 x3 x4 x5 x6),(ALL x1 x2 x3 x4 x5),(ALL x1 x2 x3 x4),(ALL x1 x2 x3),(ALL x1 x2),(ALL x1)\\ncandidate_s_expression_cores: (IS_TRUE Canada shares_border_with Prince_Edward_Island)\\x1f(IS_TRUE Canada shares_border_with Greenland)'},\n",
       "  {'role': 'assistant',\n",
       "   'content': '{\"template\": \"(ALL x1 x2)\", \"replacements\": {\"variables\": {\"x2\": \"(IS_TRUE Canada shares_border_with Greenland)\", \"x1\": \"(IS_TRUE Canada shares_border_with Prince_Edward_Island)\"}, \"constants\": {}, \"functions\": {}}}'},\n",
       "  {'role': 'user',\n",
       "   'content': 'question: Is Louise Laroche a civilian of Lindendorf and Wellpond Green?\\ncandidate_templates: (ALL x1 x2 x3 x4 x5 x6 x7 x8 x9 x10),(ALL x1 x2 x3 x4 x5 x6 x7 x8 x9),(ALL x1 x2 x3 x4 x5 x6 x7 x8),(ALL x1 x2 x3 x4 x5 x6 x7),(ALL x1 x2 x3 x4 x5 x6),(ALL x1 x2 x3 x4 x5),(ALL x1 x2 x3 x4),(ALL x1 x2 x3),(ALL x1 x2),(ALL x1)\\ncandidate_s_expression_cores: (IS_TRUE Lindendorf country_of_citizenship Joseph_Philippe_Lemercier_Laroche)\\x1f(IS_TRUE Wellpond_Green country_of_citizenship Joseph_Philippe_Lemercier_Laroche)'},\n",
       "  {'role': 'assistant',\n",
       "   'content': '{\"template\": \"(ALL x1 x2)\", \"replacements\": {\"variables\": {\"x2\": \"(IS_TRUE Wellpond_Green country_of_citizenship Joseph_Philippe_Lemercier_Laroche)\", \"x1\": \"(IS_TRUE Lindendorf country_of_citizenship Joseph_Philippe_Lemercier_Laroche)\"}, \"constants\": {}, \"functions\": {}}}'},\n",
       "  {'role': 'user',\n",
       "   'content': \"question: Is Italy located in Manteno Community Unit School District 5 and Bouches-de-l'Escaut?\\ncandidate_templates: (ALL x1 x2 x3 x4 x5 x6 x7 x8 x9 x10),(ALL x1 x2 x3 x4 x5 x6 x7 x8 x9),(ALL x1 x2 x3 x4 x5 x6 x7 x8),(ALL x1 x2 x3 x4 x5 x6 x7),(ALL x1 x2 x3 x4 x5 x6),(ALL x1 x2 x3 x4 x5),(ALL x1 x2 x3 x4),(ALL x1 x2 x3),(ALL x1 x2),(ALL x1)\\ncandidate_s_expression_cores: (IS_TRUE Manteno_Community_Unit_School_District_5 country Italy)\\x1f(IS_TRUE Bouches-de-l'Escaut country Italy)\"},\n",
       "  {'role': 'assistant',\n",
       "   'content': '{\"template\": \"(ALL x1 x2)\", \"replacements\": {\"variables\": {\"x2\": \"(IS_TRUE Bouches-de-l\\'Escaut country Italy)\", \"x1\": \"(IS_TRUE Manteno_Community_Unit_School_District_5 country Italy)\"}, \"constants\": {}, \"functions\": {}}}'},\n",
       "  {'role': 'user',\n",
       "   'content': 'question: Output: Do John Butt have Agnes of France, Duchess of Burgundy, John Tristan, Count of Valois, Philip III of France as an offspring?\\ncandidate_templates: (ALL x1 x2 x3 x4 x5 x6 x7 x8 x9 x10),(ALL x1 x2 x3 x4 x5 x6 x7 x8 x9),(ALL x1 x2 x3 x4 x5 x6 x7 x8),(ALL x1 x2 x3 x4 x5 x6 x7),(ALL x1 x2 x3 x4 x5 x6),(ALL x1 x2 x3 x4 x5),(ALL x1 x2 x3 x4),(ALL x1 x2 x3),(ALL x1 x2),(ALL x1)\\ncandidate_s_expression_cores: (IS_TRUE John_Butt child Agnes_of_France,_Duchess_of_Burgundy)\\x1f(IS_TRUE John_Butt child John_Tristan,_Count_of_Valois)\\x1f(IS_TRUE John_Butt child Philip_III_of_France)'},\n",
       "  {'role': 'assistant',\n",
       "   'content': '{\"template\": \"(ALL x1 x2 x3)\", \"replacements\": {\"variables\": {\"x3\": \"(IS_TRUE John_Butt child Philip_III_of_France)\", \"x2\": \"(IS_TRUE John_Butt child John_Tristan,_Count_of_Valois)\", \"x1\": \"(IS_TRUE John_Butt child Agnes_of_France,_Duchess_of_Burgundy)\"}, \"constants\": {}, \"functions\": {}}}'},\n",
       "  {'role': 'user',\n",
       "   'content': 'question: Do Glan-Münchweiler have tactful political relations with Italy, Brazil, United States of America?\\ncandidate_templates: (ALL x1 x2 x3 x4 x5 x6 x7 x8 x9 x10),(ALL x1 x2 x3 x4 x5 x6 x7 x8 x9),(ALL x1 x2 x3 x4 x5 x6 x7 x8),(ALL x1 x2 x3 x4 x5 x6 x7),(ALL x1 x2 x3 x4 x5 x6),(ALL x1 x2 x3 x4 x5),(ALL x1 x2 x3 x4),(ALL x1 x2 x3),(ALL x1 x2),(ALL x1)\\ncandidate_s_expression_cores: (IS_TRUE Glan-Münchweiler diplomatic_relation Italy)\\x1f(IS_TRUE Glan-Münchweiler diplomatic_relation Brazil)\\x1f(IS_TRUE Glan-Münchweiler diplomatic_relation United_States_of_America)'},\n",
       "  {'role': 'assistant',\n",
       "   'content': '{\"template\": \"(ALL x1 x2 x3)\", \"replacements\": {\"variables\": {\"x3\": \"(IS_TRUE Glan-M\\\\u00fcnchweiler diplomatic_relation United_States_of_America)\", \"x2\": \"(IS_TRUE Glan-M\\\\u00fcnchweiler diplomatic_relation Brazil)\", \"x1\": \"(IS_TRUE Glan-M\\\\u00fcnchweiler diplomatic_relation Italy)\"}, \"constants\": {}, \"functions\": {}}}'},\n",
       "  {'role': 'user',\n",
       "   'content': 'question: Output: Does Bedřich Reicin have a career as a farmer, politician, or entrepreneur?\\ncandidate_templates: (ALL x1 x2 x3 x4 x5 x6 x7 x8 x9 x10),(ALL x1 x2 x3 x4 x5 x6 x7 x8 x9),(ALL x1 x2 x3 x4 x5 x6 x7 x8),(ALL x1 x2 x3 x4 x5 x6 x7),(ALL x1 x2 x3 x4 x5 x6),(ALL x1 x2 x3 x4 x5),(ALL x1 x2 x3 x4),(ALL x1 x2 x3),(ALL x1 x2),(ALL x1)\\ncandidate_s_expression_cores: (IS_TRUE Bedřich_Reicin occupation farmer)\\x1f(IS_TRUE Bedřich_Reicin occupation politician)\\x1f(IS_TRUE Bedřich_Reicin occupation entrepreneur)'},\n",
       "  {'role': 'assistant',\n",
       "   'content': '{\"template\": \"(ALL x1 x2 x3)\", \"replacements\": {\"variables\": {\"x3\": \"(IS_TRUE Bed\\\\u0159ich_Reicin occupation entrepreneur)\", \"x2\": \"(IS_TRUE Bed\\\\u0159ich_Reicin occupation politician)\", \"x1\": \"(IS_TRUE Bed\\\\u0159ich_Reicin occupation farmer)\"}, \"constants\": {}, \"functions\": {}}}'},\n",
       "  {'role': 'user',\n",
       "   'content': 'question: Are Campania known to have diplomatic connections with Brazil, Japan, Liechtenstein?\\ncandidate_templates: (ALL x1 x2 x3 x4 x5 x6 x7 x8 x9 x10),(ALL x1 x2 x3 x4 x5 x6 x7 x8 x9),(ALL x1 x2 x3 x4 x5 x6 x7 x8),(ALL x1 x2 x3 x4 x5 x6 x7),(ALL x1 x2 x3 x4 x5 x6),(ALL x1 x2 x3 x4 x5),(ALL x1 x2 x3 x4),(ALL x1 x2 x3),(ALL x1 x2),(ALL x1)\\ncandidate_s_expression_cores: (IS_TRUE Campania diplomatic_relation Brazil)\\x1f(IS_TRUE Campania diplomatic_relation Japan)\\x1f(IS_TRUE Campania diplomatic_relation Liechtenstein)'},\n",
       "  {'role': 'assistant',\n",
       "   'content': '{\"template\": \"(ALL x1 x2 x3)\", \"replacements\": {\"variables\": {\"x3\": \"(IS_TRUE Campania diplomatic_relation Liechtenstein)\", \"x2\": \"(IS_TRUE Campania diplomatic_relation Japan)\", \"x1\": \"(IS_TRUE Campania diplomatic_relation Brazil)\"}, \"constants\": {}, \"functions\": {}}}'},\n",
       "  {'role': 'user',\n",
       "   'content': 'question: Is glyoxalase family protein BMAA0600 encoded by Ap4e1?\\ncandidate_templates: (ALL x1 x2 x3 x4 x5 x6 x7 x8 x9 x10),(ALL x1 x2 x3 x4 x5 x6 x7 x8 x9),(ALL x1 x2 x3 x4 x5 x6 x7 x8),(ALL x1 x2 x3 x4 x5 x6 x7),(ALL x1 x2 x3 x4 x5 x6),(ALL x1 x2 x3 x4 x5),(ALL x1 x2 x3 x4),(ALL x1 x2 x3),(ALL x1 x2),(ALL x1)\\ncandidate_s_expression_cores: (IS_TRUE Ap4e1 encodes glyoxalase_family_protein____BMAA0600)'},\n",
       "  {'role': 'assistant',\n",
       "   'content': '{\"template\": \"(ALL x1)\", \"replacements\": {\"variables\": {\"x1\": \"(IS_TRUE Ap4e1 encodes glyoxalase_family_protein____BMAA0600)\"}, \"constants\": {}, \"functions\": {}}}'},\n",
       "  {'role': 'user',\n",
       "   'content': 'question: Is the Italian alphabet the writing system of Himyaritic language?\\ncandidate_templates: (ALL x1 x2 x3 x4 x5 x6 x7 x8 x9 x10),(ALL x1 x2 x3 x4 x5 x6 x7 x8 x9),(ALL x1 x2 x3 x4 x5 x6 x7 x8),(ALL x1 x2 x3 x4 x5 x6 x7),(ALL x1 x2 x3 x4 x5 x6),(ALL x1 x2 x3 x4 x5),(ALL x1 x2 x3 x4),(ALL x1 x2 x3),(ALL x1 x2),(ALL x1)\\ncandidate_s_expression_cores: (IS_TRUE Italian_alphabet writing_system Himyaritic_language)'},\n",
       "  {'role': 'assistant',\n",
       "   'content': '{\"template\": \"(ALL x1)\", \"replacements\": {\"variables\": {\"x1\": \"(IS_TRUE Italian_alphabet writing_system Himyaritic_language)\"}, \"constants\": {}, \"functions\": {}}}'},\n",
       "  {'role': 'user',\n",
       "   'content': 'question: Is English a component of Anglo-Frisian languages ?\\ncandidate_templates: (ALL x1 x2 x3 x4 x5 x6 x7 x8 x9 x10),(ALL x1 x2 x3 x4 x5 x6 x7 x8 x9),(ALL x1 x2 x3 x4 x5 x6 x7 x8),(ALL x1 x2 x3 x4 x5 x6 x7),(ALL x1 x2 x3 x4 x5 x6),(ALL x1 x2 x3 x4 x5),(ALL x1 x2 x3 x4),(ALL x1 x2 x3),(ALL x1 x2),(ALL x1)\\ncandidate_s_expression_cores: (IS_TRUE English part_of Anglo-Frisian_languages)'},\n",
       "  {'role': 'assistant',\n",
       "   'content': '{\"template\": \"(ALL x1)\", \"replacements\": {\"variables\": {\"x1\": \"(IS_TRUE English part_of Anglo-Frisian_languages)\"}, \"constants\": {}, \"functions\": {}}}'},\n",
       "  {'role': 'user',\n",
       "   'content': 'question: Did Philippe de Schoutheete de Tervarent win Knight Commander of the Order of St. Gregory the Great?\\ncandidate_templates: (ALL x1 x2 x3 x4 x5 x6 x7 x8 x9 x10),(ALL x1 x2 x3 x4 x5 x6 x7 x8 x9),(ALL x1 x2 x3 x4 x5 x6 x7 x8),(ALL x1 x2 x3 x4 x5 x6 x7),(ALL x1 x2 x3 x4 x5 x6),(ALL x1 x2 x3 x4 x5),(ALL x1 x2 x3 x4),(ALL x1 x2 x3),(ALL x1 x2),(ALL x1)\\ncandidate_s_expression_cores: (IS_TRUE Philippe_de_Schoutheete_de_Tervarent award_received Knight_Commander_of_the_Order_of_St._Gregory_the_Great)'},\n",
       "  {'role': 'assistant',\n",
       "   'content': '{\"template\": \"(ALL x1)\", \"replacements\": {\"variables\": {\"x1\": \"(IS_TRUE Philippe_de_Schoutheete_de_Tervarent award_received Knight_Commander_of_the_Order_of_St._Gregory_the_Great)\"}, \"constants\": {}, \"functions\": {}}}'}],\n",
       " 'compare_and_count': [{'role': 'user',\n",
       "   'content': 'question: How many works of art were exhibited at lesser number of events than Ours blanc ?\\ncandidate_templates: (COUNT (compare (GROUP_COUNT x1) number)),(COUNT (compare (GROUP_COUNT x1) x2)),(COUNT (compare (GROUP_SUM (GROUP_COUNT x1) (GROUP_COUNT x2)) (OR x3 x4))),(COUNT (compare (GROUP_SUM (GROUP_COUNT x1) (GROUP_COUNT x2)) number))\\ncandidate_s_expression_cores: (AND (JOIN exhibition_history (JOIN instance_of event)) (JOIN instance_of work_of_art))\\x1f(AND (JOIN (R exhibition_history) Ours_blanc) (JOIN instance_of event))'},\n",
       "  {'role': 'assistant',\n",
       "   'content': '{\"template\": \"(COUNT (compare (GROUP_COUNT x1) x2))\", \"replacements\": {\"variables\": {\"x2\": \"(AND (JOIN (R exhibition_history) Ours_blanc) (JOIN instance_of event))\", \"x1\": \"(AND (JOIN exhibition_history (JOIN instance_of event)) (JOIN instance_of work_of_art))\"}, \"constants\": {}, \"functions\": {\"compare\": \"LT\"}}}'},\n",
       "  {'role': 'user',\n",
       "   'content': 'question: How many bodies of water have greater number of astronomical object types as their namesake than North Sea ?\\ncandidate_templates: (COUNT (compare (GROUP_COUNT x1) number)),(COUNT (compare (GROUP_COUNT x1) x2)),(COUNT (compare (GROUP_SUM (GROUP_COUNT x1) (GROUP_COUNT x2)) (OR x3 x4))),(COUNT (compare (GROUP_SUM (GROUP_COUNT x1) (GROUP_COUNT x2)) number))\\ncandidate_s_expression_cores: (AND (JOIN named_after (JOIN instance_of astronomical_object_type)) (JOIN instance_of body_of_water))\\x1f(AND (JOIN (R named_after) North_Sea) (JOIN instance_of body_of_water))'},\n",
       "  {'role': 'assistant',\n",
       "   'content': '{\"template\": \"(COUNT (compare (GROUP_COUNT x1) x2))\", \"replacements\": {\"variables\": {\"x2\": \"(AND (JOIN (R named_after) North_Sea) (JOIN instance_of body_of_water))\", \"x1\": \"(AND (JOIN named_after (JOIN instance_of astronomical_object_type)) (JOIN instance_of body_of_water))\"}, \"constants\": {}, \"functions\": {\"compare\": \"GT\"}}}'},\n",
       "  {'role': 'user',\n",
       "   'content': 'question: How many musical instruments do less number of people know to play than tenor guitar ?\\ncandidate_templates: (COUNT (compare (GROUP_COUNT x1) number)),(COUNT (compare (GROUP_COUNT x1) x2)),(COUNT (compare (GROUP_SUM (GROUP_COUNT x1) (GROUP_COUNT x2)) (OR x3 x4))),(COUNT (compare (GROUP_SUM (GROUP_COUNT x1) (GROUP_COUNT x2)) number))\\ncandidate_s_expression_cores: (AND (JOIN (R instrument) (JOIN instance_of common_name)) (JOIN instance_of musical_instrument))\\x1f(AND (JOIN instrument tenor_guitar) (JOIN instance_of common_name))'},\n",
       "  {'role': 'assistant',\n",
       "   'content': '{\"template\": \"(COUNT (compare (GROUP_COUNT x1) x2))\", \"replacements\": {\"variables\": {\"x2\": \"(AND (JOIN instrument tenor_guitar) (JOIN instance_of common_name))\", \"x1\": \"(AND (JOIN (R instrument) (JOIN instance_of common_name)) (JOIN instance_of musical_instrument))\"}, \"constants\": {}, \"functions\": {\"compare\": \"LT\"}}}'},\n",
       "  {'role': 'user',\n",
       "   'content': 'question: How many names are a basionyms of lesser number of taxons than Atractylis gummifera?\\ncandidate_templates: (COUNT (compare (GROUP_COUNT x1) number)),(COUNT (compare (GROUP_COUNT x1) x2)),(COUNT (compare (GROUP_SUM (GROUP_COUNT x1) (GROUP_COUNT x2)) (OR x3 x4))),(COUNT (compare (GROUP_SUM (GROUP_COUNT x1) (GROUP_COUNT x2)) number))\\ncandidate_s_expression_cores: (AND (JOIN (R has_basionym) (JOIN instance_of taxon)) (JOIN instance_of name))\\x1f(AND (JOIN has_basionym Atractylis_gummifera) (JOIN instance_of taxon))'},\n",
       "  {'role': 'assistant',\n",
       "   'content': '{\"template\": \"(COUNT (compare (GROUP_COUNT x1) x2))\", \"replacements\": {\"variables\": {\"x2\": \"(AND (JOIN has_basionym Atractylis_gummifera) (JOIN instance_of taxon))\", \"x1\": \"(AND (JOIN (R has_basionym) (JOIN instance_of taxon)) (JOIN instance_of name))\"}, \"constants\": {}, \"functions\": {\"compare\": \"LT\"}}}'},\n",
       "  {'role': 'user',\n",
       "   'content': 'question: How many awards are bestowed by greater number of newspapers and German business organizations than Three Physicists Prize?\\ncandidate_templates: (COUNT (compare (GROUP_COUNT x1) number)),(COUNT (compare (GROUP_COUNT x1) x2)),(COUNT (compare (GROUP_SUM (GROUP_COUNT x1) (GROUP_COUNT x2)) (OR x3 x4))),(COUNT (compare (GROUP_SUM (GROUP_COUNT x1) (GROUP_COUNT x2)) number))\\ncandidate_s_expression_cores: (AND (JOIN conferred_by (JOIN instance_of newspaper)) (JOIN instance_of award))\\x1f(AND (JOIN conferred_by (JOIN instance_of type_of_business_entity_in_Germany)) (JOIN instance_of award))\\x1f(AND (JOIN (R conferred_by) Three_Physicists_Prize) (JOIN instance_of newspaper))\\x1f(AND (JOIN (R conferred_by) Three_Physicists_Prize) (JOIN instance_of type_of_business_entity_in_Germany))'},\n",
       "  {'role': 'assistant',\n",
       "   'content': '{\"template\": \"(COUNT (compare (GROUP_SUM (GROUP_COUNT x1) (GROUP_COUNT x2)) (OR x3 x4)))\", \"replacements\": {\"variables\": {\"x4\": \"(AND (JOIN (R conferred_by) Three_Physicists_Prize) (JOIN instance_of type_of_business_entity_in_Germany))\", \"x3\": \"(AND (JOIN (R conferred_by) Three_Physicists_Prize) (JOIN instance_of newspaper))\", \"x2\": \"(AND (JOIN conferred_by (JOIN instance_of type_of_business_entity_in_Germany)) (JOIN instance_of award))\", \"x1\": \"(AND (JOIN conferred_by (JOIN instance_of newspaper)) (JOIN instance_of award))\"}, \"constants\": {}, \"functions\": {\"compare\": \"GT\"}}}'},\n",
       "  {'role': 'user',\n",
       "   'content': 'question: How many people are more number of works of art and architectural structures dedicated to than Paul?\\ncandidate_templates: (COUNT (compare (GROUP_COUNT x1) number)),(COUNT (compare (GROUP_COUNT x1) x2)),(COUNT (compare (GROUP_SUM (GROUP_COUNT x1) (GROUP_COUNT x2)) (OR x3 x4))),(COUNT (compare (GROUP_SUM (GROUP_COUNT x1) (GROUP_COUNT x2)) number))\\ncandidate_s_expression_cores: (AND (JOIN (R dedicated_to) (JOIN instance_of work_of_art)) (JOIN instance_of common_name))\\x1f(AND (JOIN (R dedicated_to) (JOIN instance_of architectural_structure)) (JOIN instance_of common_name))\\x1f(AND (JOIN dedicated_to Paul) (JOIN instance_of work_of_art))\\x1f(AND (JOIN dedicated_to Paul) (JOIN instance_of architectural_structure))'},\n",
       "  {'role': 'assistant',\n",
       "   'content': '{\"template\": \"(COUNT (compare (GROUP_SUM (GROUP_COUNT x1) (GROUP_COUNT x2)) (OR x3 x4)))\", \"replacements\": {\"variables\": {\"x4\": \"(AND (JOIN dedicated_to Paul) (JOIN instance_of architectural_structure))\", \"x3\": \"(AND (JOIN dedicated_to Paul) (JOIN instance_of work_of_art))\", \"x2\": \"(AND (JOIN (R dedicated_to) (JOIN instance_of architectural_structure)) (JOIN instance_of common_name))\", \"x1\": \"(AND (JOIN (R dedicated_to) (JOIN instance_of work_of_art)) (JOIN instance_of common_name))\"}, \"constants\": {}, \"functions\": {\"compare\": \"GT\"}}}'},\n",
       "  {'role': 'user',\n",
       "   'content': 'question: How many administrative territories have less number of mythological Greek characters and peoples as their namesake than Augusta Treverorum ?\\ncandidate_templates: (COUNT (compare (GROUP_COUNT x1) number)),(COUNT (compare (GROUP_COUNT x1) x2)),(COUNT (compare (GROUP_SUM (GROUP_COUNT x1) (GROUP_COUNT x2)) (OR x3 x4))),(COUNT (compare (GROUP_SUM (GROUP_COUNT x1) (GROUP_COUNT x2)) number))\\ncandidate_s_expression_cores: (AND (JOIN named_after (JOIN instance_of mythological_Greek_character)) (JOIN instance_of administrative_territorial_entity))\\x1f(AND (JOIN named_after (JOIN instance_of people)) (JOIN instance_of administrative_territorial_entity))\\x1f(AND (JOIN (R named_after) Augusta_Treverorum) (JOIN instance_of mythological_Greek_character))\\x1f(AND (JOIN (R named_after) Augusta_Treverorum) (JOIN instance_of people))'},\n",
       "  {'role': 'assistant',\n",
       "   'content': '{\"template\": \"(COUNT (compare (GROUP_SUM (GROUP_COUNT x1) (GROUP_COUNT x2)) (OR x3 x4)))\", \"replacements\": {\"variables\": {\"x4\": \"(AND (JOIN (R named_after) Augusta_Treverorum) (JOIN instance_of people))\", \"x3\": \"(AND (JOIN (R named_after) Augusta_Treverorum) (JOIN instance_of mythological_Greek_character))\", \"x2\": \"(AND (JOIN named_after (JOIN instance_of people)) (JOIN instance_of administrative_territorial_entity))\", \"x1\": \"(AND (JOIN named_after (JOIN instance_of mythological_Greek_character)) (JOIN instance_of administrative_territorial_entity))\"}, \"constants\": {}, \"functions\": {\"compare\": \"LT\"}}}'},\n",
       "  {'role': 'user',\n",
       "   'content': 'question: How many people are the heads of state of more number of executive branches and states than Giovanni Gronchi?\\ncandidate_templates: (COUNT (compare (GROUP_COUNT x1) number)),(COUNT (compare (GROUP_COUNT x1) x2)),(COUNT (compare (GROUP_SUM (GROUP_COUNT x1) (GROUP_COUNT x2)) (OR x3 x4))),(COUNT (compare (GROUP_SUM (GROUP_COUNT x1) (GROUP_COUNT x2)) number))\\ncandidate_s_expression_cores: (AND (JOIN (R head_of_state) (JOIN instance_of executive_branch)) (JOIN instance_of common_name))\\x1f(AND (JOIN (R head_of_state) (JOIN instance_of state)) (JOIN instance_of common_name))\\x1f(AND (JOIN head_of_state Giovanni_Gronchi) (JOIN instance_of executive_branch))\\x1f(AND (JOIN head_of_state Giovanni_Gronchi) (JOIN instance_of state))'},\n",
       "  {'role': 'assistant',\n",
       "   'content': '{\"template\": \"(COUNT (compare (GROUP_SUM (GROUP_COUNT x1) (GROUP_COUNT x2)) (OR x3 x4)))\", \"replacements\": {\"variables\": {\"x4\": \"(AND (JOIN head_of_state Giovanni_Gronchi) (JOIN instance_of state))\", \"x3\": \"(AND (JOIN head_of_state Giovanni_Gronchi) (JOIN instance_of executive_branch))\", \"x2\": \"(AND (JOIN (R head_of_state) (JOIN instance_of state)) (JOIN instance_of common_name))\", \"x1\": \"(AND (JOIN (R head_of_state) (JOIN instance_of executive_branch)) (JOIN instance_of common_name))\"}, \"constants\": {}, \"functions\": {\"compare\": \"GT\"}}}'},\n",
       "  {'role': 'user',\n",
       "   'content': 'question: How many political territories have diplomatic relationships with around 44 administrative territories or political territories?\\ncandidate_templates: (COUNT (compare (GROUP_COUNT x1) number)),(COUNT (compare (GROUP_COUNT x1) x2)),(COUNT (compare (GROUP_SUM (GROUP_COUNT x1) (GROUP_COUNT x2)) (OR x3 x4))),(COUNT (compare (GROUP_SUM (GROUP_COUNT x1) (GROUP_COUNT x2)) number))\\ncandidate_s_expression_cores: (AND (JOIN (R diplomatic_relation) (JOIN instance_of designation_for_an_administrative_territorial_entity)) (JOIN instance_of political_territorial_entity))\\x1f(AND (JOIN (R diplomatic_relation) (JOIN instance_of political_territorial_entity)) (JOIN instance_of political_territorial_entity))'},\n",
       "  {'role': 'assistant',\n",
       "   'content': '{\"template\": \"(COUNT (compare (GROUP_SUM (GROUP_COUNT x1) (GROUP_COUNT x2)) number))\", \"replacements\": {\"variables\": {\"x2\": \"(AND (JOIN (R diplomatic_relation) (JOIN instance_of political_territorial_entity)) (JOIN instance_of political_territorial_entity))\", \"x1\": \"(AND (JOIN (R diplomatic_relation) (JOIN instance_of designation_for_an_administrative_territorial_entity)) (JOIN instance_of political_territorial_entity))\"}, \"constants\": {\"number\": 0}, \"functions\": {\"compare\": \"GT\"}}}'},\n",
       "  {'role': 'user',\n",
       "   'content': 'question: How many administrative territories have around 1 human settlements and cities have their center of administration ?\\ncandidate_templates: (COUNT (compare (GROUP_COUNT x1) number)),(COUNT (compare (GROUP_COUNT x1) x2)),(COUNT (compare (GROUP_SUM (GROUP_COUNT x1) (GROUP_COUNT x2)) (OR x3 x4))),(COUNT (compare (GROUP_SUM (GROUP_COUNT x1) (GROUP_COUNT x2)) number))\\ncandidate_s_expression_cores: (AND (JOIN (R capital_of) (JOIN instance_of human_settlement)) (JOIN instance_of designation_for_an_administrative_territorial_entity))\\x1f(AND (JOIN (R capital_of) (JOIN instance_of city)) (JOIN instance_of designation_for_an_administrative_territorial_entity))'},\n",
       "  {'role': 'assistant',\n",
       "   'content': '{\"template\": \"(COUNT (compare (GROUP_SUM (GROUP_COUNT x1) (GROUP_COUNT x2)) number))\", \"replacements\": {\"variables\": {\"x2\": \"(AND (JOIN (R capital_of) (JOIN instance_of city)) (JOIN instance_of designation_for_an_administrative_territorial_entity))\", \"x1\": \"(AND (JOIN (R capital_of) (JOIN instance_of human_settlement)) (JOIN instance_of designation_for_an_administrative_territorial_entity))\"}, \"constants\": {\"number\": 0}, \"functions\": {\"compare\": \"GT\"}}}'},\n",
       "  {'role': 'user',\n",
       "   'content': 'question: How many nutrients do around 19 chemical substances or nutrients communicate with ?\\ncandidate_templates: (COUNT (compare (GROUP_COUNT x1) number)),(COUNT (compare (GROUP_COUNT x1) x2)),(COUNT (compare (GROUP_SUM (GROUP_COUNT x1) (GROUP_COUNT x2)) (OR x3 x4))),(COUNT (compare (GROUP_SUM (GROUP_COUNT x1) (GROUP_COUNT x2)) number))\\ncandidate_s_expression_cores: (AND (JOIN (R physically_interacts_with) (JOIN instance_of chemical_substance)) (JOIN instance_of nutrient))\\x1f(AND (JOIN (R physically_interacts_with) (JOIN instance_of nutrient)) (JOIN instance_of nutrient))'},\n",
       "  {'role': 'assistant',\n",
       "   'content': '{\"template\": \"(COUNT (compare (GROUP_SUM (GROUP_COUNT x1) (GROUP_COUNT x2)) number))\", \"replacements\": {\"variables\": {\"x2\": \"(AND (JOIN (R physically_interacts_with) (JOIN instance_of nutrient)) (JOIN instance_of nutrient))\", \"x1\": \"(AND (JOIN (R physically_interacts_with) (JOIN instance_of chemical_substance)) (JOIN instance_of nutrient))\"}, \"constants\": {\"number\": 0}, \"functions\": {\"compare\": \"GT\"}}}'},\n",
       "  {'role': 'user',\n",
       "   'content': 'question: How many television programs have exactly 1 works of art or violent crimes as source of inspiration ?\\ncandidate_templates: (COUNT (compare (GROUP_COUNT x1) number)),(COUNT (compare (GROUP_COUNT x1) x2)),(COUNT (compare (GROUP_SUM (GROUP_COUNT x1) (GROUP_COUNT x2)) (OR x3 x4))),(COUNT (compare (GROUP_SUM (GROUP_COUNT x1) (GROUP_COUNT x2)) number))\\ncandidate_s_expression_cores: (AND (JOIN inspired_by (JOIN instance_of work_of_art)) (JOIN instance_of television_program))\\x1f(AND (JOIN inspired_by (JOIN instance_of violent_crime)) (JOIN instance_of television_program))'},\n",
       "  {'role': 'assistant',\n",
       "   'content': '{\"template\": \"(COUNT (compare (GROUP_SUM (GROUP_COUNT x1) (GROUP_COUNT x2)) number))\", \"replacements\": {\"variables\": {\"x2\": \"(AND (JOIN inspired_by (JOIN instance_of violent_crime)) (JOIN instance_of television_program))\", \"x1\": \"(AND (JOIN inspired_by (JOIN instance_of work_of_art)) (JOIN instance_of television_program))\"}, \"constants\": {\"number\": 1}, \"functions\": {\"compare\": \"EQ\"}}}'},\n",
       "  {'role': 'user',\n",
       "   'content': 'question: How many political territories are known to have diplomatic connections with around 110 administrative territories ?\\ncandidate_templates: (COUNT (compare (GROUP_COUNT x1) number)),(COUNT (compare (GROUP_COUNT x1) x2)),(COUNT (compare (GROUP_SUM (GROUP_COUNT x1) (GROUP_COUNT x2)) (OR x3 x4))),(COUNT (compare (GROUP_SUM (GROUP_COUNT x1) (GROUP_COUNT x2)) number))\\ncandidate_s_expression_cores: (AND (JOIN diplomatic_relation (JOIN instance_of designation_for_an_administrative_territorial_entity)) (JOIN instance_of political_territorial_entity))'},\n",
       "  {'role': 'assistant',\n",
       "   'content': '{\"template\": \"(COUNT (compare (GROUP_COUNT x1) number))\", \"replacements\": {\"variables\": {\"x1\": \"(AND (JOIN diplomatic_relation (JOIN instance_of designation_for_an_administrative_territorial_entity)) (JOIN instance_of political_territorial_entity))\"}, \"constants\": {\"number\": 0}, \"functions\": {\"compare\": \"GT\"}}}'},\n",
       "  {'role': 'user',\n",
       "   'content': 'question: How many technicss are used for the assembly of atmost 1 work of art ?\\ncandidate_templates: (COUNT (compare (GROUP_COUNT x1) number)),(COUNT (compare (GROUP_COUNT x1) x2)),(COUNT (compare (GROUP_SUM (GROUP_COUNT x1) (GROUP_COUNT x2)) (OR x3 x4))),(COUNT (compare (GROUP_SUM (GROUP_COUNT x1) (GROUP_COUNT x2)) number))\\ncandidate_s_expression_cores: (AND (JOIN (R fabrication_method) (JOIN instance_of work_of_art)) (JOIN instance_of technics))'},\n",
       "  {'role': 'assistant',\n",
       "   'content': '{\"template\": \"(COUNT (compare (GROUP_COUNT x1) number))\", \"replacements\": {\"variables\": {\"x1\": \"(AND (JOIN (R fabrication_method) (JOIN instance_of work_of_art)) (JOIN instance_of technics))\"}, \"constants\": {\"number\": 1}, \"functions\": {\"compare\": \"LE\"}}}'},\n",
       "  {'role': 'user',\n",
       "   'content': 'question: How many aircraft classes can be described as facility operator of atleast 1 organization ?\\ncandidate_templates: (COUNT (compare (GROUP_COUNT x1) number)),(COUNT (compare (GROUP_COUNT x1) x2)),(COUNT (compare (GROUP_SUM (GROUP_COUNT x1) (GROUP_COUNT x2)) (OR x3 x4))),(COUNT (compare (GROUP_SUM (GROUP_COUNT x1) (GROUP_COUNT x2)) number))\\ncandidate_s_expression_cores: (AND (JOIN operator (JOIN instance_of organization)) (JOIN instance_of aircraft_class))'},\n",
       "  {'role': 'assistant',\n",
       "   'content': '{\"template\": \"(COUNT (compare (GROUP_COUNT x1) number))\", \"replacements\": {\"variables\": {\"x1\": \"(AND (JOIN operator (JOIN instance_of organization)) (JOIN instance_of aircraft_class))\"}, \"constants\": {\"number\": 1}, \"functions\": {\"compare\": \"GE\"}}}'},\n",
       "  {'role': 'user',\n",
       "   'content': 'question: How many television series have been dubbed by atmost 25 people ?\\ncandidate_templates: (COUNT (compare (GROUP_COUNT x1) number)),(COUNT (compare (GROUP_COUNT x1) x2)),(COUNT (compare (GROUP_SUM (GROUP_COUNT x1) (GROUP_COUNT x2)) (OR x3 x4))),(COUNT (compare (GROUP_SUM (GROUP_COUNT x1) (GROUP_COUNT x2)) number))\\ncandidate_s_expression_cores: (AND (JOIN voice_actor (JOIN instance_of common_name)) (JOIN instance_of television_series))'},\n",
       "  {'role': 'assistant',\n",
       "   'content': '{\"template\": \"(COUNT (compare (GROUP_COUNT x1) number))\", \"replacements\": {\"variables\": {\"x1\": \"(AND (JOIN voice_actor (JOIN instance_of common_name)) (JOIN instance_of television_series))\"}, \"constants\": {\"number\": 25}, \"functions\": {\"compare\": \"LE\"}}}'}],\n",
       " 'simple': [{'role': 'user',\n",
       "   'content': 'question: Who is the offspring of Sabine Thalbach ?\\ncandidate_templates: (DIFF x1 x2),(DISTINCT x1),(GROUP_COUNT x1),(GROUP_SUM (GROUP_COUNT x1) (GROUP_COUNT x2)),(OR x1 x2),x1\\ncandidate_s_expression_cores: (AND (JOIN mother Sabine_Thalbach) (JOIN instance_of common_name))'},\n",
       "  {'role': 'assistant',\n",
       "   'content': '{\"template\": \"x1\", \"replacements\": {\"variables\": {\"x1\": \"(AND (JOIN mother Sabine_Thalbach) (JOIN instance_of common_name))\"}, \"constants\": {}, \"functions\": {}}}'},\n",
       "  {'role': 'user',\n",
       "   'content': 'question: Who is associated with Yuta Fukui ?\\ncandidate_templates: (DIFF x1 x2),(DISTINCT x1),(GROUP_COUNT x1),(GROUP_SUM (GROUP_COUNT x1) (GROUP_COUNT x2)),(OR x1 x2),x1\\ncandidate_s_expression_cores: (AND (JOIN (R family_name) Yuta_Fukui) (JOIN instance_of name))'},\n",
       "  {'role': 'assistant',\n",
       "   'content': '{\"template\": \"x1\", \"replacements\": {\"variables\": {\"x1\": \"(AND (JOIN (R family_name) Yuta_Fukui) (JOIN instance_of name))\"}, \"constants\": {}, \"functions\": {}}}'},\n",
       "  {'role': 'user',\n",
       "   'content': 'question: Which architectural structure is located in Madrid ?\\ncandidate_templates: (DIFF x1 x2),(DISTINCT x1),(GROUP_COUNT x1),(GROUP_SUM (GROUP_COUNT x1) (GROUP_COUNT x2)),(OR x1 x2),x1\\ncandidate_s_expression_cores: (AND (JOIN located_in/on_physical_feature Madrid) (JOIN instance_of architectural_structure))'},\n",
       "  {'role': 'assistant',\n",
       "   'content': '{\"template\": \"x1\", \"replacements\": {\"variables\": {\"x1\": \"(AND (JOIN located_in/on_physical_feature Madrid) (JOIN instance_of architectural_structure))\"}, \"constants\": {}, \"functions\": {}}}'},\n",
       "  {'role': 'user',\n",
       "   'content': 'question: What does Aleksandr Makhmutov do for a living?\\ncandidate_templates: (DIFF x1 x2),(DISTINCT x1),(GROUP_COUNT x1),(GROUP_SUM (GROUP_COUNT x1) (GROUP_COUNT x2)),(OR x1 x2),x1\\ncandidate_s_expression_cores: (AND (JOIN (R occupation) Aleksandr_Makhmutov) (JOIN instance_of occupation))'},\n",
       "  {'role': 'assistant',\n",
       "   'content': '{\"template\": \"x1\", \"replacements\": {\"variables\": {\"x1\": \"(AND (JOIN (R occupation) Aleksandr_Makhmutov) (JOIN instance_of occupation))\"}, \"constants\": {}, \"functions\": {}}}'},\n",
       "  {'role': 'user',\n",
       "   'content': 'question: Which administrative territories are the countries of origin of Cage of Girls or Saayad ?\\ncandidate_templates: (DIFF x1 x2),(DISTINCT x1),(GROUP_COUNT x1),(GROUP_SUM (GROUP_COUNT x1) (GROUP_COUNT x2)),(OR x1 x2),x1\\ncandidate_s_expression_cores: (AND (JOIN (R country_of_origin) Cage_of_Girls) (JOIN instance_of designation_for_an_administrative_territorial_entity))\\x1f(AND (JOIN (R country_of_origin) Saayad) (JOIN instance_of designation_for_an_administrative_territorial_entity))'},\n",
       "  {'role': 'assistant',\n",
       "   'content': '{\"template\": \"(OR x1 x2)\", \"replacements\": {\"variables\": {\"x2\": \"(AND (JOIN (R country_of_origin) Saayad) (JOIN instance_of designation_for_an_administrative_territorial_entity))\", \"x1\": \"(AND (JOIN (R country_of_origin) Cage_of_Girls) (JOIN instance_of designation_for_an_administrative_territorial_entity))\"}, \"constants\": {}, \"functions\": {}}}'},\n",
       "  {'role': 'user',\n",
       "   'content': 'question: Which political territories have a shared border with KwaZulu-Natal or are the native countries of Thilo Trotha?\\ncandidate_templates: (DIFF x1 x2),(DISTINCT x1),(GROUP_COUNT x1),(GROUP_SUM (GROUP_COUNT x1) (GROUP_COUNT x2)),(OR x1 x2),x1\\ncandidate_s_expression_cores: (AND (JOIN (R shares_border_with) KwaZulu-Natal) (JOIN instance_of political_territorial_entity))\\x1f(AND (JOIN (R country_of_citizenship) Thilo_Trotha) (JOIN instance_of political_territorial_entity))'},\n",
       "  {'role': 'assistant',\n",
       "   'content': '{\"template\": \"(OR x1 x2)\", \"replacements\": {\"variables\": {\"x2\": \"(AND (JOIN (R country_of_citizenship) Thilo_Trotha) (JOIN instance_of political_territorial_entity))\", \"x1\": \"(AND (JOIN (R shares_border_with) KwaZulu-Natal) (JOIN instance_of political_territorial_entity))\"}, \"constants\": {}, \"functions\": {}}}'},\n",
       "  {'role': 'user',\n",
       "   'content': 'question: Which political territories are Schwerin or Sivakasi riots of 1899 situated in ?\\ncandidate_templates: (DIFF x1 x2),(DISTINCT x1),(GROUP_COUNT x1),(GROUP_SUM (GROUP_COUNT x1) (GROUP_COUNT x2)),(OR x1 x2),x1\\ncandidate_s_expression_cores: (AND (JOIN (R country) Schwerin) (JOIN instance_of political_territorial_entity))\\x1f(AND (JOIN (R country) Sivakasi_riots_of_1899) (JOIN instance_of political_territorial_entity))'},\n",
       "  {'role': 'assistant',\n",
       "   'content': '{\"template\": \"(OR x1 x2)\", \"replacements\": {\"variables\": {\"x2\": \"(AND (JOIN (R country) Sivakasi_riots_of_1899) (JOIN instance_of political_territorial_entity))\", \"x1\": \"(AND (JOIN (R country) Schwerin) (JOIN instance_of political_territorial_entity))\"}, \"constants\": {}, \"functions\": {}}}'},\n",
       "  {'role': 'user',\n",
       "   'content': 'question: Which sporting events did Tobias Angerer or Nikolai Andrianov participate in ?\\ncandidate_templates: (DIFF x1 x2),(DISTINCT x1),(GROUP_COUNT x1),(GROUP_SUM (GROUP_COUNT x1) (GROUP_COUNT x2)),(OR x1 x2),x1\\ncandidate_s_expression_cores: (AND (JOIN (R participant_in) Tobias_Angerer) (JOIN instance_of sporting_event))\\x1f(AND (JOIN (R participant_in) Nikolai_Andrianov) (JOIN instance_of sporting_event))'},\n",
       "  {'role': 'assistant',\n",
       "   'content': '{\"template\": \"(OR x1 x2)\", \"replacements\": {\"variables\": {\"x2\": \"(AND (JOIN (R participant_in) Nikolai_Andrianov) (JOIN instance_of sporting_event))\", \"x1\": \"(AND (JOIN (R participant_in) Tobias_Angerer) (JOIN instance_of sporting_event))\"}, \"constants\": {}, \"functions\": {}}}'},\n",
       "  {'role': 'user',\n",
       "   'content': 'question: Who wrote the screenplay for Saw IV, Saw V and Saw 3D ?\\ncandidate_templates: (DIFF x1 x2),(DISTINCT x1),(GROUP_COUNT x1),(GROUP_SUM (GROUP_COUNT x1) (GROUP_COUNT x2)),(OR x1 x2),x1\\ncandidate_s_expression_cores: (AND (JOIN (R screenwriter) (VALUES Saw_IV Saw_V Saw_3D)) (JOIN instance_of common_name))'},\n",
       "  {'role': 'assistant',\n",
       "   'content': '{\"template\": \"(DISTINCT x1)\", \"replacements\": {\"variables\": {\"x1\": \"(AND (JOIN (R screenwriter) (VALUES Saw_IV Saw_V Saw_3D)) (JOIN instance_of common_name))\"}, \"constants\": {}, \"functions\": {}}}'},\n",
       "  {'role': 'user',\n",
       "   'content': 'question: Who knows to play davul, harpsichord and Wurlitzer electric piano ?\\ncandidate_templates: (DIFF x1 x2),(DISTINCT x1),(GROUP_COUNT x1),(GROUP_SUM (GROUP_COUNT x1) (GROUP_COUNT x2)),(OR x1 x2),x1\\ncandidate_s_expression_cores: (AND (JOIN instrument (VALUES davul harpsichord Wurlitzer_electric_piano)) (JOIN instance_of common_name))'},\n",
       "  {'role': 'assistant',\n",
       "   'content': '{\"template\": \"(DISTINCT x1)\", \"replacements\": {\"variables\": {\"x1\": \"(AND (JOIN instrument (VALUES davul harpsichord Wurlitzer_electric_piano)) (JOIN instance_of common_name))\"}, \"constants\": {}, \"functions\": {}}}'},\n",
       "  {'role': 'user',\n",
       "   'content': 'question: Which people have birthplace at Linyi, Wuhu, Kitami, Erlangen, Surabaya and Jūrmala ?\\ncandidate_templates: (DIFF x1 x2),(DISTINCT x1),(GROUP_COUNT x1),(GROUP_SUM (GROUP_COUNT x1) (GROUP_COUNT x2)),(OR x1 x2),x1\\ncandidate_s_expression_cores: (AND (JOIN place_of_birth (VALUES Linyi Wuhu Kitami Erlangen Surabaya Jūrmala)) (JOIN instance_of common_name))'},\n",
       "  {'role': 'assistant',\n",
       "   'content': '{\"template\": \"(DISTINCT x1)\", \"replacements\": {\"variables\": {\"x1\": \"(AND (JOIN place_of_birth (VALUES Linyi Wuhu Kitami Erlangen Surabaya J\\\\u016brmala)) (JOIN instance_of common_name))\"}, \"constants\": {}, \"functions\": {}}}'},\n",
       "  {'role': 'user',\n",
       "   'content': 'question: Which are the cell components of Fibroblast growth factor receptor 2, D(2) dopamine receptor, Retinoic acid receptor alpha?\\ncandidate_templates: (DIFF x1 x2),(DISTINCT x1),(GROUP_COUNT x1),(GROUP_SUM (GROUP_COUNT x1) (GROUP_COUNT x2)),(OR x1 x2),x1\\ncandidate_s_expression_cores: (AND (JOIN (R cell_component) (VALUES Fibroblast_growth_factor_receptor_2 D(2)_dopamine_receptor Retinoic_acid_receptor_alpha)) (JOIN instance_of part))'},\n",
       "  {'role': 'assistant',\n",
       "   'content': '{\"template\": \"(DISTINCT x1)\", \"replacements\": {\"variables\": {\"x1\": \"(AND (JOIN (R cell_component) (VALUES Fibroblast_growth_factor_receptor_2 D(2)_dopamine_receptor Retinoic_acid_receptor_alpha)) (JOIN instance_of part))\"}, \"constants\": {}, \"functions\": {}}}'},\n",
       "  {'role': 'user',\n",
       "   'content': 'question: Which watercourses are a portion of approximately the same number of world views and protected areas as Gordon Splits ?\\ncandidate_templates: (DIFF x1 x2),(DISTINCT x1),(GROUP_COUNT x1),(GROUP_SUM (GROUP_COUNT x1) (GROUP_COUNT x2)),(OR x1 x2),x1\\ncandidate_s_expression_cores: (AND (JOIN part_of (JOIN instance_of world_view)) (JOIN instance_of watercourse))\\x1f(AND (JOIN part_of (JOIN instance_of protected_area)) (JOIN instance_of watercourse))'},\n",
       "  {'role': 'assistant',\n",
       "   'content': '{\"template\": \"(GROUP_SUM (GROUP_COUNT x1) (GROUP_COUNT x2))\", \"replacements\": {\"variables\": {\"x2\": \"(AND (JOIN part_of (JOIN instance_of protected_area)) (JOIN instance_of watercourse))\", \"x1\": \"(AND (JOIN part_of (JOIN instance_of world_view)) (JOIN instance_of watercourse))\"}, \"constants\": {}, \"functions\": {}}}'},\n",
       "  {'role': 'user',\n",
       "   'content': 'question: Which architectural structures are depicted in around the same number of artwork series or medias as place de Clichy ?\\ncandidate_templates: (DIFF x1 x2),(DISTINCT x1),(GROUP_COUNT x1),(GROUP_SUM (GROUP_COUNT x1) (GROUP_COUNT x2)),(OR x1 x2),x1\\ncandidate_s_expression_cores: (AND (JOIN (R depicts) (JOIN instance_of artwork_series)) (JOIN instance_of architectural_structure))\\x1f(AND (JOIN (R depicts) (JOIN instance_of media)) (JOIN instance_of architectural_structure))'},\n",
       "  {'role': 'assistant',\n",
       "   'content': '{\"template\": \"(GROUP_SUM (GROUP_COUNT x1) (GROUP_COUNT x2))\", \"replacements\": {\"variables\": {\"x2\": \"(AND (JOIN (R depicts) (JOIN instance_of media)) (JOIN instance_of architectural_structure))\", \"x1\": \"(AND (JOIN (R depicts) (JOIN instance_of artwork_series)) (JOIN instance_of architectural_structure))\"}, \"constants\": {}, \"functions\": {}}}'},\n",
       "  {'role': 'user',\n",
       "   'content': 'question: Which people do approximately the same number of collectables or film genres extend upon as TJ Dawe?\\ncandidate_templates: (DIFF x1 x2),(DISTINCT x1),(GROUP_COUNT x1),(GROUP_SUM (GROUP_COUNT x1) (GROUP_COUNT x2)),(OR x1 x2),x1\\ncandidate_s_expression_cores: (AND (JOIN (R based_on) (JOIN instance_of collectable)) (JOIN instance_of common_name))\\x1f(AND (JOIN (R based_on) (JOIN instance_of film_genre)) (JOIN instance_of common_name))'},\n",
       "  {'role': 'assistant',\n",
       "   'content': '{\"template\": \"(GROUP_SUM (GROUP_COUNT x1) (GROUP_COUNT x2))\", \"replacements\": {\"variables\": {\"x2\": \"(AND (JOIN (R based_on) (JOIN instance_of film_genre)) (JOIN instance_of common_name))\", \"x1\": \"(AND (JOIN (R based_on) (JOIN instance_of collectable)) (JOIN instance_of common_name))\"}, \"constants\": {}, \"functions\": {}}}'},\n",
       "  {'role': 'user',\n",
       "   'content': 'question: Which occupations were discussed in approximately the same number of works of art and articles as medical examiner?\\ncandidate_templates: (DIFF x1 x2),(DISTINCT x1),(GROUP_COUNT x1),(GROUP_SUM (GROUP_COUNT x1) (GROUP_COUNT x2)),(OR x1 x2),x1\\ncandidate_s_expression_cores: (AND (JOIN (R main_subject) (JOIN instance_of work_of_art)) (JOIN instance_of occupation))\\x1f(AND (JOIN (R main_subject) (JOIN instance_of article)) (JOIN instance_of occupation))'},\n",
       "  {'role': 'assistant',\n",
       "   'content': '{\"template\": \"(GROUP_SUM (GROUP_COUNT x1) (GROUP_COUNT x2))\", \"replacements\": {\"variables\": {\"x2\": \"(AND (JOIN (R main_subject) (JOIN instance_of article)) (JOIN instance_of occupation))\", \"x1\": \"(AND (JOIN (R main_subject) (JOIN instance_of work_of_art)) (JOIN instance_of occupation))\"}, \"constants\": {}, \"functions\": {}}}'},\n",
       "  {'role': 'user',\n",
       "   'content': 'question: Which cellular components are the cell components of ADP-ribosylation factor-like protein 4C but not ABC transporter permease XCC3629 ?\\ncandidate_templates: (DIFF x1 x2),(DISTINCT x1),(GROUP_COUNT x1),(GROUP_SUM (GROUP_COUNT x1) (GROUP_COUNT x2)),(OR x1 x2),x1\\ncandidate_s_expression_cores: (AND (JOIN (R cell_component) ADP-ribosylation_factor-like_protein_4C) (JOIN instance_of cellular_component))\\x1f(JOIN (R cell_component) ABC_transporter_permease____XCC3629)'},\n",
       "  {'role': 'assistant',\n",
       "   'content': '{\"template\": \"(DIFF x1 x2)\", \"replacements\": {\"variables\": {\"x2\": \"(JOIN (R cell_component) ABC_transporter_permease____XCC3629)\", \"x1\": \"(AND (JOIN (R cell_component) ADP-ribosylation_factor-like_protein_4C) (JOIN instance_of cellular_component))\"}, \"constants\": {}, \"functions\": {}}}'},\n",
       "  {'role': 'user',\n",
       "   'content': 'question: Which people are a citizen of Gabon but not France ?\\ncandidate_templates: (DIFF x1 x2),(DISTINCT x1),(GROUP_COUNT x1),(GROUP_SUM (GROUP_COUNT x1) (GROUP_COUNT x2)),(OR x1 x2),x1\\ncandidate_s_expression_cores: (AND (JOIN country_of_citizenship Gabon) (JOIN instance_of common_name))\\x1f(JOIN country_of_citizenship France)'},\n",
       "  {'role': 'assistant',\n",
       "   'content': '{\"template\": \"(DIFF x1 x2)\", \"replacements\": {\"variables\": {\"x2\": \"(JOIN country_of_citizenship France)\", \"x1\": \"(AND (JOIN country_of_citizenship Gabon) (JOIN instance_of common_name))\"}, \"constants\": {}, \"functions\": {}}}'},\n",
       "  {'role': 'user',\n",
       "   'content': 'question: Which administrative territories have a diplomatic relationship with Germany and are not Sahnidih present in ?\\ncandidate_templates: (DIFF x1 x2),(DISTINCT x1),(GROUP_COUNT x1),(GROUP_SUM (GROUP_COUNT x1) (GROUP_COUNT x2)),(OR x1 x2),x1\\ncandidate_s_expression_cores: (AND (JOIN (R diplomatic_relation) Germany) (JOIN instance_of designation_for_an_administrative_territorial_entity))\\x1f(JOIN (R country) Sahnidih)'},\n",
       "  {'role': 'assistant',\n",
       "   'content': '{\"template\": \"(DIFF x1 x2)\", \"replacements\": {\"variables\": {\"x2\": \"(JOIN (R country) Sahnidih)\", \"x1\": \"(AND (JOIN (R diplomatic_relation) Germany) (JOIN instance_of designation_for_an_administrative_territorial_entity))\"}, \"constants\": {}, \"functions\": {}}}'},\n",
       "  {'role': 'user',\n",
       "   'content': 'question: Which administrative territories do Miguel Benasayag belong to and are not église Notre-Dame de Bonnenouvelle (Paulhiac) present in ?\\ncandidate_templates: (DIFF x1 x2),(DISTINCT x1),(GROUP_COUNT x1),(GROUP_SUM (GROUP_COUNT x1) (GROUP_COUNT x2)),(OR x1 x2),x1\\ncandidate_s_expression_cores: (AND (JOIN (R country_of_citizenship) Miguel_Benasayag) (JOIN instance_of designation_for_an_administrative_territorial_entity))\\x1f(JOIN (R country) église_Notre-Dame_de_Bonnenouvelle_(Paulhiac))'},\n",
       "  {'role': 'assistant',\n",
       "   'content': '{\"template\": \"(DIFF x1 x2)\", \"replacements\": {\"variables\": {\"x2\": \"(JOIN (R country) \\\\u00e9glise_Notre-Dame_de_Bonnenouvelle_(Paulhiac))\", \"x1\": \"(AND (JOIN (R country_of_citizenship) Miguel_Benasayag) (JOIN instance_of designation_for_an_administrative_territorial_entity))\"}, \"constants\": {}, \"functions\": {}}}'},\n",
       "  {'role': 'user',\n",
       "   'content': 'question: Which people are the patron saint of approximately the same number of occupations as Ivo of Kermartin?\\ncandidate_templates: (DIFF x1 x2),(DISTINCT x1),(GROUP_COUNT x1),(GROUP_SUM (GROUP_COUNT x1) (GROUP_COUNT x2)),(OR x1 x2),x1\\ncandidate_s_expression_cores: (AND (JOIN (R patron_saint) (JOIN instance_of occupation)) (JOIN instance_of common_name))'},\n",
       "  {'role': 'assistant',\n",
       "   'content': '{\"template\": \"(GROUP_COUNT x1)\", \"replacements\": {\"variables\": {\"x1\": \"(AND (JOIN (R patron_saint) (JOIN instance_of occupation)) (JOIN instance_of common_name))\"}, \"constants\": {}, \"functions\": {}}}'},\n",
       "  {'role': 'user',\n",
       "   'content': 'question: How many works of art are produced using silvering technique compared to linocut technique?\\ncandidate_templates: (DIFF x1 x2),(DISTINCT x1),(GROUP_COUNT x1),(GROUP_SUM (GROUP_COUNT x1) (GROUP_COUNT x2)),(OR x1 x2),x1\\ncandidate_s_expression_cores: (AND (JOIN (R fabrication_method) (JOIN instance_of work_of_art)) (JOIN instance_of technics))'},\n",
       "  {'role': 'assistant',\n",
       "   'content': '{\"template\": \"(GROUP_COUNT x1)\", \"replacements\": {\"variables\": {\"x1\": \"(AND (JOIN (R fabrication_method) (JOIN instance_of work_of_art)) (JOIN instance_of technics))\"}, \"constants\": {}, \"functions\": {}}}'},\n",
       "  {'role': 'user',\n",
       "   'content': 'question: Which works represent a fictional universe described in around the same number of works of art as Aladdin media franchise?\\ncandidate_templates: (DIFF x1 x2),(DISTINCT x1),(GROUP_COUNT x1),(GROUP_SUM (GROUP_COUNT x1) (GROUP_COUNT x2)),(OR x1 x2),x1\\ncandidate_s_expression_cores: (AND (JOIN fictional_universe_described_in (JOIN instance_of work_of_art)) (JOIN instance_of work))'},\n",
       "  {'role': 'assistant',\n",
       "   'content': '{\"template\": \"(GROUP_COUNT x1)\", \"replacements\": {\"variables\": {\"x1\": \"(AND (JOIN fictional_universe_described_in (JOIN instance_of work_of_art)) (JOIN instance_of work))\"}, \"constants\": {}, \"functions\": {}}}'},\n",
       "  {'role': 'user',\n",
       "   'content': 'question: What ship types have around the same number of administrative territories as registry port as Wellington?\\ncandidate_templates: (DIFF x1 x2),(DISTINCT x1),(GROUP_COUNT x1),(GROUP_SUM (GROUP_COUNT x1) (GROUP_COUNT x2)),(OR x1 x2),x1\\ncandidate_s_expression_cores: (AND (JOIN port_of_registry (JOIN instance_of administrative_territorial_entity)) (JOIN instance_of ship_type))'},\n",
       "  {'role': 'assistant',\n",
       "   'content': '{\"template\": \"(GROUP_COUNT x1)\", \"replacements\": {\"variables\": {\"x1\": \"(AND (JOIN port_of_registry (JOIN instance_of administrative_territorial_entity)) (JOIN instance_of ship_type))\"}, \"constants\": {}, \"functions\": {}}}'}],\n",
       " 'count': [{'role': 'user',\n",
       "   'content': 'question: How many former countries and administrative territories do London belong to ?\\ncandidate_templates: (COUNT (DISTINCT (OR x1 x2))),(COUNT (DISTINCT x1)),(COUNT (GROUP_COUNT x1)),(COUNT (GROUP_SUM (GROUP_COUNT x1) (GROUP_COUNT x2))),(COUNT x1)\\ncandidate_s_expression_cores: (AND (JOIN (R country) London) (JOIN instance_of former_country))\\x1f(AND (JOIN (R country) London) (JOIN instance_of designation_for_an_administrative_territorial_entity))'},\n",
       "  {'role': 'assistant',\n",
       "   'content': '{\"template\": \"(COUNT (DISTINCT (OR x1 x2)))\", \"replacements\": {\"variables\": {\"x2\": \"(AND (JOIN (R country) London) (JOIN instance_of designation_for_an_administrative_territorial_entity))\", \"x1\": \"(AND (JOIN (R country) London) (JOIN instance_of former_country))\"}, \"constants\": {}, \"functions\": {}}}'},\n",
       "  {'role': 'user',\n",
       "   'content': 'question: How many administrative territories or social groups were Czech Republic a member of ?\\ncandidate_templates: (COUNT (DISTINCT (OR x1 x2))),(COUNT (DISTINCT x1)),(COUNT (GROUP_COUNT x1)),(COUNT (GROUP_SUM (GROUP_COUNT x1) (GROUP_COUNT x2))),(COUNT x1)\\ncandidate_s_expression_cores: (AND (JOIN (R member_of) Czech_Republic) (JOIN instance_of administrative_territorial_entity))\\x1f(AND (JOIN (R member_of) Czech_Republic) (JOIN instance_of social_group))'},\n",
       "  {'role': 'assistant',\n",
       "   'content': '{\"template\": \"(COUNT (DISTINCT (OR x1 x2)))\", \"replacements\": {\"variables\": {\"x2\": \"(AND (JOIN (R member_of) Czech_Republic) (JOIN instance_of social_group))\", \"x1\": \"(AND (JOIN (R member_of) Czech_Republic) (JOIN instance_of administrative_territorial_entity))\"}, \"constants\": {}, \"functions\": {}}}'},\n",
       "  {'role': 'user',\n",
       "   'content': 'question: How many wars and armed conflicts did Australia compete in?\\ncandidate_templates: (COUNT (DISTINCT (OR x1 x2))),(COUNT (DISTINCT x1)),(COUNT (GROUP_COUNT x1)),(COUNT (GROUP_SUM (GROUP_COUNT x1) (GROUP_COUNT x2))),(COUNT x1)\\ncandidate_s_expression_cores: (AND (JOIN (R participant_in) Australia) (JOIN instance_of war))\\x1f(AND (JOIN (R participant_in) Australia) (JOIN instance_of armed_conflict))'},\n",
       "  {'role': 'assistant',\n",
       "   'content': '{\"template\": \"(COUNT (DISTINCT (OR x1 x2)))\", \"replacements\": {\"variables\": {\"x2\": \"(AND (JOIN (R participant_in) Australia) (JOIN instance_of armed_conflict))\", \"x1\": \"(AND (JOIN (R participant_in) Australia) (JOIN instance_of war))\"}, \"constants\": {}, \"functions\": {}}}'},\n",
       "  {'role': 'user',\n",
       "   'content': 'question: How many roads and automobile models come from Milan ?\\ncandidate_templates: (COUNT (DISTINCT (OR x1 x2))),(COUNT (DISTINCT x1)),(COUNT (GROUP_COUNT x1)),(COUNT (GROUP_SUM (GROUP_COUNT x1) (GROUP_COUNT x2))),(COUNT x1)\\ncandidate_s_expression_cores: (AND (JOIN named_after Milan) (JOIN instance_of road))\\x1f(AND (JOIN named_after Milan) (JOIN instance_of automobile_model))'},\n",
       "  {'role': 'assistant',\n",
       "   'content': '{\"template\": \"(COUNT (DISTINCT (OR x1 x2)))\", \"replacements\": {\"variables\": {\"x2\": \"(AND (JOIN named_after Milan) (JOIN instance_of automobile_model))\", \"x1\": \"(AND (JOIN named_after Milan) (JOIN instance_of road))\"}, \"constants\": {}, \"functions\": {}}}'},\n",
       "  {'role': 'user',\n",
       "   'content': 'question: How many people were born at Koblenz?\\ncandidate_templates: (COUNT (DISTINCT (OR x1 x2))),(COUNT (DISTINCT x1)),(COUNT (GROUP_COUNT x1)),(COUNT (GROUP_SUM (GROUP_COUNT x1) (GROUP_COUNT x2))),(COUNT x1)\\ncandidate_s_expression_cores: (AND (JOIN place_of_birth Koblenz) (JOIN instance_of common_name))'},\n",
       "  {'role': 'assistant',\n",
       "   'content': '{\"template\": \"(COUNT x1)\", \"replacements\": {\"variables\": {\"x1\": \"(AND (JOIN place_of_birth Koblenz) (JOIN instance_of common_name))\"}, \"constants\": {}, \"functions\": {}}}'},\n",
       "  {'role': 'user',\n",
       "   'content': 'question: Which sex does Constantinos Vardalachos possess?\\ncandidate_templates: (COUNT (DISTINCT (OR x1 x2))),(COUNT (DISTINCT x1)),(COUNT (GROUP_COUNT x1)),(COUNT (GROUP_SUM (GROUP_COUNT x1) (GROUP_COUNT x2))),(COUNT x1)\\ncandidate_s_expression_cores: (AND (JOIN (R occupation) Constantinos_Vardalachos) (JOIN instance_of common_name))'},\n",
       "  {'role': 'assistant',\n",
       "   'content': '{\"template\": \"(COUNT x1)\", \"replacements\": {\"variables\": {\"x1\": \"(AND (JOIN (R occupation) Constantinos_Vardalachos) (JOIN instance_of common_name))\"}, \"constants\": {}, \"functions\": {}}}'},\n",
       "  {'role': 'user',\n",
       "   'content': 'question: How many administrative territories are the native countries of Markus Keller?\\ncandidate_templates: (COUNT (DISTINCT (OR x1 x2))),(COUNT (DISTINCT x1)),(COUNT (GROUP_COUNT x1)),(COUNT (GROUP_SUM (GROUP_COUNT x1) (GROUP_COUNT x2))),(COUNT x1)\\ncandidate_s_expression_cores: (AND (JOIN (R country_of_citizenship) Markus_Keller) (JOIN instance_of designation_for_an_administrative_territorial_entity))'},\n",
       "  {'role': 'assistant',\n",
       "   'content': '{\"template\": \"(COUNT x1)\", \"replacements\": {\"variables\": {\"x1\": \"(AND (JOIN (R country_of_citizenship) Markus_Keller) (JOIN instance_of designation_for_an_administrative_territorial_entity))\"}, \"constants\": {}, \"functions\": {}}}'},\n",
       "  {'role': 'user',\n",
       "   'content': 'question: How many administrative territories have a diplomatic relationship with Italy?\\ncandidate_templates: (COUNT (DISTINCT (OR x1 x2))),(COUNT (DISTINCT x1)),(COUNT (GROUP_COUNT x1)),(COUNT (GROUP_SUM (GROUP_COUNT x1) (GROUP_COUNT x2))),(COUNT x1)\\ncandidate_s_expression_cores: (AND (JOIN (R diplomatic_relation) Italy) (JOIN instance_of designation_for_an_administrative_territorial_entity))'},\n",
       "  {'role': 'assistant',\n",
       "   'content': '{\"template\": \"(COUNT x1)\", \"replacements\": {\"variables\": {\"x1\": \"(AND (JOIN (R diplomatic_relation) Italy) (JOIN instance_of designation_for_an_administrative_territorial_entity))\"}, \"constants\": {}, \"functions\": {}}}'},\n",
       "  {'role': 'user',\n",
       "   'content': 'question: How many geographic locations are a portion of around the same number of events or political territories as Europe?\\ncandidate_templates: (COUNT (DISTINCT (OR x1 x2))),(COUNT (DISTINCT x1)),(COUNT (GROUP_COUNT x1)),(COUNT (GROUP_SUM (GROUP_COUNT x1) (GROUP_COUNT x2))),(COUNT x1)\\ncandidate_s_expression_cores: (AND (JOIN part_of (JOIN instance_of event)) (JOIN instance_of geographic_location))\\x1f(AND (JOIN part_of (JOIN instance_of political_territorial_entity)) (JOIN instance_of geographic_location))'},\n",
       "  {'role': 'assistant',\n",
       "   'content': '{\"template\": \"(COUNT (GROUP_SUM (GROUP_COUNT x1) (GROUP_COUNT x2)))\", \"replacements\": {\"variables\": {\"x2\": \"(AND (JOIN part_of (JOIN instance_of political_territorial_entity)) (JOIN instance_of geographic_location))\", \"x1\": \"(AND (JOIN part_of (JOIN instance_of event)) (JOIN instance_of geographic_location))\"}, \"constants\": {}, \"functions\": {}}}'},\n",
       "  {'role': 'user',\n",
       "   'content': 'question: How many cities are the capitals of around the same number of political territories or states as Mamuju ?\\ncandidate_templates: (COUNT (DISTINCT (OR x1 x2))),(COUNT (DISTINCT x1)),(COUNT (GROUP_COUNT x1)),(COUNT (GROUP_SUM (GROUP_COUNT x1) (GROUP_COUNT x2))),(COUNT x1)\\ncandidate_s_expression_cores: (AND (JOIN (R capital) (JOIN instance_of political_territorial_entity)) (JOIN instance_of city))\\x1f(AND (JOIN (R capital) (JOIN instance_of state)) (JOIN instance_of city))'},\n",
       "  {'role': 'assistant',\n",
       "   'content': '{\"template\": \"(COUNT (GROUP_SUM (GROUP_COUNT x1) (GROUP_COUNT x2)))\", \"replacements\": {\"variables\": {\"x2\": \"(AND (JOIN (R capital) (JOIN instance_of state)) (JOIN instance_of city))\", \"x1\": \"(AND (JOIN (R capital) (JOIN instance_of political_territorial_entity)) (JOIN instance_of city))\"}, \"constants\": {}, \"functions\": {}}}'},\n",
       "  {'role': 'user',\n",
       "   'content': 'question: How many people appears as a character in approximately the same number of literary works and visual artss as Jeanne of Valois-Saint-Rémy ?\\ncandidate_templates: (COUNT (DISTINCT (OR x1 x2))),(COUNT (DISTINCT x1)),(COUNT (GROUP_COUNT x1)),(COUNT (GROUP_SUM (GROUP_COUNT x1) (GROUP_COUNT x2))),(COUNT x1)\\ncandidate_s_expression_cores: (AND (JOIN (R characters) (JOIN instance_of literary_work)) (JOIN instance_of common_name))\\x1f(AND (JOIN (R characters) (JOIN instance_of visual_arts)) (JOIN instance_of common_name))'},\n",
       "  {'role': 'assistant',\n",
       "   'content': '{\"template\": \"(COUNT (GROUP_SUM (GROUP_COUNT x1) (GROUP_COUNT x2)))\", \"replacements\": {\"variables\": {\"x2\": \"(AND (JOIN (R characters) (JOIN instance_of visual_arts)) (JOIN instance_of common_name))\", \"x1\": \"(AND (JOIN (R characters) (JOIN instance_of literary_work)) (JOIN instance_of common_name))\"}, \"constants\": {}, \"functions\": {}}}'},\n",
       "  {'role': 'user',\n",
       "   'content': 'question: How many sports did around the same number of sport competitions and people participate in as Kart racing?\\ncandidate_templates: (COUNT (DISTINCT (OR x1 x2))),(COUNT (DISTINCT x1)),(COUNT (GROUP_COUNT x1)),(COUNT (GROUP_SUM (GROUP_COUNT x1) (GROUP_COUNT x2))),(COUNT x1)\\ncandidate_s_expression_cores: (AND (JOIN (R sport) (JOIN instance_of sport_competition)) (JOIN instance_of sport))\\x1f(AND (JOIN (R sport) (JOIN instance_of common_name)) (JOIN instance_of sport))'},\n",
       "  {'role': 'assistant',\n",
       "   'content': '{\"template\": \"(COUNT (GROUP_SUM (GROUP_COUNT x1) (GROUP_COUNT x2)))\", \"replacements\": {\"variables\": {\"x2\": \"(AND (JOIN (R sport) (JOIN instance_of common_name)) (JOIN instance_of sport))\", \"x1\": \"(AND (JOIN (R sport) (JOIN instance_of sport_competition)) (JOIN instance_of sport))\"}, \"constants\": {}, \"functions\": {}}}'},\n",
       "  {'role': 'user',\n",
       "   'content': 'question: How many works of art have their narrative set in United States of America and England ?\\ncandidate_templates: (COUNT (DISTINCT (OR x1 x2))),(COUNT (DISTINCT x1)),(COUNT (GROUP_COUNT x1)),(COUNT (GROUP_SUM (GROUP_COUNT x1) (GROUP_COUNT x2))),(COUNT x1)\\ncandidate_s_expression_cores: (AND (JOIN narrative_location United_States_of_America) (JOIN narrative_location England) (JOIN instance_of work_of_art))'},\n",
       "  {'role': 'assistant',\n",
       "   'content': '{\"template\": \"(COUNT (DISTINCT x1))\", \"replacements\": {\"variables\": {\"x1\": \"(AND (JOIN narrative_location United_States_of_America) (JOIN narrative_location England) (JOIN instance_of work_of_art))\"}, \"constants\": {}, \"functions\": {}}}'},\n",
       "  {'role': 'user',\n",
       "   'content': 'question: How many art genres are the genre for Peter Pan and Pinocchio ?\\ncandidate_templates: (COUNT (DISTINCT (OR x1 x2))),(COUNT (DISTINCT x1)),(COUNT (GROUP_COUNT x1)),(COUNT (GROUP_SUM (GROUP_COUNT x1) (GROUP_COUNT x2))),(COUNT x1)\\ncandidate_s_expression_cores: (AND (JOIN (R genre) Peter_Pan) (JOIN (R genre) Pinocchio) (JOIN instance_of art_genre))'},\n",
       "  {'role': 'assistant',\n",
       "   'content': '{\"template\": \"(COUNT (DISTINCT x1))\", \"replacements\": {\"variables\": {\"x1\": \"(AND (JOIN (R genre) Peter_Pan) (JOIN (R genre) Pinocchio) (JOIN instance_of art_genre))\"}, \"constants\": {}, \"functions\": {}}}'},\n",
       "  {'role': 'user',\n",
       "   'content': 'question: How many television programs have their narrative set in Japan and Dimension X ?\\ncandidate_templates: (COUNT (DISTINCT (OR x1 x2))),(COUNT (DISTINCT x1)),(COUNT (GROUP_COUNT x1)),(COUNT (GROUP_SUM (GROUP_COUNT x1) (GROUP_COUNT x2))),(COUNT x1)\\ncandidate_s_expression_cores: (AND (JOIN narrative_location Japan) (JOIN narrative_location Dimension_X) (JOIN instance_of television_program))'},\n",
       "  {'role': 'assistant',\n",
       "   'content': '{\"template\": \"(COUNT (DISTINCT x1))\", \"replacements\": {\"variables\": {\"x1\": \"(AND (JOIN narrative_location Japan) (JOIN narrative_location Dimension_X) (JOIN instance_of television_program))\"}, \"constants\": {}, \"functions\": {}}}'},\n",
       "  {'role': 'user',\n",
       "   'content': 'question: How many people are a native of France and England ?\\ncandidate_templates: (COUNT (DISTINCT (OR x1 x2))),(COUNT (DISTINCT x1)),(COUNT (GROUP_COUNT x1)),(COUNT (GROUP_SUM (GROUP_COUNT x1) (GROUP_COUNT x2))),(COUNT x1)\\ncandidate_s_expression_cores: (AND (JOIN country_of_citizenship France) (JOIN country_of_citizenship England) (JOIN instance_of common_name))'},\n",
       "  {'role': 'assistant',\n",
       "   'content': '{\"template\": \"(COUNT (DISTINCT x1))\", \"replacements\": {\"variables\": {\"x1\": \"(AND (JOIN country_of_citizenship France) (JOIN country_of_citizenship England) (JOIN instance_of common_name))\"}, \"constants\": {}, \"functions\": {}}}'},\n",
       "  {'role': 'user',\n",
       "   'content': 'question: Output: How many sports represent the main use of approximately the same number of ship types as badminton?\\ncandidate_templates: (COUNT (DISTINCT (OR x1 x2))),(COUNT (DISTINCT x1)),(COUNT (GROUP_COUNT x1)),(COUNT (GROUP_SUM (GROUP_COUNT x1) (GROUP_COUNT x2))),(COUNT x1)\\ncandidate_s_expression_cores: (AND (JOIN (R has_use) (JOIN instance_of ship_type)) (JOIN instance_of sport))'},\n",
       "  {'role': 'assistant',\n",
       "   'content': '{\"template\": \"(COUNT (GROUP_COUNT x1))\", \"replacements\": {\"variables\": {\"x1\": \"(AND (JOIN (R has_use) (JOIN instance_of ship_type)) (JOIN instance_of sport))\"}, \"constants\": {}, \"functions\": {}}}'},\n",
       "  {'role': 'user',\n",
       "   'content': 'question: How many works of art have been dubbed by around the same number of people as Pokémon: The First Movie: Mewtwo Strikes Back ?\\ncandidate_templates: (COUNT (DISTINCT (OR x1 x2))),(COUNT (DISTINCT x1)),(COUNT (GROUP_COUNT x1)),(COUNT (GROUP_SUM (GROUP_COUNT x1) (GROUP_COUNT x2))),(COUNT x1)\\ncandidate_s_expression_cores: (AND (JOIN voice_actor (JOIN instance_of common_name)) (JOIN instance_of work_of_art))'},\n",
       "  {'role': 'assistant',\n",
       "   'content': '{\"template\": \"(COUNT (GROUP_COUNT x1))\", \"replacements\": {\"variables\": {\"x1\": \"(AND (JOIN voice_actor (JOIN instance_of common_name)) (JOIN instance_of work_of_art))\"}, \"constants\": {}, \"functions\": {}}}'},\n",
       "  {'role': 'user',\n",
       "   'content': 'question: How many works are set up by approximately the same number of works of art as The Walking Dead?\\ncandidate_templates: (COUNT (DISTINCT (OR x1 x2))),(COUNT (DISTINCT x1)),(COUNT (GROUP_COUNT x1)),(COUNT (GROUP_SUM (GROUP_COUNT x1) (GROUP_COUNT x2))),(COUNT x1)\\ncandidate_s_expression_cores: (AND (JOIN fictional_universe_described_in (JOIN instance_of work_of_art)) (JOIN instance_of work))'},\n",
       "  {'role': 'assistant',\n",
       "   'content': '{\"template\": \"(COUNT (GROUP_COUNT x1))\", \"replacements\": {\"variables\": {\"x1\": \"(AND (JOIN fictional_universe_described_in (JOIN instance_of work_of_art)) (JOIN instance_of work))\"}, \"constants\": {}, \"functions\": {}}}'},\n",
       "  {'role': 'user',\n",
       "   'content': 'question: How many musical instruments can approximately the same number of people perform with as Lap steel guitar?\\ncandidate_templates: (COUNT (DISTINCT (OR x1 x2))),(COUNT (DISTINCT x1)),(COUNT (GROUP_COUNT x1)),(COUNT (GROUP_SUM (GROUP_COUNT x1) (GROUP_COUNT x2))),(COUNT x1)\\ncandidate_s_expression_cores: (AND (JOIN (R instrument) (JOIN instance_of common_name)) (JOIN instance_of musical_instrument))'},\n",
       "  {'role': 'assistant',\n",
       "   'content': '{\"template\": \"(COUNT (GROUP_COUNT x1))\", \"replacements\": {\"variables\": {\"x1\": \"(AND (JOIN (R instrument) (JOIN instance_of common_name)) (JOIN instance_of musical_instrument))\"}, \"constants\": {}, \"functions\": {}}}'}],\n",
       " 'compare': [{'role': 'user',\n",
       "   'content': 'question: Which social groups inspired less number of artwork series than Catholicism?\\ncandidate_templates: (compare (GROUP_COUNT x1) number),(compare (GROUP_COUNT x1) x2),(compare (GROUP_SUM (GROUP_COUNT x1) (GROUP_COUNT x2)) (OR x3 x4)),(compare (GROUP_SUM (GROUP_COUNT x1) (GROUP_COUNT x2)) number)\\ncandidate_s_expression_cores: (AND (JOIN (R inspired_by) (JOIN instance_of artwork_series)) (JOIN instance_of social_group))\\x1f(AND (JOIN inspired_by Catholicism) (JOIN instance_of artwork_series))'},\n",
       "  {'role': 'assistant',\n",
       "   'content': '{\"template\": \"(compare (GROUP_COUNT x1) x2)\", \"replacements\": {\"variables\": {\"x2\": \"(AND (JOIN inspired_by Catholicism) (JOIN instance_of artwork_series))\", \"x1\": \"(AND (JOIN (R inspired_by) (JOIN instance_of artwork_series)) (JOIN instance_of social_group))\"}, \"constants\": {}, \"functions\": {\"compare\": \"LT\"}}}'},\n",
       "  {'role': 'user',\n",
       "   'content': 'question: Which cities are a sister city of more number of human settlements than Tsuruoka ?\\ncandidate_templates: (compare (GROUP_COUNT x1) number),(compare (GROUP_COUNT x1) x2),(compare (GROUP_SUM (GROUP_COUNT x1) (GROUP_COUNT x2)) (OR x3 x4)),(compare (GROUP_SUM (GROUP_COUNT x1) (GROUP_COUNT x2)) number)\\ncandidate_s_expression_cores: (AND (JOIN twinned_administrative_body (JOIN instance_of human_settlement)) (JOIN instance_of city))\\x1f(AND (JOIN (R twinned_administrative_body) Tsuruoka) (JOIN instance_of city))'},\n",
       "  {'role': 'assistant',\n",
       "   'content': '{\"template\": \"(compare (GROUP_COUNT x1) x2)\", \"replacements\": {\"variables\": {\"x2\": \"(AND (JOIN (R twinned_administrative_body) Tsuruoka) (JOIN instance_of city))\", \"x1\": \"(AND (JOIN twinned_administrative_body (JOIN instance_of human_settlement)) (JOIN instance_of city))\"}, \"constants\": {}, \"functions\": {\"compare\": \"GT\"}}}'},\n",
       "  {'role': 'user',\n",
       "   'content': 'question: Which paintings are linked with more number of genres than Young Hare?\\ncandidate_templates: (compare (GROUP_COUNT x1) number),(compare (GROUP_COUNT x1) x2),(compare (GROUP_SUM (GROUP_COUNT x1) (GROUP_COUNT x2)) (OR x3 x4)),(compare (GROUP_SUM (GROUP_COUNT x1) (GROUP_COUNT x2)) number)\\ncandidate_s_expression_cores: (AND (JOIN movement (JOIN instance_of genre)) (JOIN instance_of painting))\\x1f(AND (JOIN (R movement) Young_Hare) (JOIN instance_of painting))'},\n",
       "  {'role': 'assistant',\n",
       "   'content': '{\"template\": \"(compare (GROUP_COUNT x1) x2)\", \"replacements\": {\"variables\": {\"x2\": \"(AND (JOIN (R movement) Young_Hare) (JOIN instance_of painting))\", \"x1\": \"(AND (JOIN movement (JOIN instance_of genre)) (JOIN instance_of painting))\"}, \"constants\": {}, \"functions\": {\"compare\": \"GT\"}}}'},\n",
       "  {'role': 'user',\n",
       "   'content': 'question: Which business enterprises contains greater number of divisions as their subordinate than McCain Foods?\\ncandidate_templates: (compare (GROUP_COUNT x1) number),(compare (GROUP_COUNT x1) x2),(compare (GROUP_SUM (GROUP_COUNT x1) (GROUP_COUNT x2)) (OR x3 x4)),(compare (GROUP_SUM (GROUP_COUNT x1) (GROUP_COUNT x2)) number)\\ncandidate_s_expression_cores: (AND (JOIN has_subsidiary (JOIN instance_of division)) (JOIN instance_of business_enterprise))\\x1f(AND (JOIN (R has_subsidiary) McCain_Foods) (JOIN instance_of business_enterprise))'},\n",
       "  {'role': 'assistant',\n",
       "   'content': '{\"template\": \"(compare (GROUP_COUNT x1) x2)\", \"replacements\": {\"variables\": {\"x2\": \"(AND (JOIN (R has_subsidiary) McCain_Foods) (JOIN instance_of business_enterprise))\", \"x1\": \"(AND (JOIN has_subsidiary (JOIN instance_of division)) (JOIN instance_of business_enterprise))\"}, \"constants\": {}, \"functions\": {\"compare\": \"GT\"}}}'},\n",
       "  {'role': 'user',\n",
       "   'content': 'question: Which administrative territories consists of lesser number of administrative territories or french administrative divisions as their capital than Gers?\\ncandidate_templates: (compare (GROUP_COUNT x1) number),(compare (GROUP_COUNT x1) x2),(compare (GROUP_SUM (GROUP_COUNT x1) (GROUP_COUNT x2)) (OR x3 x4)),(compare (GROUP_SUM (GROUP_COUNT x1) (GROUP_COUNT x2)) number)\\ncandidate_s_expression_cores: (AND (JOIN capital (JOIN instance_of administrative_territorial_entity)) (JOIN instance_of designation_for_an_administrative_territorial_entity))\\x1f(AND (JOIN capital (JOIN instance_of type_of_french_administrative_division)) (JOIN instance_of designation_for_an_administrative_territorial_entity))\\x1f(AND (JOIN (R capital) Gers) (JOIN instance_of administrative_territorial_entity))\\x1f(AND (JOIN (R capital) Gers) (JOIN instance_of type_of_french_administrative_division))'},\n",
       "  {'role': 'assistant',\n",
       "   'content': '{\"template\": \"(compare (GROUP_SUM (GROUP_COUNT x1) (GROUP_COUNT x2)) (OR x3 x4))\", \"replacements\": {\"variables\": {\"x4\": \"(AND (JOIN (R capital) Gers) (JOIN instance_of type_of_french_administrative_division))\", \"x3\": \"(AND (JOIN (R capital) Gers) (JOIN instance_of administrative_territorial_entity))\", \"x2\": \"(AND (JOIN capital (JOIN instance_of type_of_french_administrative_division)) (JOIN instance_of designation_for_an_administrative_territorial_entity))\", \"x1\": \"(AND (JOIN capital (JOIN instance_of administrative_territorial_entity)) (JOIN instance_of designation_for_an_administrative_territorial_entity))\"}, \"constants\": {}, \"functions\": {\"compare\": \"LT\"}}}'},\n",
       "  {'role': 'user',\n",
       "   'content': 'question: Which administrative territories have greater number of parliaments or municipal councils as their representative body than San Marino?\\ncandidate_templates: (compare (GROUP_COUNT x1) number),(compare (GROUP_COUNT x1) x2),(compare (GROUP_SUM (GROUP_COUNT x1) (GROUP_COUNT x2)) (OR x3 x4)),(compare (GROUP_SUM (GROUP_COUNT x1) (GROUP_COUNT x2)) number)\\ncandidate_s_expression_cores: (AND (JOIN legislative_body (JOIN instance_of parliament)) (JOIN instance_of designation_for_an_administrative_territorial_entity))\\x1f(AND (JOIN legislative_body (JOIN instance_of municipal_council)) (JOIN instance_of designation_for_an_administrative_territorial_entity))\\x1f(AND (JOIN (R legislative_body) San_Marino) (JOIN instance_of parliament))\\x1f(AND (JOIN (R legislative_body) San_Marino) (JOIN instance_of municipal_council))'},\n",
       "  {'role': 'assistant',\n",
       "   'content': '{\"template\": \"(compare (GROUP_SUM (GROUP_COUNT x1) (GROUP_COUNT x2)) (OR x3 x4))\", \"replacements\": {\"variables\": {\"x4\": \"(AND (JOIN (R legislative_body) San_Marino) (JOIN instance_of municipal_council))\", \"x3\": \"(AND (JOIN (R legislative_body) San_Marino) (JOIN instance_of parliament))\", \"x2\": \"(AND (JOIN legislative_body (JOIN instance_of municipal_council)) (JOIN instance_of designation_for_an_administrative_territorial_entity))\", \"x1\": \"(AND (JOIN legislative_body (JOIN instance_of parliament)) (JOIN instance_of designation_for_an_administrative_territorial_entity))\"}, \"constants\": {}, \"functions\": {\"compare\": \"GT\"}}}'},\n",
       "  {'role': 'user',\n",
       "   'content': 'question: Which administrative territories have diplomatic relations with less number of administrative territories and political territories than Republic of Moldova ?\\ncandidate_templates: (compare (GROUP_COUNT x1) number),(compare (GROUP_COUNT x1) x2),(compare (GROUP_SUM (GROUP_COUNT x1) (GROUP_COUNT x2)) (OR x3 x4)),(compare (GROUP_SUM (GROUP_COUNT x1) (GROUP_COUNT x2)) number)\\ncandidate_s_expression_cores: (AND (JOIN (R diplomatic_relation) (JOIN instance_of designation_for_an_administrative_territorial_entity)) (JOIN instance_of designation_for_an_administrative_territorial_entity))\\x1f(AND (JOIN (R diplomatic_relation) (JOIN instance_of political_territorial_entity)) (JOIN instance_of designation_for_an_administrative_territorial_entity))\\x1f(AND (JOIN diplomatic_relation Republic_of_Moldova) (JOIN instance_of designation_for_an_administrative_territorial_entity))\\x1f(AND (JOIN diplomatic_relation Republic_of_Moldova) (JOIN instance_of political_territorial_entity))'},\n",
       "  {'role': 'assistant',\n",
       "   'content': '{\"template\": \"(compare (GROUP_SUM (GROUP_COUNT x1) (GROUP_COUNT x2)) (OR x3 x4))\", \"replacements\": {\"variables\": {\"x4\": \"(AND (JOIN diplomatic_relation Republic_of_Moldova) (JOIN instance_of political_territorial_entity))\", \"x3\": \"(AND (JOIN diplomatic_relation Republic_of_Moldova) (JOIN instance_of designation_for_an_administrative_territorial_entity))\", \"x2\": \"(AND (JOIN (R diplomatic_relation) (JOIN instance_of political_territorial_entity)) (JOIN instance_of designation_for_an_administrative_territorial_entity))\", \"x1\": \"(AND (JOIN (R diplomatic_relation) (JOIN instance_of designation_for_an_administrative_territorial_entity)) (JOIN instance_of designation_for_an_administrative_territorial_entity))\"}, \"constants\": {}, \"functions\": {\"compare\": \"LT\"}}}'},\n",
       "  {'role': 'user',\n",
       "   'content': 'question: Output: Which communications are the field of work of less number of organizations or people than translation?\\ncandidate_templates: (compare (GROUP_COUNT x1) number),(compare (GROUP_COUNT x1) x2),(compare (GROUP_SUM (GROUP_COUNT x1) (GROUP_COUNT x2)) (OR x3 x4)),(compare (GROUP_SUM (GROUP_COUNT x1) (GROUP_COUNT x2)) number)\\ncandidate_s_expression_cores: (AND (JOIN (R field_of_work) (JOIN instance_of organization)) (JOIN instance_of communication))\\x1f(AND (JOIN (R field_of_work) (JOIN instance_of common_name)) (JOIN instance_of communication))\\x1f(AND (JOIN field_of_work translation) (JOIN instance_of organization))\\x1f(AND (JOIN field_of_work translation) (JOIN instance_of common_name))'},\n",
       "  {'role': 'assistant',\n",
       "   'content': '{\"template\": \"(compare (GROUP_SUM (GROUP_COUNT x1) (GROUP_COUNT x2)) (OR x3 x4))\", \"replacements\": {\"variables\": {\"x4\": \"(AND (JOIN field_of_work translation) (JOIN instance_of common_name))\", \"x3\": \"(AND (JOIN field_of_work translation) (JOIN instance_of organization))\", \"x2\": \"(AND (JOIN (R field_of_work) (JOIN instance_of common_name)) (JOIN instance_of communication))\", \"x1\": \"(AND (JOIN (R field_of_work) (JOIN instance_of organization)) (JOIN instance_of communication))\"}, \"constants\": {}, \"functions\": {\"compare\": \"LT\"}}}'},\n",
       "  {'role': 'user',\n",
       "   'content': 'question: Which metabolic processes are atmost 597 nutrients involved in ?\\ncandidate_templates: (compare (GROUP_COUNT x1) number),(compare (GROUP_COUNT x1) x2),(compare (GROUP_SUM (GROUP_COUNT x1) (GROUP_COUNT x2)) (OR x3 x4)),(compare (GROUP_SUM (GROUP_COUNT x1) (GROUP_COUNT x2)) number)\\ncandidate_s_expression_cores: (AND (JOIN (R biological_process) (JOIN instance_of nutrient)) (JOIN instance_of metabolic_process))'},\n",
       "  {'role': 'assistant',\n",
       "   'content': '{\"template\": \"(compare (GROUP_COUNT x1) number)\", \"replacements\": {\"variables\": {\"x1\": \"(AND (JOIN (R biological_process) (JOIN instance_of nutrient)) (JOIN instance_of metabolic_process))\"}, \"constants\": {\"number\": 597}, \"functions\": {\"compare\": \"LE\"}}}'},\n",
       "  {'role': 'user',\n",
       "   'content': 'question: Which administrative territories have diplomatic relations with exactly 2 administrative territories ?\\ncandidate_templates: (compare (GROUP_COUNT x1) number),(compare (GROUP_COUNT x1) x2),(compare (GROUP_SUM (GROUP_COUNT x1) (GROUP_COUNT x2)) (OR x3 x4)),(compare (GROUP_SUM (GROUP_COUNT x1) (GROUP_COUNT x2)) number)\\ncandidate_s_expression_cores: (AND (JOIN (R diplomatic_relation) (JOIN instance_of designation_for_an_administrative_territorial_entity)) (JOIN instance_of designation_for_an_administrative_territorial_entity))'},\n",
       "  {'role': 'assistant',\n",
       "   'content': '{\"template\": \"(compare (GROUP_COUNT x1) number)\", \"replacements\": {\"variables\": {\"x1\": \"(AND (JOIN (R diplomatic_relation) (JOIN instance_of designation_for_an_administrative_territorial_entity)) (JOIN instance_of designation_for_an_administrative_territorial_entity))\"}, \"constants\": {\"number\": 2}, \"functions\": {\"compare\": \"EQ\"}}}'},\n",
       "  {'role': 'user',\n",
       "   'content': 'question: Which political territories have tactful political relations with around 1 political territory ?\\ncandidate_templates: (compare (GROUP_COUNT x1) number),(compare (GROUP_COUNT x1) x2),(compare (GROUP_SUM (GROUP_COUNT x1) (GROUP_COUNT x2)) (OR x3 x4)),(compare (GROUP_SUM (GROUP_COUNT x1) (GROUP_COUNT x2)) number)\\ncandidate_s_expression_cores: (AND (JOIN diplomatic_relation (JOIN instance_of political_territorial_entity)) (JOIN instance_of political_territorial_entity))'},\n",
       "  {'role': 'assistant',\n",
       "   'content': '{\"template\": \"(compare (GROUP_COUNT x1) number)\", \"replacements\": {\"variables\": {\"x1\": \"(AND (JOIN diplomatic_relation (JOIN instance_of political_territorial_entity)) (JOIN instance_of political_territorial_entity))\"}, \"constants\": {\"number\": 0}, \"functions\": {\"compare\": \"GT\"}}}'},\n",
       "  {'role': 'user',\n",
       "   'content': 'question: Which political territories have tactful political relations with exactly 106 administrative territories ?\\ncandidate_templates: (compare (GROUP_COUNT x1) number),(compare (GROUP_COUNT x1) x2),(compare (GROUP_SUM (GROUP_COUNT x1) (GROUP_COUNT x2)) (OR x3 x4)),(compare (GROUP_SUM (GROUP_COUNT x1) (GROUP_COUNT x2)) number)\\ncandidate_s_expression_cores: (AND (JOIN diplomatic_relation (JOIN instance_of designation_for_an_administrative_territorial_entity)) (JOIN instance_of political_territorial_entity))'},\n",
       "  {'role': 'assistant',\n",
       "   'content': '{\"template\": \"(compare (GROUP_COUNT x1) number)\", \"replacements\": {\"variables\": {\"x1\": \"(AND (JOIN diplomatic_relation (JOIN instance_of designation_for_an_administrative_territorial_entity)) (JOIN instance_of political_territorial_entity))\"}, \"constants\": {\"number\": 106}, \"functions\": {\"compare\": \"EQ\"}}}'},\n",
       "  {'role': 'user',\n",
       "   'content': 'question: Which occupations did atleast 1 municipal councils and people appoint?\\ncandidate_templates: (compare (GROUP_COUNT x1) number),(compare (GROUP_COUNT x1) x2),(compare (GROUP_SUM (GROUP_COUNT x1) (GROUP_COUNT x2)) (OR x3 x4)),(compare (GROUP_SUM (GROUP_COUNT x1) (GROUP_COUNT x2)) number)\\ncandidate_s_expression_cores: (AND (JOIN appointed_by (JOIN instance_of municipal_council)) (JOIN instance_of occupation))\\x1f(AND (JOIN appointed_by (JOIN instance_of common_name)) (JOIN instance_of occupation))'},\n",
       "  {'role': 'assistant',\n",
       "   'content': '{\"template\": \"(compare (GROUP_SUM (GROUP_COUNT x1) (GROUP_COUNT x2)) number)\", \"replacements\": {\"variables\": {\"x2\": \"(AND (JOIN appointed_by (JOIN instance_of common_name)) (JOIN instance_of occupation))\", \"x1\": \"(AND (JOIN appointed_by (JOIN instance_of municipal_council)) (JOIN instance_of occupation))\"}, \"constants\": {\"number\": 1}, \"functions\": {\"compare\": \"GE\"}}}'},\n",
       "  {'role': 'user',\n",
       "   'content': 'question: Which taxons are depicted in approximately 1 collectables and genres of sculpture ?\\ncandidate_templates: (compare (GROUP_COUNT x1) number),(compare (GROUP_COUNT x1) x2),(compare (GROUP_SUM (GROUP_COUNT x1) (GROUP_COUNT x2)) (OR x3 x4)),(compare (GROUP_SUM (GROUP_COUNT x1) (GROUP_COUNT x2)) number)\\ncandidate_s_expression_cores: (AND (JOIN (R depicts) (JOIN instance_of collectable)) (JOIN instance_of taxon))\\x1f(AND (JOIN (R depicts) (JOIN instance_of genre_of_sculpture)) (JOIN instance_of taxon))'},\n",
       "  {'role': 'assistant',\n",
       "   'content': '{\"template\": \"(compare (GROUP_SUM (GROUP_COUNT x1) (GROUP_COUNT x2)) number)\", \"replacements\": {\"variables\": {\"x2\": \"(AND (JOIN (R depicts) (JOIN instance_of genre_of_sculpture)) (JOIN instance_of taxon))\", \"x1\": \"(AND (JOIN (R depicts) (JOIN instance_of collectable)) (JOIN instance_of taxon))\"}, \"constants\": {\"number\": 0}, \"functions\": {\"compare\": \"GT\"}}}'},\n",
       "  {'role': 'user',\n",
       "   'content': 'question: Which languages are the languages of work for atleast 692 releases or literary works ?\\ncandidate_templates: (compare (GROUP_COUNT x1) number),(compare (GROUP_COUNT x1) x2),(compare (GROUP_SUM (GROUP_COUNT x1) (GROUP_COUNT x2)) (OR x3 x4)),(compare (GROUP_SUM (GROUP_COUNT x1) (GROUP_COUNT x2)) number)\\ncandidate_s_expression_cores: (AND (JOIN (R language_of_work_or_name) (JOIN instance_of release)) (JOIN instance_of language))\\x1f(AND (JOIN (R language_of_work_or_name) (JOIN instance_of literary_work)) (JOIN instance_of language))'},\n",
       "  {'role': 'assistant',\n",
       "   'content': '{\"template\": \"(compare (GROUP_SUM (GROUP_COUNT x1) (GROUP_COUNT x2)) number)\", \"replacements\": {\"variables\": {\"x2\": \"(AND (JOIN (R language_of_work_or_name) (JOIN instance_of literary_work)) (JOIN instance_of language))\", \"x1\": \"(AND (JOIN (R language_of_work_or_name) (JOIN instance_of release)) (JOIN instance_of language))\"}, \"constants\": {\"number\": 692}, \"functions\": {\"compare\": \"GE\"}}}'},\n",
       "  {'role': 'user',\n",
       "   'content': 'question: Which works are preserved in atleast 1 organizations and collections ?\\ncandidate_templates: (compare (GROUP_COUNT x1) number),(compare (GROUP_COUNT x1) x2),(compare (GROUP_SUM (GROUP_COUNT x1) (GROUP_COUNT x2)) (OR x3 x4)),(compare (GROUP_SUM (GROUP_COUNT x1) (GROUP_COUNT x2)) number)\\ncandidate_s_expression_cores: (AND (JOIN collection (JOIN instance_of organization)) (JOIN instance_of work))\\x1f(AND (JOIN collection (JOIN instance_of collection)) (JOIN instance_of work))'},\n",
       "  {'role': 'assistant',\n",
       "   'content': '{\"template\": \"(compare (GROUP_SUM (GROUP_COUNT x1) (GROUP_COUNT x2)) number)\", \"replacements\": {\"variables\": {\"x2\": \"(AND (JOIN collection (JOIN instance_of collection)) (JOIN instance_of work))\", \"x1\": \"(AND (JOIN collection (JOIN instance_of organization)) (JOIN instance_of work))\"}, \"constants\": {\"number\": 1}, \"functions\": {\"compare\": \"GE\"}}}'}],\n",
       " 'optimize': [{'role': 'user',\n",
       "   'content': 'question: Which people were recognized as the statistical leader of max number of association football leagues and recurring sporting events ?\\ncandidate_templates: (optimize (GROUP_COUNT x1)),(optimize (GROUP_SUM (GROUP_COUNT x1) (GROUP_COUNT x2)))\\ncandidate_s_expression_cores: (AND (JOIN (R statistical_leader) (JOIN instance_of association_football_league)) (JOIN instance_of common_name))\\x1f(AND (JOIN (R statistical_leader) (JOIN instance_of recurring_sporting_event)) (JOIN instance_of common_name))'},\n",
       "  {'role': 'assistant',\n",
       "   'content': '{\"template\": \"(optimize (GROUP_SUM (GROUP_COUNT x1) (GROUP_COUNT x2)))\", \"replacements\": {\"variables\": {\"x2\": \"(AND (JOIN (R statistical_leader) (JOIN instance_of recurring_sporting_event)) (JOIN instance_of common_name))\", \"x1\": \"(AND (JOIN (R statistical_leader) (JOIN instance_of association_football_league)) (JOIN instance_of common_name))\"}, \"constants\": {}, \"functions\": {\"optimize\": \"ARGMAX\"}}}'},\n",
       "  {'role': 'user',\n",
       "   'content': 'question: Which nutrients do max number of nutrients and drugs communicate with ?\\ncandidate_templates: (optimize (GROUP_COUNT x1)),(optimize (GROUP_SUM (GROUP_COUNT x1) (GROUP_COUNT x2)))\\ncandidate_s_expression_cores: (AND (JOIN (R physically_interacts_with) (JOIN instance_of nutrient)) (JOIN instance_of nutrient))\\x1f(AND (JOIN (R physically_interacts_with) (JOIN instance_of drug)) (JOIN instance_of nutrient))'},\n",
       "  {'role': 'assistant',\n",
       "   'content': '{\"template\": \"(optimize (GROUP_SUM (GROUP_COUNT x1) (GROUP_COUNT x2)))\", \"replacements\": {\"variables\": {\"x2\": \"(AND (JOIN (R physically_interacts_with) (JOIN instance_of drug)) (JOIN instance_of nutrient))\", \"x1\": \"(AND (JOIN (R physically_interacts_with) (JOIN instance_of nutrient)) (JOIN instance_of nutrient))\"}, \"constants\": {}, \"functions\": {\"optimize\": \"ARGMAX\"}}}'},\n",
       "  {'role': 'user',\n",
       "   'content': 'question: Which sports represent the main use of max number of ship types and tools ?\\ncandidate_templates: (optimize (GROUP_COUNT x1)),(optimize (GROUP_SUM (GROUP_COUNT x1) (GROUP_COUNT x2)))\\ncandidate_s_expression_cores: (AND (JOIN (R has_use) (JOIN instance_of ship_type)) (JOIN instance_of sport))\\x1f(AND (JOIN (R has_use) (JOIN instance_of tool)) (JOIN instance_of sport))'},\n",
       "  {'role': 'assistant',\n",
       "   'content': '{\"template\": \"(optimize (GROUP_SUM (GROUP_COUNT x1) (GROUP_COUNT x2)))\", \"replacements\": {\"variables\": {\"x2\": \"(AND (JOIN (R has_use) (JOIN instance_of tool)) (JOIN instance_of sport))\", \"x1\": \"(AND (JOIN (R has_use) (JOIN instance_of ship_type)) (JOIN instance_of sport))\"}, \"constants\": {}, \"functions\": {\"optimize\": \"ARGMAX\"}}}'},\n",
       "  {'role': 'user',\n",
       "   'content': 'question: Which classification schemes uses min number of weapon families or ranged weapons for protection ?\\ncandidate_templates: (optimize (GROUP_COUNT x1)),(optimize (GROUP_SUM (GROUP_COUNT x1) (GROUP_COUNT x2)))\\ncandidate_s_expression_cores: (AND (JOIN armament (JOIN instance_of weapon_family)) (JOIN instance_of classification_scheme))\\x1f(AND (JOIN armament (JOIN instance_of ranged_weapon)) (JOIN instance_of classification_scheme))'},\n",
       "  {'role': 'assistant',\n",
       "   'content': '{\"template\": \"(optimize (GROUP_SUM (GROUP_COUNT x1) (GROUP_COUNT x2)))\", \"replacements\": {\"variables\": {\"x2\": \"(AND (JOIN armament (JOIN instance_of ranged_weapon)) (JOIN instance_of classification_scheme))\", \"x1\": \"(AND (JOIN armament (JOIN instance_of weapon_family)) (JOIN instance_of classification_scheme))\"}, \"constants\": {}, \"functions\": {\"optimize\": \"ARGMIN\"}}}'},\n",
       "  {'role': 'user',\n",
       "   'content': 'question: Which political territories have ambassadorial relations with max number of administrative territories ?\\ncandidate_templates: (optimize (GROUP_COUNT x1)),(optimize (GROUP_SUM (GROUP_COUNT x1) (GROUP_COUNT x2)))\\ncandidate_s_expression_cores: (AND (JOIN diplomatic_relation (JOIN instance_of designation_for_an_administrative_territorial_entity)) (JOIN instance_of political_territorial_entity))'},\n",
       "  {'role': 'assistant',\n",
       "   'content': '{\"template\": \"(optimize (GROUP_COUNT x1))\", \"replacements\": {\"variables\": {\"x1\": \"(AND (JOIN diplomatic_relation (JOIN instance_of designation_for_an_administrative_territorial_entity)) (JOIN instance_of political_territorial_entity))\"}, \"constants\": {}, \"functions\": {\"optimize\": \"ARGMAX\"}}}'},\n",
       "  {'role': 'user',\n",
       "   'content': 'question: Which organizations are a part of min number of political organizations ?\\ncandidate_templates: (optimize (GROUP_COUNT x1)),(optimize (GROUP_SUM (GROUP_COUNT x1) (GROUP_COUNT x2)))\\ncandidate_s_expression_cores: (AND (JOIN part_of (JOIN instance_of political_organization)) (JOIN instance_of organization))'},\n",
       "  {'role': 'assistant',\n",
       "   'content': '{\"template\": \"(optimize (GROUP_COUNT x1))\", \"replacements\": {\"variables\": {\"x1\": \"(AND (JOIN part_of (JOIN instance_of political_organization)) (JOIN instance_of organization))\"}, \"constants\": {}, \"functions\": {\"optimize\": \"ARGMIN\"}}}'},\n",
       "  {'role': 'user',\n",
       "   'content': 'question: Which administrative territories are known to have diplomatic connections with min number of political territories ?\\ncandidate_templates: (optimize (GROUP_COUNT x1)),(optimize (GROUP_SUM (GROUP_COUNT x1) (GROUP_COUNT x2)))\\ncandidate_s_expression_cores: (AND (JOIN diplomatic_relation (JOIN instance_of political_territorial_entity)) (JOIN instance_of designation_for_an_administrative_territorial_entity))'},\n",
       "  {'role': 'assistant',\n",
       "   'content': '{\"template\": \"(optimize (GROUP_COUNT x1))\", \"replacements\": {\"variables\": {\"x1\": \"(AND (JOIN diplomatic_relation (JOIN instance_of political_territorial_entity)) (JOIN instance_of designation_for_an_administrative_territorial_entity))\"}, \"constants\": {}, \"functions\": {\"optimize\": \"ARGMIN\"}}}'},\n",
       "  {'role': 'user',\n",
       "   'content': 'question: Which works are recounted in max number of works of art ?\\ncandidate_templates: (optimize (GROUP_COUNT x1)),(optimize (GROUP_SUM (GROUP_COUNT x1) (GROUP_COUNT x2)))\\ncandidate_s_expression_cores: (AND (JOIN fictional_universe_described_in (JOIN instance_of work_of_art)) (JOIN instance_of work))'},\n",
       "  {'role': 'assistant',\n",
       "   'content': '{\"template\": \"(optimize (GROUP_COUNT x1))\", \"replacements\": {\"variables\": {\"x1\": \"(AND (JOIN fictional_universe_described_in (JOIN instance_of work_of_art)) (JOIN instance_of work))\"}, \"constants\": {}, \"functions\": {\"optimize\": \"ARGMAX\"}}}'}]}"
      ]
     },
     "execution_count": 3,
     "metadata": {},
     "output_type": "execute_result"
    }
   ],
   "source": [
    "examples = {}\n",
    "for simple_question_type in template_and_replacements_examples:\n",
    "    examples[simple_question_type] = []\n",
    "    for qa in template_and_replacements_examples[simple_question_type]:\n",
    "        examples[simple_question_type].append({'role': 'user',\n",
    "        'content': \"question: \" + qa['coreference_resolved_question']\n",
    "         + \"\\ncandidate_templates: \" + ','.join(simple_question_type_to_templates[simple_question_type])\n",
    "         + \"\\ncandidate_s_expression_cores: \" + '\\u001F'.join(qa['s_expression_cores_fn'])})\n",
    "        replacements = {\"variables\": {var: qa[\"s_expression_cores_fn\"][qa['replacements']['variables'][var]] for var in qa['replacements']['variables']}, \"constants\": qa['replacements']['constants'], \"functions\": qa['replacements']['functions']}\n",
    "        examples[simple_question_type].append({'role': 'assistant', 'content': json.dumps({'template': qa['template'], 'replacements': replacements})})\n",
    "examples"
   ]
  },
  {
   "cell_type": "code",
   "execution_count": 4,
   "id": "4da86a25",
   "metadata": {},
   "outputs": [],
   "source": [
    "def fix_json(s):\n",
    "    return s + '}' * (s.count('{') - s.count('}'))\n",
    "\n",
    "def fix_template(template):\n",
    "    return template + ')' * (template.count('(') - template.count(')'))\n",
    "\n",
    "def is_close(expr):\n",
    "    stack = 0\n",
    "    for char in expr:\n",
    "        if char == '(':\n",
    "            stack += 1\n",
    "        elif char == ')':\n",
    "            if stack == 0:\n",
    "                return False\n",
    "            stack -= 1\n",
    "    return stack == 0\n",
    "\n",
    "def fix_core(core):\n",
    "    tokens = [token.replace('(', '').replace(')', '') for token in core.split()]\n",
    "    index = 0\n",
    "    def parse_core():\n",
    "        nonlocal index\n",
    "        func_list = ['JOIN', 'R', 'AND', 'VALUES', 'IS_TRUE']\n",
    "        token = tokens[index]\n",
    "        if token in func_list:\n",
    "            index += 1\n",
    "            args = []\n",
    "            if token == 'IS_TRUE':\n",
    "                for _ in range(3):\n",
    "                    args.append(parse_core())\n",
    "            elif token == 'JOIN':\n",
    "                for _ in range(2):\n",
    "                    args.append(parse_core())\n",
    "            elif token == 'R':\n",
    "                args.append(parse_core())\n",
    "            elif token == 'AND':\n",
    "                while index < len(tokens):\n",
    "                    args.append(parse_core())\n",
    "            else:\n",
    "                while index < len(tokens) and tokens[index] not in func_list:\n",
    "                    args.append(parse_core())\n",
    "            return f'({token} {' '.join(args)})'\n",
    "        else:\n",
    "            value = token\n",
    "            index += 1\n",
    "            return value\n",
    "    try:\n",
    "        fixed_core = parse_core()\n",
    "    except:\n",
    "        fixed_core = core\n",
    "    return fixed_core"
   ]
  },
  {
   "cell_type": "code",
   "execution_count": null,
   "id": "4353176e",
   "metadata": {},
   "outputs": [
    {
     "name": "stdout",
     "output_type": "stream",
     "text": [
      "[('sk-54964e5c3b8c4998a74f7d3e35b618ac', 'https://api.deepseek.com', 'deepseek-chat'), ('sk-785362add9834d1da5907f4621dc90a8', 'https://api.deepseek.com', 'deepseek-chat')]\n",
      "batch: 1/190\n"
     ]
    },
    {
     "name": "stderr",
     "output_type": "stream",
     "text": [
      "100%|██████████| 20/20 [00:17<00:00,  1.14it/s]\n"
     ]
    },
    {
     "name": "stdout",
     "output_type": "stream",
     "text": [
      "batch: 2/190\n"
     ]
    },
    {
     "name": "stderr",
     "output_type": "stream",
     "text": [
      "100%|██████████| 20/20 [00:22<00:00,  1.14s/it]\n"
     ]
    },
    {
     "name": "stdout",
     "output_type": "stream",
     "text": [
      "batch: 3/190\n"
     ]
    },
    {
     "name": "stderr",
     "output_type": "stream",
     "text": [
      "100%|██████████| 20/20 [00:18<00:00,  1.09it/s]\n"
     ]
    },
    {
     "name": "stdout",
     "output_type": "stream",
     "text": [
      "batch: 4/190\n"
     ]
    },
    {
     "name": "stderr",
     "output_type": "stream",
     "text": [
      "100%|██████████| 20/20 [00:28<00:00,  1.41s/it]\n"
     ]
    },
    {
     "name": "stdout",
     "output_type": "stream",
     "text": [
      "batch: 5/190\n"
     ]
    },
    {
     "name": "stderr",
     "output_type": "stream",
     "text": [
      "100%|██████████| 20/20 [00:32<00:00,  1.62s/it]\n"
     ]
    },
    {
     "name": "stdout",
     "output_type": "stream",
     "text": [
      "batch: 6/190\n"
     ]
    },
    {
     "name": "stderr",
     "output_type": "stream",
     "text": [
      "100%|██████████| 20/20 [00:21<00:00,  1.09s/it]\n"
     ]
    },
    {
     "name": "stdout",
     "output_type": "stream",
     "text": [
      "batch: 7/190\n"
     ]
    },
    {
     "name": "stderr",
     "output_type": "stream",
     "text": [
      "100%|██████████| 20/20 [00:44<00:00,  2.24s/it]\n"
     ]
    },
    {
     "name": "stdout",
     "output_type": "stream",
     "text": [
      "batch: 8/190\n"
     ]
    },
    {
     "name": "stderr",
     "output_type": "stream",
     "text": [
      "100%|██████████| 20/20 [00:35<00:00,  1.79s/it]\n"
     ]
    },
    {
     "name": "stdout",
     "output_type": "stream",
     "text": [
      "batch: 9/190\n"
     ]
    },
    {
     "name": "stderr",
     "output_type": "stream",
     "text": [
      "100%|██████████| 20/20 [00:15<00:00,  1.32it/s]\n"
     ]
    },
    {
     "name": "stdout",
     "output_type": "stream",
     "text": [
      "batch: 10/190\n"
     ]
    },
    {
     "name": "stderr",
     "output_type": "stream",
     "text": [
      "100%|██████████| 20/20 [00:16<00:00,  1.24it/s]\n"
     ]
    },
    {
     "name": "stdout",
     "output_type": "stream",
     "text": [
      "batch: 11/190\n"
     ]
    },
    {
     "name": "stderr",
     "output_type": "stream",
     "text": [
      "100%|██████████| 20/20 [00:22<00:00,  1.12s/it]\n"
     ]
    },
    {
     "name": "stdout",
     "output_type": "stream",
     "text": [
      "batch: 12/190\n"
     ]
    },
    {
     "name": "stderr",
     "output_type": "stream",
     "text": [
      "100%|██████████| 20/20 [00:23<00:00,  1.18s/it]\n"
     ]
    },
    {
     "name": "stdout",
     "output_type": "stream",
     "text": [
      "batch: 13/190\n"
     ]
    },
    {
     "name": "stderr",
     "output_type": "stream",
     "text": [
      "100%|██████████| 20/20 [00:19<00:00,  1.00it/s]\n"
     ]
    },
    {
     "name": "stdout",
     "output_type": "stream",
     "text": [
      "batch: 14/190\n"
     ]
    },
    {
     "name": "stderr",
     "output_type": "stream",
     "text": [
      "100%|██████████| 20/20 [00:20<00:00,  1.04s/it]\n"
     ]
    },
    {
     "name": "stdout",
     "output_type": "stream",
     "text": [
      "batch: 15/190\n"
     ]
    },
    {
     "name": "stderr",
     "output_type": "stream",
     "text": [
      "100%|██████████| 20/20 [00:25<00:00,  1.29s/it]\n"
     ]
    },
    {
     "name": "stdout",
     "output_type": "stream",
     "text": [
      "batch: 16/190\n"
     ]
    },
    {
     "name": "stderr",
     "output_type": "stream",
     "text": [
      "100%|██████████| 20/20 [00:21<00:00,  1.06s/it]\n"
     ]
    },
    {
     "name": "stdout",
     "output_type": "stream",
     "text": [
      "batch: 17/190\n"
     ]
    },
    {
     "name": "stderr",
     "output_type": "stream",
     "text": [
      "100%|██████████| 20/20 [00:47<00:00,  2.38s/it]\n"
     ]
    },
    {
     "name": "stdout",
     "output_type": "stream",
     "text": [
      "batch: 18/190\n"
     ]
    },
    {
     "name": "stderr",
     "output_type": "stream",
     "text": [
      "100%|██████████| 20/20 [00:29<00:00,  1.48s/it]\n"
     ]
    },
    {
     "name": "stdout",
     "output_type": "stream",
     "text": [
      "batch: 19/190\n"
     ]
    },
    {
     "name": "stderr",
     "output_type": "stream",
     "text": [
      "100%|██████████| 20/20 [00:32<00:00,  1.63s/it]\n"
     ]
    },
    {
     "name": "stdout",
     "output_type": "stream",
     "text": [
      "batch: 20/190\n"
     ]
    },
    {
     "name": "stderr",
     "output_type": "stream",
     "text": [
      "100%|██████████| 20/20 [01:19<00:00,  3.97s/it]\n"
     ]
    },
    {
     "name": "stdout",
     "output_type": "stream",
     "text": [
      "batch: 21/190\n"
     ]
    },
    {
     "name": "stderr",
     "output_type": "stream",
     "text": [
      "100%|██████████| 20/20 [00:26<00:00,  1.30s/it]\n"
     ]
    },
    {
     "name": "stdout",
     "output_type": "stream",
     "text": [
      "batch: 22/190\n"
     ]
    },
    {
     "name": "stderr",
     "output_type": "stream",
     "text": [
      "100%|██████████| 20/20 [00:50<00:00,  2.54s/it]\n"
     ]
    },
    {
     "name": "stdout",
     "output_type": "stream",
     "text": [
      "batch: 23/190\n"
     ]
    },
    {
     "name": "stderr",
     "output_type": "stream",
     "text": [
      "100%|██████████| 20/20 [00:15<00:00,  1.27it/s]\n"
     ]
    },
    {
     "name": "stdout",
     "output_type": "stream",
     "text": [
      "batch: 24/190\n"
     ]
    },
    {
     "name": "stderr",
     "output_type": "stream",
     "text": [
      "100%|██████████| 20/20 [00:20<00:00,  1.00s/it]\n"
     ]
    },
    {
     "name": "stdout",
     "output_type": "stream",
     "text": [
      "batch: 25/190\n"
     ]
    },
    {
     "name": "stderr",
     "output_type": "stream",
     "text": [
      "100%|██████████| 20/20 [00:39<00:00,  1.95s/it]\n"
     ]
    },
    {
     "name": "stdout",
     "output_type": "stream",
     "text": [
      "batch: 26/190\n"
     ]
    },
    {
     "name": "stderr",
     "output_type": "stream",
     "text": [
      "100%|██████████| 20/20 [00:33<00:00,  1.66s/it]\n"
     ]
    },
    {
     "name": "stdout",
     "output_type": "stream",
     "text": [
      "batch: 27/190\n"
     ]
    },
    {
     "name": "stderr",
     "output_type": "stream",
     "text": [
      "100%|██████████| 20/20 [00:22<00:00,  1.14s/it]\n"
     ]
    },
    {
     "name": "stdout",
     "output_type": "stream",
     "text": [
      "batch: 28/190\n"
     ]
    },
    {
     "name": "stderr",
     "output_type": "stream",
     "text": [
      "100%|██████████| 20/20 [00:23<00:00,  1.16s/it]\n"
     ]
    },
    {
     "name": "stdout",
     "output_type": "stream",
     "text": [
      "batch: 29/190\n"
     ]
    },
    {
     "name": "stderr",
     "output_type": "stream",
     "text": [
      "100%|██████████| 20/20 [00:19<00:00,  1.03it/s]\n"
     ]
    },
    {
     "name": "stdout",
     "output_type": "stream",
     "text": [
      "batch: 30/190\n"
     ]
    },
    {
     "name": "stderr",
     "output_type": "stream",
     "text": [
      "100%|██████████| 20/20 [00:13<00:00,  1.44it/s]\n"
     ]
    },
    {
     "name": "stdout",
     "output_type": "stream",
     "text": [
      "batch: 31/190\n"
     ]
    },
    {
     "name": "stderr",
     "output_type": "stream",
     "text": [
      "100%|██████████| 20/20 [00:14<00:00,  1.39it/s]\n"
     ]
    },
    {
     "name": "stdout",
     "output_type": "stream",
     "text": [
      "batch: 32/190\n"
     ]
    },
    {
     "name": "stderr",
     "output_type": "stream",
     "text": [
      "100%|██████████| 20/20 [00:15<00:00,  1.33it/s]\n"
     ]
    },
    {
     "name": "stdout",
     "output_type": "stream",
     "text": [
      "batch: 33/190\n"
     ]
    },
    {
     "name": "stderr",
     "output_type": "stream",
     "text": [
      "100%|██████████| 20/20 [00:20<00:00,  1.04s/it]\n"
     ]
    },
    {
     "name": "stdout",
     "output_type": "stream",
     "text": [
      "batch: 34/190\n"
     ]
    },
    {
     "name": "stderr",
     "output_type": "stream",
     "text": [
      "100%|██████████| 20/20 [00:16<00:00,  1.20it/s]\n"
     ]
    },
    {
     "name": "stdout",
     "output_type": "stream",
     "text": [
      "batch: 35/190\n"
     ]
    },
    {
     "name": "stderr",
     "output_type": "stream",
     "text": [
      "100%|██████████| 20/20 [00:17<00:00,  1.14it/s]\n"
     ]
    },
    {
     "name": "stdout",
     "output_type": "stream",
     "text": [
      "batch: 36/190\n"
     ]
    },
    {
     "name": "stderr",
     "output_type": "stream",
     "text": [
      "100%|██████████| 20/20 [00:11<00:00,  1.72it/s]\n"
     ]
    },
    {
     "name": "stdout",
     "output_type": "stream",
     "text": [
      "batch: 37/190\n"
     ]
    },
    {
     "name": "stderr",
     "output_type": "stream",
     "text": [
      "100%|██████████| 20/20 [00:24<00:00,  1.22s/it]\n"
     ]
    },
    {
     "name": "stdout",
     "output_type": "stream",
     "text": [
      "batch: 38/190\n"
     ]
    },
    {
     "name": "stderr",
     "output_type": "stream",
     "text": [
      "100%|██████████| 20/20 [00:17<00:00,  1.16it/s]\n"
     ]
    },
    {
     "name": "stdout",
     "output_type": "stream",
     "text": [
      "batch: 39/190\n"
     ]
    },
    {
     "name": "stderr",
     "output_type": "stream",
     "text": [
      "100%|██████████| 20/20 [00:13<00:00,  1.50it/s]\n"
     ]
    },
    {
     "name": "stdout",
     "output_type": "stream",
     "text": [
      "batch: 40/190\n"
     ]
    },
    {
     "name": "stderr",
     "output_type": "stream",
     "text": [
      "100%|██████████| 20/20 [00:14<00:00,  1.40it/s]\n"
     ]
    },
    {
     "name": "stdout",
     "output_type": "stream",
     "text": [
      "batch: 41/190\n"
     ]
    },
    {
     "name": "stderr",
     "output_type": "stream",
     "text": [
      "100%|██████████| 20/20 [00:16<00:00,  1.21it/s]\n"
     ]
    },
    {
     "name": "stdout",
     "output_type": "stream",
     "text": [
      "batch: 42/190\n"
     ]
    },
    {
     "name": "stderr",
     "output_type": "stream",
     "text": [
      "100%|██████████| 20/20 [00:27<00:00,  1.39s/it]\n"
     ]
    },
    {
     "name": "stdout",
     "output_type": "stream",
     "text": [
      "batch: 43/190\n"
     ]
    },
    {
     "name": "stderr",
     "output_type": "stream",
     "text": [
      "100%|██████████| 20/20 [00:43<00:00,  2.18s/it]\n"
     ]
    },
    {
     "name": "stdout",
     "output_type": "stream",
     "text": [
      "batch: 44/190\n"
     ]
    },
    {
     "name": "stderr",
     "output_type": "stream",
     "text": [
      "100%|██████████| 20/20 [00:16<00:00,  1.19it/s]\n"
     ]
    },
    {
     "name": "stdout",
     "output_type": "stream",
     "text": [
      "batch: 45/190\n"
     ]
    },
    {
     "name": "stderr",
     "output_type": "stream",
     "text": [
      "100%|██████████| 20/20 [00:16<00:00,  1.20it/s]\n"
     ]
    },
    {
     "name": "stdout",
     "output_type": "stream",
     "text": [
      "batch: 46/190\n"
     ]
    },
    {
     "name": "stderr",
     "output_type": "stream",
     "text": [
      "100%|██████████| 20/20 [00:14<00:00,  1.34it/s]\n"
     ]
    },
    {
     "name": "stdout",
     "output_type": "stream",
     "text": [
      "batch: 47/190\n"
     ]
    },
    {
     "name": "stderr",
     "output_type": "stream",
     "text": [
      "100%|██████████| 20/20 [00:19<00:00,  1.00it/s]\n"
     ]
    },
    {
     "name": "stdout",
     "output_type": "stream",
     "text": [
      "batch: 48/190\n"
     ]
    },
    {
     "name": "stderr",
     "output_type": "stream",
     "text": [
      "100%|██████████| 20/20 [00:15<00:00,  1.29it/s]\n"
     ]
    },
    {
     "name": "stdout",
     "output_type": "stream",
     "text": [
      "batch: 49/190\n"
     ]
    },
    {
     "name": "stderr",
     "output_type": "stream",
     "text": [
      "100%|██████████| 20/20 [00:14<00:00,  1.43it/s]\n"
     ]
    },
    {
     "name": "stdout",
     "output_type": "stream",
     "text": [
      "batch: 50/190\n"
     ]
    },
    {
     "name": "stderr",
     "output_type": "stream",
     "text": [
      "100%|██████████| 20/20 [00:51<00:00,  2.59s/it]\n"
     ]
    },
    {
     "name": "stdout",
     "output_type": "stream",
     "text": [
      "batch: 51/190\n"
     ]
    },
    {
     "name": "stderr",
     "output_type": "stream",
     "text": [
      "100%|██████████| 20/20 [00:48<00:00,  2.45s/it]\n"
     ]
    },
    {
     "name": "stdout",
     "output_type": "stream",
     "text": [
      "batch: 52/190\n"
     ]
    },
    {
     "name": "stderr",
     "output_type": "stream",
     "text": [
      "100%|██████████| 20/20 [00:17<00:00,  1.15it/s]\n"
     ]
    },
    {
     "name": "stdout",
     "output_type": "stream",
     "text": [
      "batch: 53/190\n"
     ]
    },
    {
     "name": "stderr",
     "output_type": "stream",
     "text": [
      "100%|██████████| 20/20 [01:23<00:00,  4.16s/it]\n"
     ]
    },
    {
     "name": "stdout",
     "output_type": "stream",
     "text": [
      "batch: 54/190\n"
     ]
    },
    {
     "name": "stderr",
     "output_type": "stream",
     "text": [
      "100%|██████████| 20/20 [00:49<00:00,  2.46s/it]\n"
     ]
    },
    {
     "name": "stdout",
     "output_type": "stream",
     "text": [
      "batch: 55/190\n"
     ]
    },
    {
     "name": "stderr",
     "output_type": "stream",
     "text": [
      "100%|██████████| 20/20 [00:17<00:00,  1.16it/s]\n"
     ]
    },
    {
     "name": "stdout",
     "output_type": "stream",
     "text": [
      "batch: 56/190\n"
     ]
    },
    {
     "name": "stderr",
     "output_type": "stream",
     "text": [
      "100%|██████████| 20/20 [00:48<00:00,  2.41s/it]\n"
     ]
    },
    {
     "name": "stdout",
     "output_type": "stream",
     "text": [
      "batch: 57/190\n"
     ]
    },
    {
     "name": "stderr",
     "output_type": "stream",
     "text": [
      "100%|██████████| 20/20 [00:55<00:00,  2.76s/it]\n"
     ]
    },
    {
     "name": "stdout",
     "output_type": "stream",
     "text": [
      "batch: 58/190\n"
     ]
    },
    {
     "name": "stderr",
     "output_type": "stream",
     "text": [
      "100%|██████████| 20/20 [01:07<00:00,  3.36s/it]\n"
     ]
    },
    {
     "name": "stdout",
     "output_type": "stream",
     "text": [
      "batch: 59/190\n"
     ]
    },
    {
     "name": "stderr",
     "output_type": "stream",
     "text": [
      "100%|██████████| 20/20 [00:23<00:00,  1.18s/it]\n"
     ]
    },
    {
     "name": "stdout",
     "output_type": "stream",
     "text": [
      "batch: 60/190\n"
     ]
    },
    {
     "name": "stderr",
     "output_type": "stream",
     "text": [
      "100%|██████████| 20/20 [00:34<00:00,  1.72s/it]\n"
     ]
    },
    {
     "name": "stdout",
     "output_type": "stream",
     "text": [
      "batch: 61/190\n"
     ]
    },
    {
     "name": "stderr",
     "output_type": "stream",
     "text": [
      "100%|██████████| 20/20 [00:32<00:00,  1.62s/it]\n"
     ]
    },
    {
     "name": "stdout",
     "output_type": "stream",
     "text": [
      "batch: 62/190\n"
     ]
    },
    {
     "name": "stderr",
     "output_type": "stream",
     "text": [
      "100%|██████████| 20/20 [00:21<00:00,  1.10s/it]\n"
     ]
    },
    {
     "name": "stdout",
     "output_type": "stream",
     "text": [
      "batch: 63/190\n"
     ]
    },
    {
     "name": "stderr",
     "output_type": "stream",
     "text": [
      "100%|██████████| 20/20 [00:18<00:00,  1.08it/s]\n"
     ]
    },
    {
     "name": "stdout",
     "output_type": "stream",
     "text": [
      "batch: 64/190\n"
     ]
    },
    {
     "name": "stderr",
     "output_type": "stream",
     "text": [
      "100%|██████████| 20/20 [00:52<00:00,  2.61s/it]\n"
     ]
    },
    {
     "name": "stdout",
     "output_type": "stream",
     "text": [
      "batch: 65/190\n"
     ]
    },
    {
     "name": "stderr",
     "output_type": "stream",
     "text": [
      "100%|██████████| 20/20 [00:26<00:00,  1.34s/it]\n"
     ]
    },
    {
     "name": "stdout",
     "output_type": "stream",
     "text": [
      "batch: 66/190\n"
     ]
    },
    {
     "name": "stderr",
     "output_type": "stream",
     "text": [
      "100%|██████████| 20/20 [00:24<00:00,  1.25s/it]\n"
     ]
    },
    {
     "name": "stdout",
     "output_type": "stream",
     "text": [
      "batch: 67/190\n"
     ]
    },
    {
     "name": "stderr",
     "output_type": "stream",
     "text": [
      "100%|██████████| 20/20 [00:49<00:00,  2.47s/it]\n"
     ]
    },
    {
     "name": "stdout",
     "output_type": "stream",
     "text": [
      "batch: 68/190\n"
     ]
    },
    {
     "name": "stderr",
     "output_type": "stream",
     "text": [
      "100%|██████████| 20/20 [00:18<00:00,  1.06it/s]\n"
     ]
    },
    {
     "name": "stdout",
     "output_type": "stream",
     "text": [
      "batch: 69/190\n"
     ]
    },
    {
     "name": "stderr",
     "output_type": "stream",
     "text": [
      "100%|██████████| 20/20 [00:19<00:00,  1.03it/s]\n"
     ]
    },
    {
     "name": "stdout",
     "output_type": "stream",
     "text": [
      "batch: 70/190\n"
     ]
    },
    {
     "name": "stderr",
     "output_type": "stream",
     "text": [
      "100%|██████████| 20/20 [00:30<00:00,  1.54s/it]\n"
     ]
    },
    {
     "name": "stdout",
     "output_type": "stream",
     "text": [
      "batch: 71/190\n"
     ]
    },
    {
     "name": "stderr",
     "output_type": "stream",
     "text": [
      "100%|██████████| 20/20 [00:25<00:00,  1.28s/it]\n"
     ]
    },
    {
     "name": "stdout",
     "output_type": "stream",
     "text": [
      "batch: 72/190\n"
     ]
    },
    {
     "name": "stderr",
     "output_type": "stream",
     "text": [
      "100%|██████████| 20/20 [00:17<00:00,  1.15it/s]\n"
     ]
    },
    {
     "name": "stdout",
     "output_type": "stream",
     "text": [
      "batch: 73/190\n"
     ]
    },
    {
     "name": "stderr",
     "output_type": "stream",
     "text": [
      "100%|██████████| 20/20 [00:30<00:00,  1.55s/it]\n"
     ]
    },
    {
     "name": "stdout",
     "output_type": "stream",
     "text": [
      "batch: 74/190\n"
     ]
    },
    {
     "name": "stderr",
     "output_type": "stream",
     "text": [
      "100%|██████████| 20/20 [00:16<00:00,  1.18it/s]\n"
     ]
    },
    {
     "name": "stdout",
     "output_type": "stream",
     "text": [
      "batch: 75/190\n"
     ]
    },
    {
     "name": "stderr",
     "output_type": "stream",
     "text": [
      "100%|██████████| 20/20 [00:23<00:00,  1.19s/it]\n"
     ]
    },
    {
     "name": "stdout",
     "output_type": "stream",
     "text": [
      "batch: 76/190\n"
     ]
    },
    {
     "name": "stderr",
     "output_type": "stream",
     "text": [
      "100%|██████████| 20/20 [00:17<00:00,  1.12it/s]\n"
     ]
    },
    {
     "name": "stdout",
     "output_type": "stream",
     "text": [
      "batch: 77/190\n"
     ]
    },
    {
     "name": "stderr",
     "output_type": "stream",
     "text": [
      "100%|██████████| 20/20 [00:20<00:00,  1.04s/it]\n"
     ]
    },
    {
     "name": "stdout",
     "output_type": "stream",
     "text": [
      "batch: 78/190\n"
     ]
    },
    {
     "name": "stderr",
     "output_type": "stream",
     "text": [
      "100%|██████████| 20/20 [00:21<00:00,  1.08s/it]\n"
     ]
    },
    {
     "name": "stdout",
     "output_type": "stream",
     "text": [
      "batch: 79/190\n"
     ]
    },
    {
     "name": "stderr",
     "output_type": "stream",
     "text": [
      "100%|██████████| 20/20 [00:42<00:00,  2.12s/it]\n"
     ]
    },
    {
     "name": "stdout",
     "output_type": "stream",
     "text": [
      "batch: 80/190\n"
     ]
    },
    {
     "name": "stderr",
     "output_type": "stream",
     "text": [
      "100%|██████████| 20/20 [00:18<00:00,  1.06it/s]\n"
     ]
    },
    {
     "name": "stdout",
     "output_type": "stream",
     "text": [
      "batch: 81/190\n"
     ]
    },
    {
     "name": "stderr",
     "output_type": "stream",
     "text": [
      "100%|██████████| 20/20 [00:19<00:00,  1.03it/s]\n"
     ]
    },
    {
     "name": "stdout",
     "output_type": "stream",
     "text": [
      "batch: 82/190\n"
     ]
    },
    {
     "name": "stderr",
     "output_type": "stream",
     "text": [
      "100%|██████████| 20/20 [00:18<00:00,  1.06it/s]\n"
     ]
    },
    {
     "name": "stdout",
     "output_type": "stream",
     "text": [
      "batch: 83/190\n"
     ]
    },
    {
     "name": "stderr",
     "output_type": "stream",
     "text": [
      "100%|██████████| 20/20 [00:29<00:00,  1.49s/it]\n"
     ]
    },
    {
     "name": "stdout",
     "output_type": "stream",
     "text": [
      "batch: 84/190\n"
     ]
    },
    {
     "name": "stderr",
     "output_type": "stream",
     "text": [
      "100%|██████████| 20/20 [00:18<00:00,  1.08it/s]\n"
     ]
    },
    {
     "name": "stdout",
     "output_type": "stream",
     "text": [
      "batch: 85/190\n"
     ]
    },
    {
     "name": "stderr",
     "output_type": "stream",
     "text": [
      "100%|██████████| 20/20 [00:31<00:00,  1.56s/it]\n"
     ]
    },
    {
     "name": "stdout",
     "output_type": "stream",
     "text": [
      "batch: 86/190\n"
     ]
    },
    {
     "name": "stderr",
     "output_type": "stream",
     "text": [
      "100%|██████████| 20/20 [00:41<00:00,  2.07s/it]\n"
     ]
    },
    {
     "name": "stdout",
     "output_type": "stream",
     "text": [
      "batch: 87/190\n"
     ]
    },
    {
     "name": "stderr",
     "output_type": "stream",
     "text": [
      "100%|██████████| 20/20 [00:55<00:00,  2.77s/it]\n"
     ]
    },
    {
     "name": "stdout",
     "output_type": "stream",
     "text": [
      "batch: 88/190\n"
     ]
    },
    {
     "name": "stderr",
     "output_type": "stream",
     "text": [
      "100%|██████████| 20/20 [00:41<00:00,  2.07s/it]\n"
     ]
    },
    {
     "name": "stdout",
     "output_type": "stream",
     "text": [
      "batch: 89/190\n"
     ]
    },
    {
     "name": "stderr",
     "output_type": "stream",
     "text": [
      "100%|██████████| 20/20 [00:19<00:00,  1.03it/s]\n"
     ]
    },
    {
     "name": "stdout",
     "output_type": "stream",
     "text": [
      "batch: 90/190\n"
     ]
    },
    {
     "name": "stderr",
     "output_type": "stream",
     "text": [
      "100%|██████████| 20/20 [00:40<00:00,  2.00s/it]\n"
     ]
    },
    {
     "name": "stdout",
     "output_type": "stream",
     "text": [
      "batch: 91/190\n"
     ]
    },
    {
     "name": "stderr",
     "output_type": "stream",
     "text": [
      "100%|██████████| 20/20 [00:19<00:00,  1.03it/s]\n"
     ]
    },
    {
     "name": "stdout",
     "output_type": "stream",
     "text": [
      "batch: 92/190\n"
     ]
    },
    {
     "name": "stderr",
     "output_type": "stream",
     "text": [
      "100%|██████████| 20/20 [00:25<00:00,  1.27s/it]\n"
     ]
    },
    {
     "name": "stdout",
     "output_type": "stream",
     "text": [
      "batch: 93/190\n"
     ]
    },
    {
     "name": "stderr",
     "output_type": "stream",
     "text": [
      "100%|██████████| 20/20 [00:20<00:00,  1.04s/it]\n"
     ]
    },
    {
     "name": "stdout",
     "output_type": "stream",
     "text": [
      "batch: 94/190\n"
     ]
    },
    {
     "name": "stderr",
     "output_type": "stream",
     "text": [
      "100%|██████████| 20/20 [00:22<00:00,  1.13s/it]\n"
     ]
    },
    {
     "name": "stdout",
     "output_type": "stream",
     "text": [
      "batch: 95/190\n"
     ]
    },
    {
     "name": "stderr",
     "output_type": "stream",
     "text": [
      "100%|██████████| 20/20 [00:26<00:00,  1.32s/it]\n"
     ]
    },
    {
     "name": "stdout",
     "output_type": "stream",
     "text": [
      "batch: 96/190\n"
     ]
    },
    {
     "name": "stderr",
     "output_type": "stream",
     "text": [
      "100%|██████████| 20/20 [00:51<00:00,  2.56s/it]\n"
     ]
    },
    {
     "name": "stdout",
     "output_type": "stream",
     "text": [
      "batch: 97/190\n"
     ]
    },
    {
     "name": "stderr",
     "output_type": "stream",
     "text": [
      "100%|██████████| 20/20 [00:38<00:00,  1.94s/it]\n"
     ]
    },
    {
     "name": "stdout",
     "output_type": "stream",
     "text": [
      "batch: 98/190\n"
     ]
    },
    {
     "name": "stderr",
     "output_type": "stream",
     "text": [
      "100%|██████████| 20/20 [00:18<00:00,  1.06it/s]\n"
     ]
    },
    {
     "name": "stdout",
     "output_type": "stream",
     "text": [
      "batch: 99/190\n"
     ]
    },
    {
     "name": "stderr",
     "output_type": "stream",
     "text": [
      "100%|██████████| 20/20 [00:49<00:00,  2.46s/it]\n"
     ]
    },
    {
     "name": "stdout",
     "output_type": "stream",
     "text": [
      "batch: 100/190\n"
     ]
    },
    {
     "name": "stderr",
     "output_type": "stream",
     "text": [
      "100%|██████████| 20/20 [00:39<00:00,  1.97s/it]\n"
     ]
    },
    {
     "name": "stdout",
     "output_type": "stream",
     "text": [
      "batch: 101/190\n"
     ]
    },
    {
     "name": "stderr",
     "output_type": "stream",
     "text": [
      "100%|██████████| 20/20 [00:16<00:00,  1.19it/s]\n"
     ]
    },
    {
     "name": "stdout",
     "output_type": "stream",
     "text": [
      "batch: 102/190\n"
     ]
    },
    {
     "name": "stderr",
     "output_type": "stream",
     "text": [
      "100%|██████████| 20/20 [00:32<00:00,  1.60s/it]\n"
     ]
    },
    {
     "name": "stdout",
     "output_type": "stream",
     "text": [
      "batch: 103/190\n"
     ]
    },
    {
     "name": "stderr",
     "output_type": "stream",
     "text": [
      "100%|██████████| 20/20 [00:26<00:00,  1.33s/it]\n"
     ]
    },
    {
     "name": "stdout",
     "output_type": "stream",
     "text": [
      "batch: 104/190\n"
     ]
    },
    {
     "name": "stderr",
     "output_type": "stream",
     "text": [
      "100%|██████████| 20/20 [00:39<00:00,  1.97s/it]\n"
     ]
    },
    {
     "name": "stdout",
     "output_type": "stream",
     "text": [
      "batch: 105/190\n"
     ]
    },
    {
     "name": "stderr",
     "output_type": "stream",
     "text": [
      "100%|██████████| 20/20 [00:43<00:00,  2.17s/it]\n"
     ]
    },
    {
     "name": "stdout",
     "output_type": "stream",
     "text": [
      "batch: 106/190\n"
     ]
    },
    {
     "name": "stderr",
     "output_type": "stream",
     "text": [
      "100%|██████████| 20/20 [00:52<00:00,  2.62s/it]\n"
     ]
    },
    {
     "name": "stdout",
     "output_type": "stream",
     "text": [
      "batch: 107/190\n"
     ]
    },
    {
     "name": "stderr",
     "output_type": "stream",
     "text": [
      "100%|██████████| 20/20 [00:36<00:00,  1.83s/it]\n"
     ]
    },
    {
     "name": "stdout",
     "output_type": "stream",
     "text": [
      "batch: 108/190\n"
     ]
    },
    {
     "name": "stderr",
     "output_type": "stream",
     "text": [
      "100%|██████████| 20/20 [00:22<00:00,  1.14s/it]\n"
     ]
    },
    {
     "name": "stdout",
     "output_type": "stream",
     "text": [
      "batch: 109/190\n"
     ]
    },
    {
     "name": "stderr",
     "output_type": "stream",
     "text": [
      "100%|██████████| 20/20 [01:02<00:00,  3.10s/it]\n"
     ]
    },
    {
     "name": "stdout",
     "output_type": "stream",
     "text": [
      "batch: 110/190\n"
     ]
    },
    {
     "name": "stderr",
     "output_type": "stream",
     "text": [
      "100%|██████████| 20/20 [01:00<00:00,  3.02s/it]\n"
     ]
    },
    {
     "name": "stdout",
     "output_type": "stream",
     "text": [
      "batch: 111/190\n"
     ]
    },
    {
     "name": "stderr",
     "output_type": "stream",
     "text": [
      "100%|██████████| 20/20 [00:33<00:00,  1.67s/it]\n"
     ]
    },
    {
     "name": "stdout",
     "output_type": "stream",
     "text": [
      "batch: 112/190\n"
     ]
    },
    {
     "name": "stderr",
     "output_type": "stream",
     "text": [
      "100%|██████████| 20/20 [00:19<00:00,  1.01it/s]\n"
     ]
    },
    {
     "name": "stdout",
     "output_type": "stream",
     "text": [
      "batch: 113/190\n"
     ]
    },
    {
     "name": "stderr",
     "output_type": "stream",
     "text": [
      "100%|██████████| 20/20 [00:40<00:00,  2.02s/it]\n"
     ]
    },
    {
     "name": "stdout",
     "output_type": "stream",
     "text": [
      "batch: 114/190\n"
     ]
    },
    {
     "name": "stderr",
     "output_type": "stream",
     "text": [
      "100%|██████████| 20/20 [00:37<00:00,  1.87s/it]\n"
     ]
    },
    {
     "name": "stdout",
     "output_type": "stream",
     "text": [
      "batch: 115/190\n"
     ]
    },
    {
     "name": "stderr",
     "output_type": "stream",
     "text": [
      "100%|██████████| 20/20 [00:16<00:00,  1.22it/s]\n"
     ]
    },
    {
     "name": "stdout",
     "output_type": "stream",
     "text": [
      "batch: 116/190\n"
     ]
    },
    {
     "name": "stderr",
     "output_type": "stream",
     "text": [
      "100%|██████████| 20/20 [00:16<00:00,  1.19it/s]\n"
     ]
    },
    {
     "name": "stdout",
     "output_type": "stream",
     "text": [
      "batch: 117/190\n"
     ]
    },
    {
     "name": "stderr",
     "output_type": "stream",
     "text": [
      "100%|██████████| 20/20 [01:10<00:00,  3.53s/it]\n"
     ]
    },
    {
     "name": "stdout",
     "output_type": "stream",
     "text": [
      "batch: 118/190\n"
     ]
    },
    {
     "name": "stderr",
     "output_type": "stream",
     "text": [
      "100%|██████████| 20/20 [00:28<00:00,  1.44s/it]\n"
     ]
    },
    {
     "name": "stdout",
     "output_type": "stream",
     "text": [
      "batch: 119/190\n"
     ]
    },
    {
     "name": "stderr",
     "output_type": "stream",
     "text": [
      "100%|██████████| 20/20 [00:20<00:00,  1.04s/it]\n"
     ]
    },
    {
     "name": "stdout",
     "output_type": "stream",
     "text": [
      "batch: 120/190\n"
     ]
    },
    {
     "name": "stderr",
     "output_type": "stream",
     "text": [
      "100%|██████████| 20/20 [00:16<00:00,  1.22it/s]\n"
     ]
    },
    {
     "name": "stdout",
     "output_type": "stream",
     "text": [
      "batch: 121/190\n"
     ]
    },
    {
     "name": "stderr",
     "output_type": "stream",
     "text": [
      "100%|██████████| 20/20 [00:17<00:00,  1.17it/s]\n"
     ]
    },
    {
     "name": "stdout",
     "output_type": "stream",
     "text": [
      "batch: 122/190\n"
     ]
    },
    {
     "name": "stderr",
     "output_type": "stream",
     "text": [
      "100%|██████████| 20/20 [00:23<00:00,  1.18s/it]\n"
     ]
    },
    {
     "name": "stdout",
     "output_type": "stream",
     "text": [
      "batch: 123/190\n"
     ]
    },
    {
     "name": "stderr",
     "output_type": "stream",
     "text": [
      "100%|██████████| 20/20 [00:17<00:00,  1.15it/s]\n"
     ]
    },
    {
     "name": "stdout",
     "output_type": "stream",
     "text": [
      "batch: 124/190\n"
     ]
    },
    {
     "name": "stderr",
     "output_type": "stream",
     "text": [
      "100%|██████████| 20/20 [00:50<00:00,  2.53s/it]\n"
     ]
    },
    {
     "name": "stdout",
     "output_type": "stream",
     "text": [
      "batch: 125/190\n"
     ]
    },
    {
     "name": "stderr",
     "output_type": "stream",
     "text": [
      "100%|██████████| 20/20 [00:26<00:00,  1.33s/it]\n"
     ]
    },
    {
     "name": "stdout",
     "output_type": "stream",
     "text": [
      "batch: 126/190\n"
     ]
    },
    {
     "name": "stderr",
     "output_type": "stream",
     "text": [
      "100%|██████████| 20/20 [00:35<00:00,  1.78s/it]\n"
     ]
    },
    {
     "name": "stdout",
     "output_type": "stream",
     "text": [
      "batch: 127/190\n"
     ]
    },
    {
     "name": "stderr",
     "output_type": "stream",
     "text": [
      "100%|██████████| 20/20 [00:23<00:00,  1.16s/it]\n"
     ]
    },
    {
     "name": "stdout",
     "output_type": "stream",
     "text": [
      "batch: 128/190\n"
     ]
    },
    {
     "name": "stderr",
     "output_type": "stream",
     "text": [
      "100%|██████████| 20/20 [00:22<00:00,  1.12s/it]\n"
     ]
    },
    {
     "name": "stdout",
     "output_type": "stream",
     "text": [
      "batch: 129/190\n"
     ]
    },
    {
     "name": "stderr",
     "output_type": "stream",
     "text": [
      "100%|██████████| 20/20 [00:29<00:00,  1.45s/it]\n"
     ]
    },
    {
     "name": "stdout",
     "output_type": "stream",
     "text": [
      "batch: 130/190\n"
     ]
    },
    {
     "name": "stderr",
     "output_type": "stream",
     "text": [
      "100%|██████████| 20/20 [00:19<00:00,  1.05it/s]\n"
     ]
    },
    {
     "name": "stdout",
     "output_type": "stream",
     "text": [
      "batch: 131/190\n"
     ]
    },
    {
     "name": "stderr",
     "output_type": "stream",
     "text": [
      "100%|██████████| 20/20 [00:34<00:00,  1.73s/it]\n"
     ]
    },
    {
     "name": "stdout",
     "output_type": "stream",
     "text": [
      "batch: 132/190\n"
     ]
    },
    {
     "name": "stderr",
     "output_type": "stream",
     "text": [
      "100%|██████████| 20/20 [00:50<00:00,  2.52s/it]\n"
     ]
    },
    {
     "name": "stdout",
     "output_type": "stream",
     "text": [
      "batch: 133/190\n"
     ]
    },
    {
     "name": "stderr",
     "output_type": "stream",
     "text": [
      "100%|██████████| 20/20 [00:40<00:00,  2.05s/it]\n"
     ]
    },
    {
     "name": "stdout",
     "output_type": "stream",
     "text": [
      "batch: 134/190\n"
     ]
    },
    {
     "name": "stderr",
     "output_type": "stream",
     "text": [
      "100%|██████████| 20/20 [00:55<00:00,  2.79s/it]\n"
     ]
    },
    {
     "name": "stdout",
     "output_type": "stream",
     "text": [
      "batch: 135/190\n"
     ]
    },
    {
     "name": "stderr",
     "output_type": "stream",
     "text": [
      "100%|██████████| 20/20 [00:21<00:00,  1.08s/it]\n"
     ]
    },
    {
     "name": "stdout",
     "output_type": "stream",
     "text": [
      "batch: 136/190\n"
     ]
    },
    {
     "name": "stderr",
     "output_type": "stream",
     "text": [
      "100%|██████████| 20/20 [00:23<00:00,  1.20s/it]\n"
     ]
    },
    {
     "name": "stdout",
     "output_type": "stream",
     "text": [
      "batch: 137/190\n"
     ]
    },
    {
     "name": "stderr",
     "output_type": "stream",
     "text": [
      "100%|██████████| 20/20 [00:37<00:00,  1.88s/it]\n"
     ]
    },
    {
     "name": "stdout",
     "output_type": "stream",
     "text": [
      "batch: 138/190\n"
     ]
    },
    {
     "name": "stderr",
     "output_type": "stream",
     "text": [
      "100%|██████████| 20/20 [00:17<00:00,  1.16it/s]\n"
     ]
    },
    {
     "name": "stdout",
     "output_type": "stream",
     "text": [
      "batch: 139/190\n"
     ]
    },
    {
     "name": "stderr",
     "output_type": "stream",
     "text": [
      "100%|██████████| 20/20 [00:11<00:00,  1.71it/s]\n"
     ]
    },
    {
     "name": "stdout",
     "output_type": "stream",
     "text": [
      "batch: 140/190\n"
     ]
    },
    {
     "name": "stderr",
     "output_type": "stream",
     "text": [
      "100%|██████████| 20/20 [00:27<00:00,  1.39s/it]\n"
     ]
    },
    {
     "name": "stdout",
     "output_type": "stream",
     "text": [
      "batch: 141/190\n"
     ]
    },
    {
     "name": "stderr",
     "output_type": "stream",
     "text": [
      "100%|██████████| 20/20 [00:53<00:00,  2.67s/it]\n"
     ]
    },
    {
     "name": "stdout",
     "output_type": "stream",
     "text": [
      "batch: 142/190\n"
     ]
    },
    {
     "name": "stderr",
     "output_type": "stream",
     "text": [
      "100%|██████████| 20/20 [01:04<00:00,  3.20s/it]\n"
     ]
    },
    {
     "name": "stdout",
     "output_type": "stream",
     "text": [
      "batch: 143/190\n"
     ]
    },
    {
     "name": "stderr",
     "output_type": "stream",
     "text": [
      "100%|██████████| 20/20 [00:24<00:00,  1.22s/it]\n"
     ]
    },
    {
     "name": "stdout",
     "output_type": "stream",
     "text": [
      "batch: 144/190\n"
     ]
    },
    {
     "name": "stderr",
     "output_type": "stream",
     "text": [
      "100%|██████████| 20/20 [00:36<00:00,  1.85s/it]\n"
     ]
    },
    {
     "name": "stdout",
     "output_type": "stream",
     "text": [
      "batch: 145/190\n"
     ]
    },
    {
     "name": "stderr",
     "output_type": "stream",
     "text": [
      "100%|██████████| 20/20 [00:15<00:00,  1.26it/s]\n"
     ]
    },
    {
     "name": "stdout",
     "output_type": "stream",
     "text": [
      "batch: 146/190\n"
     ]
    },
    {
     "name": "stderr",
     "output_type": "stream",
     "text": [
      "100%|██████████| 20/20 [00:14<00:00,  1.38it/s]\n"
     ]
    },
    {
     "name": "stdout",
     "output_type": "stream",
     "text": [
      "batch: 147/190\n"
     ]
    },
    {
     "name": "stderr",
     "output_type": "stream",
     "text": [
      "100%|██████████| 20/20 [00:17<00:00,  1.13it/s]\n"
     ]
    },
    {
     "name": "stdout",
     "output_type": "stream",
     "text": [
      "batch: 148/190\n"
     ]
    },
    {
     "name": "stderr",
     "output_type": "stream",
     "text": [
      "100%|██████████| 20/20 [00:16<00:00,  1.24it/s]\n"
     ]
    },
    {
     "name": "stdout",
     "output_type": "stream",
     "text": [
      "batch: 149/190\n"
     ]
    },
    {
     "name": "stderr",
     "output_type": "stream",
     "text": [
      "100%|██████████| 20/20 [00:18<00:00,  1.09it/s]\n"
     ]
    },
    {
     "name": "stdout",
     "output_type": "stream",
     "text": [
      "batch: 150/190\n"
     ]
    },
    {
     "name": "stderr",
     "output_type": "stream",
     "text": [
      "100%|██████████| 20/20 [00:47<00:00,  2.35s/it]\n"
     ]
    },
    {
     "name": "stdout",
     "output_type": "stream",
     "text": [
      "batch: 151/190\n"
     ]
    },
    {
     "name": "stderr",
     "output_type": "stream",
     "text": [
      "100%|██████████| 20/20 [00:49<00:00,  2.48s/it]\n"
     ]
    },
    {
     "name": "stdout",
     "output_type": "stream",
     "text": [
      "batch: 152/190\n"
     ]
    },
    {
     "name": "stderr",
     "output_type": "stream",
     "text": [
      "100%|██████████| 20/20 [00:14<00:00,  1.34it/s]\n"
     ]
    },
    {
     "name": "stdout",
     "output_type": "stream",
     "text": [
      "batch: 153/190\n"
     ]
    },
    {
     "name": "stderr",
     "output_type": "stream",
     "text": [
      "100%|██████████| 20/20 [00:17<00:00,  1.12it/s]\n"
     ]
    },
    {
     "name": "stdout",
     "output_type": "stream",
     "text": [
      "batch: 154/190\n"
     ]
    },
    {
     "name": "stderr",
     "output_type": "stream",
     "text": [
      "100%|██████████| 20/20 [00:15<00:00,  1.27it/s]\n"
     ]
    },
    {
     "name": "stdout",
     "output_type": "stream",
     "text": [
      "batch: 155/190\n"
     ]
    },
    {
     "name": "stderr",
     "output_type": "stream",
     "text": [
      "100%|██████████| 20/20 [00:40<00:00,  2.04s/it]\n"
     ]
    },
    {
     "name": "stdout",
     "output_type": "stream",
     "text": [
      "batch: 156/190\n"
     ]
    },
    {
     "name": "stderr",
     "output_type": "stream",
     "text": [
      "100%|██████████| 20/20 [00:26<00:00,  1.31s/it]\n"
     ]
    },
    {
     "name": "stdout",
     "output_type": "stream",
     "text": [
      "batch: 157/190\n"
     ]
    },
    {
     "name": "stderr",
     "output_type": "stream",
     "text": [
      "100%|██████████| 20/20 [00:14<00:00,  1.37it/s]\n"
     ]
    },
    {
     "name": "stdout",
     "output_type": "stream",
     "text": [
      "batch: 158/190\n"
     ]
    },
    {
     "name": "stderr",
     "output_type": "stream",
     "text": [
      "100%|██████████| 20/20 [00:19<00:00,  1.02it/s]\n"
     ]
    },
    {
     "name": "stdout",
     "output_type": "stream",
     "text": [
      "batch: 159/190\n"
     ]
    },
    {
     "name": "stderr",
     "output_type": "stream",
     "text": [
      "100%|██████████| 20/20 [00:27<00:00,  1.35s/it]\n"
     ]
    },
    {
     "name": "stdout",
     "output_type": "stream",
     "text": [
      "batch: 160/190\n"
     ]
    },
    {
     "name": "stderr",
     "output_type": "stream",
     "text": [
      "100%|██████████| 20/20 [00:21<00:00,  1.07s/it]\n"
     ]
    },
    {
     "name": "stdout",
     "output_type": "stream",
     "text": [
      "batch: 161/190\n"
     ]
    },
    {
     "name": "stderr",
     "output_type": "stream",
     "text": [
      " 90%|█████████ | 18/20 [00:19<00:01,  1.30it/s]"
     ]
    }
   ],
   "source": [
    "import re\n",
    "from utils.llm_call import LLM_Call\n",
    "\n",
    "def concat_input(qa):\n",
    "    return \"question:\" + qa['coreference_resolved_question'] \\\n",
    "        + \"\\ncandidate_templates:\" + ','.join(simple_question_type_to_templates[qa['predicted_simple_question_type']]) \\\n",
    "        + \"\\ncandidate_s_expression_cores:\" + '\\u001F'.join(qa['calibrated_cores_fn'])\n",
    "\n",
    "API_KEYS = ['sk-54964e5c3b8c4998a74f7d3e35b618ac', 'sk-785362add9834d1da5907f4621dc90a8']\n",
    "API_URL = 'https://api.deepseek.com'\n",
    "API_MODEL = 'deepseek-chat'\n",
    "\n",
    "api_pool = [(k, API_URL, API_MODEL) for k in API_KEYS]\n",
    "\n",
    "LLM = LLM_Call(api_pool=api_pool, openai_params = {'temperature': 0, 'max_tokens': 512})\n",
    "\n",
    "batch_size = 20\n",
    "batches = [test_data[i:i + batch_size] for i in range(0, len(test_data), batch_size)]\n",
    "\n",
    "prompt = \"\"\"\n",
    "    # S-expression Generation Task\n",
    "\n",
    "    ## Core Task\n",
    "    Select an appropriate template from candidate_templates and replace placeholders in the template with numbers from the question, specified functions, or expressions from candidate_s_expression_cores to form a final expression that matches the question's semantics. Output the replacements made.\n",
    "\n",
    "    ## Key Principles\n",
    "    1. Semantics First: Replacements must accurately express the question's logic\n",
    "    2. Strict Replacement: Only replace placeholders while preserving all other template structures\n",
    "    3. Complete Coverage: Ensure all placeholders are replaced\n",
    "\n",
    "    ## Operator Semantics\n",
    "    | Operator  | Description                     | Example                      |\n",
    "    |-----------|--------------------------------|-----------------------------|\n",
    "    | OR        | Set union (A ∪ B)              | (OR a b) → union of a and b |\n",
    "    | DIFF      | Set difference (A - B)         | (DIFF a b) → elements in a but not b |\n",
    "    | DISTINCT  | Deduplication                  | (DISTINCT a) → deduplicated a |\n",
    "    | GROUP_COUNT| Group counting statistics     | (GROUP_COUNT a) → count of a |\n",
    "    | GROUP_SUM | Sum of grouped statistics     | (GROUP_SUM a b) → sum of a and b's stats |\n",
    "    | ALL       | Universal quantifier          | (ALL a b) → a∧b            |\n",
    "\n",
    "    ## Replacement Rules\n",
    "    1. Variable placeholder replacement:\n",
    "    - Must select from candidate_s_expression_cores\n",
    "    - Selected core text must remain unchanged\n",
    "    - Determine replacement order based on question semantics\n",
    "    - Different x should use different cores\n",
    "\n",
    "    2. Constant placeholder replacement:\n",
    "    - number → Explicit number from the question\n",
    "\n",
    "    3. Function placeholder replacement:\n",
    "    - compare → Select based on question semantics:\n",
    "        - LT(less than) / LE(less than or equal to) / EQ(equal to) / GE(greater than or equal to) / GT(greater than)\n",
    "    - optimize → Select based on extreme value:\n",
    "        - ARGMAX(maximize) / ARGMIN(minimize)\n",
    "\n",
    "    ## Output Specification\n",
    "    - Output in single-line JSON format without any explanatory text\n",
    "    - Must contain three fields (variables/constants/functions)\n",
    "    - Empty fields represented with empty objects (e.g. \"constants\": {})\n",
    "    \"\"\"\n",
    "\n",
    "for i, batch in enumerate(batches):\n",
    "    print(f\"batch: {i + 1}/{len(batches)}\")\n",
    "    messages_list = []\n",
    "    for qa in batch:\n",
    "        if qa['predicted_simple_question_type'] not in examples:\n",
    "            qa['predicted_simple_question_type'] = 'simple'\n",
    "        selected_examples = examples[qa['predicted_simple_question_type']]\n",
    "        messages_list.append([{'role': 'system', 'content': prompt}] + selected_examples+ [{'role': 'user', 'content': concat_input(qa)}])\n",
    "        \n",
    "    resp_list = await LLM._batch_generate_async(messages_list)\n",
    "    \n",
    "    for j, qa in enumerate(batch):\n",
    "        resp = resp_list[j]\n",
    "        content = resp.choices[0].message.content\n",
    "        try:\n",
    "            content = re.search(r'\\{[\\s\\S]*\\}', content).group(0)\n",
    "            template_and_replacements = json.loads(fix_json(content))\n",
    "            template = fix_template(template_and_replacements['template'])\n",
    "            replacements = template_and_replacements['replacements']\n",
    "            qa['predicted_template'] = template\n",
    "            qa['predicted_replacements'] = replacements\n",
    "        except:\n",
    "            qa['predicted_template'] = ''\n",
    "            qa['predicted_replacements'] = ''\n",
    "\n",
    "    if (i + 1) % 5 == 0:\n",
    "        json.dump(test_data, open(f'output/{exp_name}/prediction.json', 'w'), indent=2)\n"
   ]
  },
  {
   "cell_type": "code",
   "execution_count": null,
   "id": "4edf3d2d",
   "metadata": {},
   "outputs": [],
   "source": [
    "from utils.parse_expr import expression_to_sparql\n",
    "from retriever.semantic_retriever import SemanticRetriever\n",
    "\n",
    "entity_retriever = SemanticRetriever('entity')\n",
    "relation_retriever = SemanticRetriever('relation')\n",
    "type_retriever = SemanticRetriever('type')\n",
    "\n",
    "def sub_fn_to_mid(expression):\n",
    "    func_list = ['R', 'JOIN', 'AND', 'OR', 'DIFF', 'VALUES', 'DISTINCT', 'COUNT', 'GROUP_COUNT', 'GROUP_SUM', 'LT', 'LE', 'EQ', 'GE', 'GT', 'ARGMIN', 'ARGMAX', 'ALL', 'IS_TRUE']\n",
    "    seg_list = expression.split()\n",
    "    last_token, second_last_token = '', ''\n",
    "    for i in range(len(seg_list)):\n",
    "        token = seg_list[i].strip(')(')\n",
    "        if token not in func_list and not token.isdigit():\n",
    "            if last_token in ['R', 'JOIN'] or second_last_token == 'IS_TRUE':\n",
    "                retriever = relation_retriever\n",
    "            elif last_token == 'P31':\n",
    "                retriever = type_retriever\n",
    "            else:\n",
    "                retriever = entity_retriever\n",
    "            mid = retriever.semantic_search(token)[0][1]\n",
    "            seg_list[i] = seg_list[i].replace(token, mid)\n",
    "        second_last_token = last_token\n",
    "        last_token = token\n",
    "    new_expression = ' '.join(seg_list)\n",
    "    return new_expression"
   ]
  },
  {
   "cell_type": "code",
   "execution_count": null,
   "id": "e7fdaecd",
   "metadata": {},
   "outputs": [],
   "source": [
    "# import json\n",
    "# exp_name = 'dev_each_type_50'\n",
    "# test_data = test_data = json.load(open(f'output/{exp_name}/prediction.json', 'r'))\n",
    "\n",
    "for qa in test_data:\n",
    "    template = qa['predicted_template']\n",
    "    replacements = qa['predicted_replacements']\n",
    "    try:\n",
    "        assert(template)\n",
    "        for function in replacements['functions']:\n",
    "            template = template.replace(function, replacements['functions'][function])\n",
    "        if replacements['constants']:\n",
    "            template = template.replace('number', str(replacements['constants']['number']))\n",
    "\n",
    "        s_expression = template\n",
    "        s_expression_fn = template\n",
    "        for var in sorted(replacements['variables'], reverse=True):\n",
    "            core_fn = replacements['variables'][var]\n",
    "            if not is_close(core_fn):\n",
    "                core_fn = fix_core(core_fn)\n",
    "            if core_fn in qa['calibrated_cores_fn']:\n",
    "                index = qa['calibrated_cores_fn'].index(core_fn)\n",
    "                core = qa['calibrated_cores'][index]\n",
    "            else:\n",
    "                core = sub_fn_to_mid(core_fn)\n",
    "            s_expression = s_expression.replace(var, core, 1)\n",
    "            s_expression_fn = s_expression_fn.replace(var, core_fn, 1)\n",
    "        qa['predicted_s_expression'] = s_expression\n",
    "        qa['predicted_s_expression_fn'] = s_expression_fn\n",
    "    except:\n",
    "        qa['predicted_s_expression_fn'] = ''\n",
    "        qa['predicted_s_expression'] = ''"
   ]
  },
  {
   "cell_type": "code",
   "execution_count": null,
   "id": "021e460d",
   "metadata": {},
   "outputs": [],
   "source": [
    "for qa in test_data:\n",
    "    qa['actions'] = expression_to_sparql(qa['predicted_s_expression'])\n",
    "\n",
    "json.dump(test_data, open(f'output/{exp_name}/prediction.json', 'w'), indent=2)"
   ]
  },
  {
   "cell_type": "code",
   "execution_count": null,
   "id": "2de4d9d8",
   "metadata": {},
   "outputs": [],
   "source": []
  }
 ],
 "metadata": {
  "kernelspec": {
   "display_name": "kb-binder",
   "language": "python",
   "name": "python3"
  },
  "language_info": {
   "codemirror_mode": {
    "name": "ipython",
    "version": 3
   },
   "file_extension": ".py",
   "mimetype": "text/x-python",
   "name": "python",
   "nbconvert_exporter": "python",
   "pygments_lexer": "ipython3",
   "version": "3.12.9"
  }
 },
 "nbformat": 4,
 "nbformat_minor": 5
}
